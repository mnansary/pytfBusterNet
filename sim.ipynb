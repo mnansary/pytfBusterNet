{
  "nbformat": 4,
  "nbformat_minor": 0,
  "metadata": {
    "colab": {
      "name": "sim.ipynb",
      "version": "0.3.2",
      "provenance": [],
      "include_colab_link": true
    },
    "kernelspec": {
      "name": "python3",
      "display_name": "Python 3"
    },
    "accelerator": "TPU"
  },
  "cells": [
    {
      "cell_type": "markdown",
      "metadata": {
        "id": "view-in-github",
        "colab_type": "text"
      },
      "source": [
        "<a href=\"https://colab.research.google.com/github/mnansary/pytfBusterNet/blob/master/sim.ipynb\" target=\"_parent\"><img src=\"https://colab.research.google.com/assets/colab-badge.svg\" alt=\"Open In Colab\"/></a>"
      ]
    },
    {
      "cell_type": "markdown",
      "metadata": {
        "id": "1ojVYZ7Spzpv",
        "colab_type": "text"
      },
      "source": [
        "# colab specific task\n",
        "*   mount google drive\n",
        "*   change working directory to git repo\n",
        "*   Check TF version\n",
        "*    TPU check\n",
        "\n"
      ]
    },
    {
      "cell_type": "code",
      "metadata": {
        "id": "--q4JaV2ps6z",
        "colab_type": "code",
        "outputId": "c0196024-05bd-457e-bdab-f47a28257749",
        "colab": {
          "base_uri": "https://localhost:8080/",
          "height": 34
        }
      },
      "source": [
        "from google.colab import drive\n",
        "drive.mount('/content/gdrive')\n"
      ],
      "execution_count": 1,
      "outputs": [
        {
          "output_type": "stream",
          "text": [
            "Drive already mounted at /content/gdrive; to attempt to forcibly remount, call drive.mount(\"/content/gdrive\", force_remount=True).\n"
          ],
          "name": "stdout"
        }
      ]
    },
    {
      "cell_type": "code",
      "metadata": {
        "id": "IsVhQoAOqGGW",
        "colab_type": "code",
        "outputId": "ffed7ae0-147c-4f32-fbbe-87f49b91a981",
        "colab": {
          "base_uri": "https://localhost:8080/",
          "height": 34
        }
      },
      "source": [
        "cd /content/gdrive/My\\ Drive/CopyMove/pytfBusterNet/"
      ],
      "execution_count": 2,
      "outputs": [
        {
          "output_type": "stream",
          "text": [
            "/content/gdrive/My Drive/CopyMove/pytfBusterNet\n"
          ],
          "name": "stdout"
        }
      ]
    },
    {
      "cell_type": "code",
      "metadata": {
        "id": "8Vp4y0TiqKJh",
        "colab_type": "code",
        "outputId": "805f4991-ee7c-4f7b-a48b-d206f72a60de",
        "colab": {
          "base_uri": "https://localhost:8080/",
          "height": 340
        }
      },
      "source": [
        "!pip3 install tensorflow==1.13.1"
      ],
      "execution_count": 3,
      "outputs": [
        {
          "output_type": "stream",
          "text": [
            "Requirement already satisfied: tensorflow==1.13.1 in /usr/local/lib/python3.6/dist-packages (1.13.1)\n",
            "Requirement already satisfied: keras-applications>=1.0.6 in /usr/local/lib/python3.6/dist-packages (from tensorflow==1.13.1) (1.0.8)\n",
            "Requirement already satisfied: six>=1.10.0 in /usr/local/lib/python3.6/dist-packages (from tensorflow==1.13.1) (1.12.0)\n",
            "Requirement already satisfied: keras-preprocessing>=1.0.5 in /usr/local/lib/python3.6/dist-packages (from tensorflow==1.13.1) (1.1.0)\n",
            "Requirement already satisfied: grpcio>=1.8.6 in /usr/local/lib/python3.6/dist-packages (from tensorflow==1.13.1) (1.15.0)\n",
            "Requirement already satisfied: termcolor>=1.1.0 in /usr/local/lib/python3.6/dist-packages (from tensorflow==1.13.1) (1.1.0)\n",
            "Requirement already satisfied: gast>=0.2.0 in /usr/local/lib/python3.6/dist-packages (from tensorflow==1.13.1) (0.2.2)\n",
            "Requirement already satisfied: astor>=0.6.0 in /usr/local/lib/python3.6/dist-packages (from tensorflow==1.13.1) (0.8.0)\n",
            "Requirement already satisfied: protobuf>=3.6.1 in /usr/local/lib/python3.6/dist-packages (from tensorflow==1.13.1) (3.7.1)\n",
            "Requirement already satisfied: tensorflow-estimator<1.14.0rc0,>=1.13.0 in /usr/local/lib/python3.6/dist-packages (from tensorflow==1.13.1) (1.13.0)\n",
            "Requirement already satisfied: tensorboard<1.14.0,>=1.13.0 in /usr/local/lib/python3.6/dist-packages (from tensorflow==1.13.1) (1.13.1)\n",
            "Requirement already satisfied: wheel>=0.26 in /usr/local/lib/python3.6/dist-packages (from tensorflow==1.13.1) (0.33.6)\n",
            "Requirement already satisfied: numpy>=1.13.3 in /usr/local/lib/python3.6/dist-packages (from tensorflow==1.13.1) (1.16.5)\n",
            "Requirement already satisfied: absl-py>=0.1.6 in /usr/local/lib/python3.6/dist-packages (from tensorflow==1.13.1) (0.8.0)\n",
            "Requirement already satisfied: h5py in /usr/local/lib/python3.6/dist-packages (from keras-applications>=1.0.6->tensorflow==1.13.1) (2.8.0)\n",
            "Requirement already satisfied: setuptools in /usr/local/lib/python3.6/dist-packages (from protobuf>=3.6.1->tensorflow==1.13.1) (41.2.0)\n",
            "Requirement already satisfied: mock>=2.0.0 in /usr/local/lib/python3.6/dist-packages (from tensorflow-estimator<1.14.0rc0,>=1.13.0->tensorflow==1.13.1) (3.0.5)\n",
            "Requirement already satisfied: markdown>=2.6.8 in /usr/local/lib/python3.6/dist-packages (from tensorboard<1.14.0,>=1.13.0->tensorflow==1.13.1) (3.1.1)\n",
            "Requirement already satisfied: werkzeug>=0.11.15 in /usr/local/lib/python3.6/dist-packages (from tensorboard<1.14.0,>=1.13.0->tensorflow==1.13.1) (0.15.6)\n"
          ],
          "name": "stdout"
        }
      ]
    },
    {
      "cell_type": "markdown",
      "metadata": {
        "id": "692-uM-yqdaF",
        "colab_type": "text"
      },
      "source": [
        "## TPU Check"
      ]
    },
    {
      "cell_type": "code",
      "metadata": {
        "id": "JT9QkSiJqed6",
        "colab_type": "code",
        "outputId": "019a4f06-fa26-4ae8-fa11-5f22c38e4376",
        "colab": {
          "base_uri": "https://localhost:8080/",
          "height": 255
        }
      },
      "source": [
        "import os\n",
        "import pprint\n",
        "import tensorflow as tf\n",
        "\n",
        "if 'COLAB_TPU_ADDR' not in os.environ:\n",
        "  print('ERROR: Not connected to a TPU runtime; please see the first cell in this notebook for instructions!')\n",
        "else:\n",
        "  tpu_address = 'grpc://' + os.environ['COLAB_TPU_ADDR']\n",
        "  print ('TPU address is', tpu_address)\n",
        "\n",
        "  with tf.Session(tpu_address) as session:\n",
        "    devices = session.list_devices()\n",
        "    \n",
        "  print('TPU devices:')\n",
        "  pprint.pprint(devices)\n",
        "\n",
        "tf.__version__"
      ],
      "execution_count": 4,
      "outputs": [
        {
          "output_type": "stream",
          "text": [
            "TPU address is grpc://10.105.178.82:8470\n",
            "TPU devices:\n",
            "[_DeviceAttributes(/job:tpu_worker/replica:0/task:0/device:CPU:0, CPU, -1, 18437138231593257713),\n",
            " _DeviceAttributes(/job:tpu_worker/replica:0/task:0/device:XLA_CPU:0, XLA_CPU, 17179869184, 1245047660100270366),\n",
            " _DeviceAttributes(/job:tpu_worker/replica:0/task:0/device:TPU:0, TPU, 17179869184, 2719730741179217368),\n",
            " _DeviceAttributes(/job:tpu_worker/replica:0/task:0/device:TPU:1, TPU, 17179869184, 12960076316537420554),\n",
            " _DeviceAttributes(/job:tpu_worker/replica:0/task:0/device:TPU:2, TPU, 17179869184, 13061412769639384113),\n",
            " _DeviceAttributes(/job:tpu_worker/replica:0/task:0/device:TPU:3, TPU, 17179869184, 393811878354663601),\n",
            " _DeviceAttributes(/job:tpu_worker/replica:0/task:0/device:TPU:4, TPU, 17179869184, 17349861516814511441),\n",
            " _DeviceAttributes(/job:tpu_worker/replica:0/task:0/device:TPU:5, TPU, 17179869184, 2796547196430024620),\n",
            " _DeviceAttributes(/job:tpu_worker/replica:0/task:0/device:TPU:6, TPU, 17179869184, 7685037092442483988),\n",
            " _DeviceAttributes(/job:tpu_worker/replica:0/task:0/device:TPU:7, TPU, 17179869184, 14805901467482259589),\n",
            " _DeviceAttributes(/job:tpu_worker/replica:0/task:0/device:TPU_SYSTEM:0, TPU_SYSTEM, 8589934592, 16290368487233703797)]\n"
          ],
          "name": "stdout"
        },
        {
          "output_type": "execute_result",
          "data": {
            "text/plain": [
              "'1.13.1'"
            ]
          },
          "metadata": {
            "tags": []
          },
          "execution_count": 4
        }
      ]
    },
    {
      "cell_type": "markdown",
      "metadata": {
        "id": "dxefiHZ4qlHA",
        "colab_type": "text"
      },
      "source": [
        "# Similiarity Model Training"
      ]
    },
    {
      "cell_type": "markdown",
      "metadata": {
        "id": "h7UsHgSoquhJ",
        "colab_type": "text"
      },
      "source": [
        "## IMPORT"
      ]
    },
    {
      "cell_type": "code",
      "metadata": {
        "id": "XO3XPj7hqx2K",
        "colab_type": "code",
        "outputId": "e1d169f7-cb62-4745-c2dd-438113caeff4",
        "colab": {
          "base_uri": "https://localhost:8080/",
          "height": 51
        }
      },
      "source": [
        "# imports for sim_net and loading\n",
        "from BusterNet.models import sim_net\n",
        "import h5py\n",
        "import numpy as np\n",
        "\n",
        "# read data\n",
        "def readh5(d_path):\n",
        "    data=h5py.File(d_path, 'r')\n",
        "    data = np.array(data['data'])\n",
        "    return data\n",
        "\n",
        "# load data\n",
        "d_path=os.path.join(os.getcwd(),'DataSet')\n",
        "Xp=os.path.join(d_path,'X.h5')\n",
        "Ysp=os.path.join(d_path,'Ys.h5')\n",
        "\n",
        "X=readh5(Xp)\n",
        "Ys=readh5(Ysp)\n",
        "print(X.shape)\n",
        "print(Ys.shape)"
      ],
      "execution_count": 5,
      "outputs": [
        {
          "output_type": "stream",
          "text": [
            "(672, 256, 256, 3)\n",
            "(672, 256, 256, 1)\n"
          ],
          "name": "stdout"
        }
      ]
    },
    {
      "cell_type": "markdown",
      "metadata": {
        "id": "blwtSzOarVYM",
        "colab_type": "text"
      },
      "source": [
        "## Compile Model"
      ]
    },
    {
      "cell_type": "code",
      "metadata": {
        "id": "BOro7D1krWYf",
        "colab_type": "code",
        "outputId": "60285c63-a1a3-4d9e-edac-97ce53b6772d",
        "colab": {
          "base_uri": "https://localhost:8080/",
          "height": 1000
        }
      },
      "source": [
        "from tensorflow.keras.optimizers import Adam\n",
        "model=sim_net()\n",
        "model.summary()\n",
        "model.compile(optimizer=Adam(lr=0.01), loss=tf.keras.losses.binary_crossentropy)\n"
      ],
      "execution_count": 6,
      "outputs": [
        {
          "output_type": "stream",
          "text": [
            "WARNING:tensorflow:From /usr/local/lib/python3.6/dist-packages/tensorflow/python/ops/resource_variable_ops.py:435: colocate_with (from tensorflow.python.framework.ops) is deprecated and will be removed in a future version.\n",
            "Instructions for updating:\n",
            "Colocations handled automatically by placer.\n",
            "__________________________________________________________________________________________________\n",
            "Layer (type)                    Output Shape         Param #     Connected to                     \n",
            "==================================================================================================\n",
            "input_1 (InputLayer)            (None, 256, 256, 3)  0                                            \n",
            "__________________________________________________________________________________________________\n",
            "conv2d (Conv2D)                 (None, 256, 256, 64) 1792        input_1[0][0]                    \n",
            "__________________________________________________________________________________________________\n",
            "conv2d_1 (Conv2D)               (None, 256, 256, 64) 36928       conv2d[0][0]                     \n",
            "__________________________________________________________________________________________________\n",
            "max_pooling2d (MaxPooling2D)    (None, 128, 128, 64) 0           conv2d_1[0][0]                   \n",
            "__________________________________________________________________________________________________\n",
            "conv2d_2 (Conv2D)               (None, 128, 128, 128 73856       max_pooling2d[0][0]              \n",
            "__________________________________________________________________________________________________\n",
            "conv2d_3 (Conv2D)               (None, 128, 128, 128 147584      conv2d_2[0][0]                   \n",
            "__________________________________________________________________________________________________\n",
            "max_pooling2d_1 (MaxPooling2D)  (None, 64, 64, 128)  0           conv2d_3[0][0]                   \n",
            "__________________________________________________________________________________________________\n",
            "conv2d_4 (Conv2D)               (None, 64, 64, 256)  295168      max_pooling2d_1[0][0]            \n",
            "__________________________________________________________________________________________________\n",
            "conv2d_5 (Conv2D)               (None, 64, 64, 256)  590080      conv2d_4[0][0]                   \n",
            "__________________________________________________________________________________________________\n",
            "conv2d_6 (Conv2D)               (None, 64, 64, 256)  590080      conv2d_5[0][0]                   \n",
            "__________________________________________________________________________________________________\n",
            "max_pooling2d_2 (MaxPooling2D)  (None, 32, 32, 256)  0           conv2d_6[0][0]                   \n",
            "__________________________________________________________________________________________________\n",
            "conv2d_7 (Conv2D)               (None, 32, 32, 512)  1180160     max_pooling2d_2[0][0]            \n",
            "__________________________________________________________________________________________________\n",
            "conv2d_8 (Conv2D)               (None, 32, 32, 512)  2359808     conv2d_7[0][0]                   \n",
            "__________________________________________________________________________________________________\n",
            "conv2d_9 (Conv2D)               (None, 32, 32, 512)  2359808     conv2d_8[0][0]                   \n",
            "__________________________________________________________________________________________________\n",
            "max_pooling2d_3 (MaxPooling2D)  (None, 16, 16, 512)  0           conv2d_9[0][0]                   \n",
            "__________________________________________________________________________________________________\n",
            "lambda (Lambda)                 (None, 16, 16, 512)  0           max_pooling2d_3[0][0]            \n",
            "__________________________________________________________________________________________________\n",
            "lambda_1 (Lambda)               (None, 16, 16, 100)  0           lambda[0][0]                     \n",
            "__________________________________________________________________________________________________\n",
            "batch_normalization_v1 (BatchNo (None, 16, 16, 100)  400         lambda_1[0][0]                   \n",
            "__________________________________________________________________________________________________\n",
            "lambda_2 (Lambda)               (None, 32, 32, 100)  0           batch_normalization_v1[0][0]     \n",
            "__________________________________________________________________________________________________\n",
            "lambda_3 (Lambda)               (None, 64, 64, 100)  0           lambda_2[0][0]                   \n",
            "__________________________________________________________________________________________________\n",
            "lambda_5 (Lambda)               (None, 128, 128, 100 0           lambda_3[0][0]                   \n",
            "__________________________________________________________________________________________________\n",
            "conv2d_19 (Conv2D)              (None, 128, 128, 2)  202         lambda_5[0][0]                   \n",
            "__________________________________________________________________________________________________\n",
            "conv2d_20 (Conv2D)              (None, 128, 128, 2)  1802        lambda_5[0][0]                   \n",
            "__________________________________________________________________________________________________\n",
            "conv2d_21 (Conv2D)              (None, 128, 128, 2)  5002        lambda_5[0][0]                   \n",
            "__________________________________________________________________________________________________\n",
            "concatenate_5 (Concatenate)     (None, 128, 128, 6)  0           conv2d_19[0][0]                  \n",
            "                                                                 conv2d_20[0][0]                  \n",
            "                                                                 conv2d_21[0][0]                  \n",
            "__________________________________________________________________________________________________\n",
            "batch_normalization_v1_4 (Batch (None, 128, 128, 6)  24          concatenate_5[0][0]              \n",
            "__________________________________________________________________________________________________\n",
            "activation_3 (Activation)       (None, 128, 128, 6)  0           batch_normalization_v1_4[0][0]   \n",
            "__________________________________________________________________________________________________\n",
            "lambda_7 (Lambda)               (None, 256, 256, 100 0           lambda_5[0][0]                   \n",
            "__________________________________________________________________________________________________\n",
            "lambda_8 (Lambda)               (None, 256, 256, 6)  0           activation_3[0][0]               \n",
            "__________________________________________________________________________________________________\n",
            "concatenate_6 (Concatenate)     (None, 256, 256, 106 0           lambda_7[0][0]                   \n",
            "                                                                 lambda_8[0][0]                   \n",
            "__________________________________________________________________________________________________\n",
            "conv2d_22 (Conv2D)              (None, 256, 256, 2)  214         concatenate_6[0][0]              \n",
            "__________________________________________________________________________________________________\n",
            "conv2d_23 (Conv2D)              (None, 256, 256, 2)  1910        concatenate_6[0][0]              \n",
            "__________________________________________________________________________________________________\n",
            "conv2d_24 (Conv2D)              (None, 256, 256, 2)  5302        concatenate_6[0][0]              \n",
            "__________________________________________________________________________________________________\n",
            "concatenate_7 (Concatenate)     (None, 256, 256, 6)  0           conv2d_22[0][0]                  \n",
            "                                                                 conv2d_23[0][0]                  \n",
            "                                                                 conv2d_24[0][0]                  \n",
            "__________________________________________________________________________________________________\n",
            "batch_normalization_v1_5 (Batch (None, 256, 256, 6)  24          concatenate_7[0][0]              \n",
            "__________________________________________________________________________________________________\n",
            "activation_4 (Activation)       (None, 256, 256, 6)  0           batch_normalization_v1_5[0][0]   \n",
            "__________________________________________________________________________________________________\n",
            "concatenate_8 (Concatenate)     (None, 256, 256, 106 0           lambda_7[0][0]                   \n",
            "                                                                 activation_4[0][0]               \n",
            "__________________________________________________________________________________________________\n",
            "conv2d_25 (Conv2D)              (None, 256, 256, 2)  5302        concatenate_8[0][0]              \n",
            "__________________________________________________________________________________________________\n",
            "conv2d_26 (Conv2D)              (None, 256, 256, 2)  10390       concatenate_8[0][0]              \n",
            "__________________________________________________________________________________________________\n",
            "conv2d_27 (Conv2D)              (None, 256, 256, 2)  25654       concatenate_8[0][0]              \n",
            "__________________________________________________________________________________________________\n",
            "concatenate_9 (Concatenate)     (None, 256, 256, 6)  0           conv2d_25[0][0]                  \n",
            "                                                                 conv2d_26[0][0]                  \n",
            "                                                                 conv2d_27[0][0]                  \n",
            "__________________________________________________________________________________________________\n",
            "batch_normalization_v1_6 (Batch (None, 256, 256, 6)  24          concatenate_9[0][0]              \n",
            "__________________________________________________________________________________________________\n",
            "activation_5 (Activation)       (None, 256, 256, 6)  0           batch_normalization_v1_6[0][0]   \n",
            "__________________________________________________________________________________________________\n",
            "conv2d_28 (Conv2D)              (None, 256, 256, 1)  55          activation_5[0][0]               \n",
            "==================================================================================================\n",
            "Total params: 7,691,569\n",
            "Trainable params: 7,691,333\n",
            "Non-trainable params: 236\n",
            "__________________________________________________________________________________________________\n"
          ],
          "name": "stdout"
        }
      ]
    },
    {
      "cell_type": "markdown",
      "metadata": {
        "id": "9fqLlsIcrgJ6",
        "colab_type": "text"
      },
      "source": [
        "## Convert Model"
      ]
    },
    {
      "cell_type": "code",
      "metadata": {
        "id": "sLuMCkq5rha3",
        "colab_type": "code",
        "colab": {
          "base_uri": "https://localhost:8080/",
          "height": 459
        },
        "outputId": "6dadd861-e1f4-4729-aeeb-2f24ce4bd046"
      },
      "source": [
        "# This address identifies the TPU we'll use when configuring TensorFlow.\n",
        "TPU_WORKER = 'grpc://' + os.environ['COLAB_TPU_ADDR']\n",
        "tf.logging.set_verbosity(tf.logging.INFO)\n",
        "\n",
        "def convert_model_TPU(model):\n",
        "  return tf.contrib.tpu.keras_to_tpu_model(model,strategy=tf.contrib.tpu.TPUDistributionStrategy(tf.contrib.cluster_resolver.TPUClusterResolver(TPU_WORKER)))\n",
        "\n",
        "model=convert_model_TPU(model)"
      ],
      "execution_count": 7,
      "outputs": [
        {
          "output_type": "stream",
          "text": [
            "\n",
            "WARNING: The TensorFlow contrib module will not be included in TensorFlow 2.0.\n",
            "For more information, please see:\n",
            "  * https://github.com/tensorflow/community/blob/master/rfcs/20180907-contrib-sunset.md\n",
            "  * https://github.com/tensorflow/addons\n",
            "If you depend on functionality not listed there, please file an issue.\n",
            "\n",
            "INFO:tensorflow:Querying Tensorflow master (grpc://10.105.178.82:8470) for TPU system metadata.\n",
            "INFO:tensorflow:Found TPU system:\n",
            "INFO:tensorflow:*** Num TPU Cores: 8\n",
            "INFO:tensorflow:*** Num TPU Workers: 1\n",
            "INFO:tensorflow:*** Num TPU Cores Per Worker: 8\n",
            "INFO:tensorflow:*** Available Device: _DeviceAttributes(/job:worker/replica:0/task:0/device:CPU:0, CPU, -1, 18437138231593257713)\n",
            "INFO:tensorflow:*** Available Device: _DeviceAttributes(/job:worker/replica:0/task:0/device:XLA_CPU:0, XLA_CPU, 17179869184, 1245047660100270366)\n",
            "INFO:tensorflow:*** Available Device: _DeviceAttributes(/job:worker/replica:0/task:0/device:TPU:0, TPU, 17179869184, 2719730741179217368)\n",
            "INFO:tensorflow:*** Available Device: _DeviceAttributes(/job:worker/replica:0/task:0/device:TPU:1, TPU, 17179869184, 12960076316537420554)\n",
            "INFO:tensorflow:*** Available Device: _DeviceAttributes(/job:worker/replica:0/task:0/device:TPU:2, TPU, 17179869184, 13061412769639384113)\n",
            "INFO:tensorflow:*** Available Device: _DeviceAttributes(/job:worker/replica:0/task:0/device:TPU:3, TPU, 17179869184, 393811878354663601)\n",
            "INFO:tensorflow:*** Available Device: _DeviceAttributes(/job:worker/replica:0/task:0/device:TPU:4, TPU, 17179869184, 17349861516814511441)\n",
            "INFO:tensorflow:*** Available Device: _DeviceAttributes(/job:worker/replica:0/task:0/device:TPU:5, TPU, 17179869184, 2796547196430024620)\n",
            "INFO:tensorflow:*** Available Device: _DeviceAttributes(/job:worker/replica:0/task:0/device:TPU:6, TPU, 17179869184, 7685037092442483988)\n",
            "INFO:tensorflow:*** Available Device: _DeviceAttributes(/job:worker/replica:0/task:0/device:TPU:7, TPU, 17179869184, 14805901467482259589)\n",
            "INFO:tensorflow:*** Available Device: _DeviceAttributes(/job:worker/replica:0/task:0/device:TPU_SYSTEM:0, TPU_SYSTEM, 8589934592, 16290368487233703797)\n",
            "WARNING:tensorflow:tpu_model (from tensorflow.contrib.tpu.python.tpu.keras_support) is experimental and may change or be removed at any time, and without warning.\n",
            "INFO:tensorflow:Cloning Adam {'lr': 0.009999999776482582, 'beta_1': 0.8999999761581421, 'beta_2': 0.9990000128746033, 'decay': 0.0, 'epsilon': 1e-07, 'amsgrad': False}\n",
            "INFO:tensorflow:Cloning Adam {'lr': 0.009999999776482582, 'beta_1': 0.8999999761581421, 'beta_2': 0.9990000128746033, 'decay': 0.0, 'epsilon': 1e-07, 'amsgrad': False}\n"
          ],
          "name": "stdout"
        }
      ]
    },
    {
      "cell_type": "markdown",
      "metadata": {
        "id": "XMWNlaqLNIPY",
        "colab_type": "text"
      },
      "source": [
        "## Training Parameters"
      ]
    },
    {
      "cell_type": "code",
      "metadata": {
        "id": "H2Eo7ajbNJOo",
        "colab_type": "code",
        "colab": {
          "base_uri": "https://localhost:8080/",
          "height": 85
        },
        "outputId": "9b710bd5-51c2-4224-9eeb-b0fa53e86db6"
      },
      "source": [
        "from sklearn.model_selection import train_test_split\n",
        "epochs=250\n",
        "batch_size=30\n",
        "Xt,Xv,Yt,Yv = train_test_split(X,Ys, test_size=0.2)\n",
        "print(Xt.shape)\n",
        "print(Xv.shape)\n",
        "print(Yt.shape)\n",
        "print(Yv.shape)"
      ],
      "execution_count": 8,
      "outputs": [
        {
          "output_type": "stream",
          "text": [
            "(537, 256, 256, 3)\n",
            "(135, 256, 256, 3)\n",
            "(537, 256, 256, 1)\n",
            "(135, 256, 256, 1)\n"
          ],
          "name": "stdout"
        }
      ]
    },
    {
      "cell_type": "markdown",
      "metadata": {
        "id": "9nQXx8YRNSyr",
        "colab_type": "text"
      },
      "source": [
        "## Train"
      ]
    },
    {
      "cell_type": "code",
      "metadata": {
        "id": "OWTUQlweNYYN",
        "colab_type": "code",
        "colab": {
          "base_uri": "https://localhost:8080/",
          "height": 1000
        },
        "outputId": "273ab4bf-5f7a-4947-d3ba-ae18ad2657f1"
      },
      "source": [
        "history=model.fit(Xt,Yt,validation_data=(Xv,Yv),epochs=epochs,batch_size=batch_size, verbose=1)"
      ],
      "execution_count": 9,
      "outputs": [
        {
          "output_type": "stream",
          "text": [
            "Train on 537 samples, validate on 135 samples\n",
            "Epoch 1/250\n",
            "INFO:tensorflow:New input shapes; (re-)compiling: mode=train (# of cores 8), [TensorSpec(shape=(3,), dtype=tf.int32, name='core_id0'), TensorSpec(shape=(3, 256, 256, 3), dtype=tf.float32, name='input_1_10'), TensorSpec(shape=(3, 256, 256, 1), dtype=tf.float32, name='conv2d_28_target_30')]\n",
            "INFO:tensorflow:Overriding default placeholder.\n",
            "INFO:tensorflow:Cloning Adam {'lr': 0.009999999776482582, 'beta_1': 0.8999999761581421, 'beta_2': 0.9990000128746033, 'decay': 0.0, 'epsilon': 1e-07, 'amsgrad': False}\n",
            "INFO:tensorflow:Remapping placeholder for input_1\n",
            "WARNING:tensorflow:From /usr/local/lib/python3.6/dist-packages/tensorflow/contrib/tpu/python/tpu/keras_support.py:302: to_float (from tensorflow.python.ops.math_ops) is deprecated and will be removed in a future version.\n",
            "Instructions for updating:\n",
            "Use tf.cast instead.\n",
            "INFO:tensorflow:KerasCrossShard: <tensorflow.python.keras.optimizers.Adam object at 0x7fd0ebc5c710> []\n",
            "WARNING:tensorflow:From /usr/local/lib/python3.6/dist-packages/tensorflow/python/ops/math_ops.py:3066: to_int32 (from tensorflow.python.ops.math_ops) is deprecated and will be removed in a future version.\n",
            "Instructions for updating:\n",
            "Use tf.cast instead.\n",
            "INFO:tensorflow:Started compiling\n",
            "INFO:tensorflow:Finished compiling. Time elapsed: 135.87467408180237 secs\n",
            "INFO:tensorflow:Setting weights on TPU model.\n",
            "INFO:tensorflow:CPU -> TPU lr: 0.009999999776482582 {0.01}\n",
            "INFO:tensorflow:CPU -> TPU beta_1: 0.8999999761581421 {0.9}\n",
            "INFO:tensorflow:CPU -> TPU beta_2: 0.9990000128746033 {0.999}\n",
            "INFO:tensorflow:CPU -> TPU decay: 0.0 {0.0}\n",
            "WARNING:tensorflow:Cannot update non-variable config: epsilon\n",
            "WARNING:tensorflow:Cannot update non-variable config: amsgrad\n",
            "510/537 [===========================>..] - ETA: 8s - loss: 0.3825 INFO:tensorflow:New input shapes; (re-)compiling: mode=eval (# of cores 8), [TensorSpec(shape=(3,), dtype=tf.int32, name='core_id_10'), TensorSpec(shape=(3, 256, 256, 3), dtype=tf.float32, name='input_1_10'), TensorSpec(shape=(3, 256, 256, 1), dtype=tf.float32, name='conv2d_28_target_30')]\n",
            "INFO:tensorflow:Overriding default placeholder.\n",
            "INFO:tensorflow:Cloning Adam {'lr': 0.009999999776482582, 'beta_1': 0.8999999761581421, 'beta_2': 0.9990000128746033, 'decay': 0.0, 'epsilon': 1e-07, 'amsgrad': False}\n",
            "INFO:tensorflow:Remapping placeholder for input_1\n",
            "INFO:tensorflow:KerasCrossShard: <tensorflow.python.keras.optimizers.Adam object at 0x7fd0e3a1fe10> []\n",
            "INFO:tensorflow:Started compiling\n",
            "INFO:tensorflow:Finished compiling. Time elapsed: 75.54681992530823 secs\n",
            "INFO:tensorflow:New input shapes; (re-)compiling: mode=eval (# of cores 8), [TensorSpec(shape=(1,), dtype=tf.int32, name='core_id_10'), TensorSpec(shape=(1, 256, 256, 3), dtype=tf.float32, name='input_1_10'), TensorSpec(shape=(1, 256, 256, 1), dtype=tf.float32, name='conv2d_28_target_30')]\n",
            "INFO:tensorflow:Overriding default placeholder.\n",
            "INFO:tensorflow:Remapping placeholder for input_1\n",
            "INFO:tensorflow:KerasCrossShard: <tensorflow.python.keras.optimizers.Adam object at 0x7fd0e3a1fe10> []\n",
            "INFO:tensorflow:Started compiling\n",
            "INFO:tensorflow:Finished compiling. Time elapsed: 88.03289914131165 secs\n",
            "537/537 [==============================] - 339s 631ms/sample - loss: 0.3710 - val_loss: 0.4567\n",
            "Epoch 2/250\n",
            "537/537 [==============================] - 13s 25ms/sample - loss: 0.1469 - val_loss: 0.4567\n",
            "Epoch 3/250\n",
            "537/537 [==============================] - 13s 24ms/sample - loss: 0.1362 - val_loss: 0.3638\n",
            "Epoch 4/250\n",
            "537/537 [==============================] - 13s 25ms/sample - loss: 0.1329 - val_loss: 0.2024\n",
            "Epoch 5/250\n",
            "537/537 [==============================] - 13s 25ms/sample - loss: 0.1293 - val_loss: 0.1687\n",
            "Epoch 6/250\n",
            "537/537 [==============================] - 13s 25ms/sample - loss: 0.1271 - val_loss: 0.1514\n",
            "Epoch 7/250\n",
            "537/537 [==============================] - 13s 25ms/sample - loss: 0.1267 - val_loss: 0.1474\n",
            "Epoch 8/250\n",
            "537/537 [==============================] - 13s 25ms/sample - loss: 0.1231 - val_loss: 0.1461\n",
            "Epoch 9/250\n",
            "537/537 [==============================] - 13s 24ms/sample - loss: 0.1267 - val_loss: 0.1406\n",
            "Epoch 10/250\n",
            "537/537 [==============================] - 13s 25ms/sample - loss: 0.1253 - val_loss: 0.1396\n",
            "Epoch 11/250\n",
            "537/537 [==============================] - 13s 24ms/sample - loss: 0.1193 - val_loss: 0.1353\n",
            "Epoch 12/250\n",
            "537/537 [==============================] - 13s 24ms/sample - loss: 0.1219 - val_loss: 0.1425\n",
            "Epoch 13/250\n",
            "537/537 [==============================] - 13s 25ms/sample - loss: 0.1155 - val_loss: 0.1358\n",
            "Epoch 14/250\n",
            "537/537 [==============================] - 13s 24ms/sample - loss: 0.1112 - val_loss: 0.1401\n",
            "Epoch 15/250\n",
            "537/537 [==============================] - 13s 24ms/sample - loss: 0.1101 - val_loss: 0.1383\n",
            "Epoch 16/250\n",
            "537/537 [==============================] - 13s 25ms/sample - loss: 0.1116 - val_loss: 0.1331\n",
            "Epoch 17/250\n",
            "537/537 [==============================] - 13s 24ms/sample - loss: 0.1089 - val_loss: 0.1280\n",
            "Epoch 18/250\n",
            "537/537 [==============================] - 13s 25ms/sample - loss: 0.1084 - val_loss: 0.1346\n",
            "Epoch 19/250\n",
            "537/537 [==============================] - 13s 24ms/sample - loss: 0.1029 - val_loss: 0.1221\n",
            "Epoch 20/250\n",
            "537/537 [==============================] - 13s 24ms/sample - loss: 0.1037 - val_loss: 0.1135\n",
            "Epoch 21/250\n",
            "537/537 [==============================] - 13s 24ms/sample - loss: 0.1026 - val_loss: 0.1344\n",
            "Epoch 22/250\n",
            "537/537 [==============================] - 13s 25ms/sample - loss: 0.1018 - val_loss: 0.1180\n",
            "Epoch 23/250\n",
            "537/537 [==============================] - 13s 24ms/sample - loss: 0.0954 - val_loss: 0.1320\n",
            "Epoch 24/250\n",
            "537/537 [==============================] - 13s 24ms/sample - loss: 0.0980 - val_loss: 0.1443\n",
            "Epoch 25/250\n",
            "537/537 [==============================] - 13s 24ms/sample - loss: 0.0980 - val_loss: 0.1063\n",
            "Epoch 26/250\n",
            "537/537 [==============================] - 13s 24ms/sample - loss: 0.0954 - val_loss: 0.1232\n",
            "Epoch 27/250\n",
            "537/537 [==============================] - 13s 24ms/sample - loss: 0.0936 - val_loss: 0.1007\n",
            "Epoch 28/250\n",
            "537/537 [==============================] - 13s 24ms/sample - loss: 0.0943 - val_loss: 0.1523\n",
            "Epoch 29/250\n",
            "537/537 [==============================] - 13s 24ms/sample - loss: 0.0953 - val_loss: 0.0990\n",
            "Epoch 30/250\n",
            "537/537 [==============================] - 13s 24ms/sample - loss: 0.0941 - val_loss: 0.1368\n",
            "Epoch 31/250\n",
            "537/537 [==============================] - 13s 24ms/sample - loss: 0.0907 - val_loss: 0.1460\n",
            "Epoch 32/250\n",
            "537/537 [==============================] - 13s 24ms/sample - loss: 0.0889 - val_loss: 0.0897\n",
            "Epoch 33/250\n",
            "537/537 [==============================] - 13s 24ms/sample - loss: 0.0845 - val_loss: 0.0912\n",
            "Epoch 34/250\n",
            "537/537 [==============================] - 13s 24ms/sample - loss: 0.0847 - val_loss: 0.0896\n",
            "Epoch 35/250\n",
            "537/537 [==============================] - 13s 24ms/sample - loss: 0.0813 - val_loss: 0.0888\n",
            "Epoch 36/250\n",
            "537/537 [==============================] - 13s 24ms/sample - loss: 0.0813 - val_loss: 0.0965\n",
            "Epoch 37/250\n",
            "537/537 [==============================] - 13s 24ms/sample - loss: 0.0822 - val_loss: 0.1468\n",
            "Epoch 38/250\n",
            "537/537 [==============================] - 13s 24ms/sample - loss: 0.0760 - val_loss: 0.2809\n",
            "Epoch 39/250\n",
            "537/537 [==============================] - 13s 24ms/sample - loss: 0.0730 - val_loss: 0.0906\n",
            "Epoch 40/250\n",
            "537/537 [==============================] - 13s 24ms/sample - loss: 0.0691 - val_loss: 0.1310\n",
            "Epoch 41/250\n",
            "537/537 [==============================] - 13s 24ms/sample - loss: 0.0692 - val_loss: 0.1497\n",
            "Epoch 42/250\n",
            "537/537 [==============================] - 13s 24ms/sample - loss: 0.0691 - val_loss: 0.3291\n",
            "Epoch 43/250\n",
            "537/537 [==============================] - 13s 24ms/sample - loss: 0.0639 - val_loss: 0.1374\n",
            "Epoch 44/250\n",
            "537/537 [==============================] - 13s 24ms/sample - loss: 0.0626 - val_loss: 0.1546\n",
            "Epoch 45/250\n",
            "537/537 [==============================] - 13s 24ms/sample - loss: 0.0603 - val_loss: 0.0883\n",
            "Epoch 46/250\n",
            "537/537 [==============================] - 13s 24ms/sample - loss: 0.0588 - val_loss: 0.0887\n",
            "Epoch 47/250\n",
            "537/537 [==============================] - 13s 24ms/sample - loss: 0.0586 - val_loss: 0.1779\n",
            "Epoch 48/250\n",
            "537/537 [==============================] - 13s 24ms/sample - loss: 0.0540 - val_loss: 0.0690\n",
            "Epoch 49/250\n",
            "537/537 [==============================] - 13s 24ms/sample - loss: 0.0569 - val_loss: 0.1238\n",
            "Epoch 50/250\n",
            "537/537 [==============================] - 13s 24ms/sample - loss: 0.0529 - val_loss: 0.0939\n",
            "Epoch 51/250\n",
            "537/537 [==============================] - 13s 24ms/sample - loss: 0.0524 - val_loss: 0.2654\n",
            "Epoch 52/250\n",
            "537/537 [==============================] - 13s 24ms/sample - loss: 0.0501 - val_loss: 0.1870\n",
            "Epoch 53/250\n",
            "537/537 [==============================] - 13s 24ms/sample - loss: 0.0513 - val_loss: 0.0702\n",
            "Epoch 54/250\n",
            "537/537 [==============================] - 13s 24ms/sample - loss: 0.0493 - val_loss: 0.1071\n",
            "Epoch 55/250\n",
            "537/537 [==============================] - 13s 24ms/sample - loss: 0.0489 - val_loss: 0.0936\n",
            "Epoch 56/250\n",
            "537/537 [==============================] - 13s 24ms/sample - loss: 0.0475 - val_loss: 0.1467\n",
            "Epoch 57/250\n",
            "537/537 [==============================] - 13s 24ms/sample - loss: 0.0434 - val_loss: 0.0582\n",
            "Epoch 58/250\n",
            "537/537 [==============================] - 13s 24ms/sample - loss: 0.0428 - val_loss: 0.1385\n",
            "Epoch 59/250\n",
            "537/537 [==============================] - 13s 24ms/sample - loss: 0.0394 - val_loss: 0.2466\n",
            "Epoch 60/250\n",
            "537/537 [==============================] - 13s 24ms/sample - loss: 0.0392 - val_loss: 0.3056\n",
            "Epoch 61/250\n",
            "537/537 [==============================] - 13s 24ms/sample - loss: 0.0390 - val_loss: 0.1017\n",
            "Epoch 62/250\n",
            "537/537 [==============================] - 13s 24ms/sample - loss: 0.0384 - val_loss: 0.0664\n",
            "Epoch 63/250\n",
            "537/537 [==============================] - 13s 24ms/sample - loss: 0.0356 - val_loss: 0.0945\n",
            "Epoch 64/250\n",
            "537/537 [==============================] - 13s 24ms/sample - loss: 0.0373 - val_loss: 0.0853\n",
            "Epoch 65/250\n",
            "537/537 [==============================] - 13s 24ms/sample - loss: 0.0342 - val_loss: 0.0543\n",
            "Epoch 66/250\n",
            "537/537 [==============================] - 13s 24ms/sample - loss: 0.0369 - val_loss: 0.0743\n",
            "Epoch 67/250\n",
            "537/537 [==============================] - 13s 24ms/sample - loss: 0.0370 - val_loss: 0.0740\n",
            "Epoch 68/250\n",
            "537/537 [==============================] - 13s 24ms/sample - loss: 0.0353 - val_loss: 0.1058\n",
            "Epoch 69/250\n",
            "537/537 [==============================] - 13s 24ms/sample - loss: 0.0351 - val_loss: 0.0577\n",
            "Epoch 70/250\n",
            "537/537 [==============================] - 13s 24ms/sample - loss: 0.0321 - val_loss: 0.0774\n",
            "Epoch 71/250\n",
            "537/537 [==============================] - 13s 24ms/sample - loss: 0.0309 - val_loss: 0.0665\n",
            "Epoch 72/250\n",
            "537/537 [==============================] - 13s 24ms/sample - loss: 0.0300 - val_loss: 0.0922\n",
            "Epoch 73/250\n",
            "537/537 [==============================] - 13s 24ms/sample - loss: 0.0294 - val_loss: 0.1391\n",
            "Epoch 74/250\n",
            "537/537 [==============================] - 13s 24ms/sample - loss: 0.0291 - val_loss: 0.0665\n",
            "Epoch 75/250\n",
            "537/537 [==============================] - 13s 24ms/sample - loss: 0.0309 - val_loss: 0.1615\n",
            "Epoch 76/250\n",
            "537/537 [==============================] - 13s 24ms/sample - loss: 0.0302 - val_loss: 0.0487\n",
            "Epoch 77/250\n",
            "537/537 [==============================] - 13s 24ms/sample - loss: 0.0276 - val_loss: 0.0499\n",
            "Epoch 78/250\n",
            "537/537 [==============================] - 13s 24ms/sample - loss: 0.0272 - val_loss: 0.0513\n",
            "Epoch 79/250\n",
            "537/537 [==============================] - 13s 24ms/sample - loss: 0.0263 - val_loss: 0.0543\n",
            "Epoch 80/250\n",
            "537/537 [==============================] - 13s 24ms/sample - loss: 0.0238 - val_loss: 0.0795\n",
            "Epoch 81/250\n",
            "537/537 [==============================] - 13s 24ms/sample - loss: 0.0240 - val_loss: 0.1489\n",
            "Epoch 82/250\n",
            "537/537 [==============================] - 13s 24ms/sample - loss: 0.0248 - val_loss: 0.0496\n",
            "Epoch 83/250\n",
            "537/537 [==============================] - 13s 24ms/sample - loss: 0.0251 - val_loss: 0.0513\n",
            "Epoch 84/250\n",
            "537/537 [==============================] - 13s 24ms/sample - loss: 0.0274 - val_loss: 0.0579\n",
            "Epoch 85/250\n",
            "537/537 [==============================] - 13s 24ms/sample - loss: 0.0272 - val_loss: 0.0710\n",
            "Epoch 86/250\n",
            "537/537 [==============================] - 13s 24ms/sample - loss: 0.0243 - val_loss: 0.0423\n",
            "Epoch 87/250\n",
            "537/537 [==============================] - 13s 24ms/sample - loss: 0.0222 - val_loss: 0.0416\n",
            "Epoch 88/250\n",
            "537/537 [==============================] - 13s 24ms/sample - loss: 0.0229 - val_loss: 0.0548\n",
            "Epoch 89/250\n",
            "537/537 [==============================] - 13s 24ms/sample - loss: 0.0224 - val_loss: 0.0433\n",
            "Epoch 90/250\n",
            "537/537 [==============================] - 13s 24ms/sample - loss: 0.0206 - val_loss: 0.0593\n",
            "Epoch 91/250\n",
            "537/537 [==============================] - 13s 24ms/sample - loss: 0.0209 - val_loss: 0.0411\n",
            "Epoch 92/250\n",
            "537/537 [==============================] - 13s 24ms/sample - loss: 0.0196 - val_loss: 0.0421\n",
            "Epoch 93/250\n",
            "537/537 [==============================] - 13s 24ms/sample - loss: 0.0200 - val_loss: 0.0536\n",
            "Epoch 94/250\n",
            "537/537 [==============================] - 13s 24ms/sample - loss: 0.0197 - val_loss: 0.0410\n",
            "Epoch 95/250\n",
            "537/537 [==============================] - 13s 24ms/sample - loss: 0.0188 - val_loss: 0.0406\n",
            "Epoch 96/250\n",
            "537/537 [==============================] - 13s 24ms/sample - loss: 0.0188 - val_loss: 0.0548\n",
            "Epoch 97/250\n",
            "537/537 [==============================] - 13s 25ms/sample - loss: 0.0189 - val_loss: 0.0483\n",
            "Epoch 98/250\n",
            "537/537 [==============================] - 13s 24ms/sample - loss: 0.0187 - val_loss: 0.0408\n",
            "Epoch 99/250\n",
            "537/537 [==============================] - 13s 24ms/sample - loss: 0.0188 - val_loss: 0.0402\n",
            "Epoch 100/250\n",
            "537/537 [==============================] - 13s 24ms/sample - loss: 0.0173 - val_loss: 0.0503\n",
            "Epoch 101/250\n",
            "537/537 [==============================] - 13s 24ms/sample - loss: 0.0165 - val_loss: 0.0385\n",
            "Epoch 102/250\n",
            "537/537 [==============================] - 13s 24ms/sample - loss: 0.0188 - val_loss: 0.0427\n",
            "Epoch 103/250\n",
            "537/537 [==============================] - 13s 24ms/sample - loss: 0.0214 - val_loss: 0.0422\n",
            "Epoch 104/250\n",
            "537/537 [==============================] - 13s 24ms/sample - loss: 0.0202 - val_loss: 0.0439\n",
            "Epoch 105/250\n",
            "537/537 [==============================] - 13s 24ms/sample - loss: 0.0203 - val_loss: 0.0493\n",
            "Epoch 106/250\n",
            "537/537 [==============================] - 13s 24ms/sample - loss: 0.0179 - val_loss: 0.0437\n",
            "Epoch 107/250\n",
            "537/537 [==============================] - 13s 24ms/sample - loss: 0.0168 - val_loss: 0.0390\n",
            "Epoch 108/250\n",
            "537/537 [==============================] - 13s 24ms/sample - loss: 0.0156 - val_loss: 0.0428\n",
            "Epoch 109/250\n",
            "537/537 [==============================] - 13s 24ms/sample - loss: 0.0153 - val_loss: 0.0417\n",
            "Epoch 110/250\n",
            "537/537 [==============================] - 13s 24ms/sample - loss: 0.0150 - val_loss: 0.0393\n",
            "Epoch 111/250\n",
            "537/537 [==============================] - 13s 24ms/sample - loss: 0.0159 - val_loss: 0.0389\n",
            "Epoch 112/250\n",
            "537/537 [==============================] - 13s 24ms/sample - loss: 0.0172 - val_loss: 0.0393\n",
            "Epoch 113/250\n",
            "537/537 [==============================] - 13s 24ms/sample - loss: 0.0161 - val_loss: 0.0424\n",
            "Epoch 114/250\n",
            "537/537 [==============================] - 13s 24ms/sample - loss: 0.0156 - val_loss: 0.0394\n",
            "Epoch 115/250\n",
            "537/537 [==============================] - 13s 24ms/sample - loss: 0.0150 - val_loss: 0.0413\n",
            "Epoch 116/250\n",
            "537/537 [==============================] - 13s 24ms/sample - loss: 0.0149 - val_loss: 0.0403\n",
            "Epoch 117/250\n",
            "537/537 [==============================] - 13s 24ms/sample - loss: 0.0151 - val_loss: 0.0384\n",
            "Epoch 118/250\n",
            "537/537 [==============================] - 13s 24ms/sample - loss: 0.0143 - val_loss: 0.0395\n",
            "Epoch 119/250\n",
            "537/537 [==============================] - 13s 24ms/sample - loss: 0.0141 - val_loss: 0.0394\n",
            "Epoch 120/250\n",
            "537/537 [==============================] - 13s 24ms/sample - loss: 0.0154 - val_loss: 0.0486\n",
            "Epoch 121/250\n",
            "537/537 [==============================] - 13s 24ms/sample - loss: 0.0145 - val_loss: 0.0423\n",
            "Epoch 122/250\n",
            "537/537 [==============================] - 13s 24ms/sample - loss: 0.0145 - val_loss: 0.0392\n",
            "Epoch 123/250\n",
            "537/537 [==============================] - 13s 24ms/sample - loss: 0.0144 - val_loss: 0.0389\n",
            "Epoch 124/250\n",
            "537/537 [==============================] - 13s 24ms/sample - loss: 0.0140 - val_loss: 0.0391\n",
            "Epoch 125/250\n",
            "537/537 [==============================] - 13s 24ms/sample - loss: 0.0132 - val_loss: 0.0397\n",
            "Epoch 126/250\n",
            "537/537 [==============================] - 13s 24ms/sample - loss: 0.0133 - val_loss: 0.0405\n",
            "Epoch 127/250\n",
            "537/537 [==============================] - 13s 24ms/sample - loss: 0.0152 - val_loss: 0.0418\n",
            "Epoch 128/250\n",
            "537/537 [==============================] - 13s 24ms/sample - loss: 0.0143 - val_loss: 0.0395\n",
            "Epoch 129/250\n",
            "537/537 [==============================] - 13s 24ms/sample - loss: 0.0140 - val_loss: 0.0514\n",
            "Epoch 130/250\n",
            "537/537 [==============================] - 13s 24ms/sample - loss: 0.0139 - val_loss: 0.0449\n",
            "Epoch 131/250\n",
            "537/537 [==============================] - 13s 24ms/sample - loss: 0.0141 - val_loss: 0.0404\n",
            "Epoch 132/250\n",
            "537/537 [==============================] - 13s 24ms/sample - loss: 0.0128 - val_loss: 0.0362\n",
            "Epoch 133/250\n",
            "537/537 [==============================] - 13s 24ms/sample - loss: 0.0128 - val_loss: 0.0396\n",
            "Epoch 134/250\n",
            "537/537 [==============================] - 13s 24ms/sample - loss: 0.0132 - val_loss: 0.0423\n",
            "Epoch 135/250\n",
            "537/537 [==============================] - 13s 24ms/sample - loss: 0.0134 - val_loss: 0.0444\n",
            "Epoch 136/250\n",
            "537/537 [==============================] - 13s 24ms/sample - loss: 0.0126 - val_loss: 0.0377\n",
            "Epoch 137/250\n",
            "537/537 [==============================] - 13s 24ms/sample - loss: 0.0125 - val_loss: 0.0412\n",
            "Epoch 138/250\n",
            "537/537 [==============================] - 13s 24ms/sample - loss: 0.0126 - val_loss: 0.0390\n",
            "Epoch 139/250\n",
            "537/537 [==============================] - 13s 24ms/sample - loss: 0.0117 - val_loss: 0.0392\n",
            "Epoch 140/250\n",
            "537/537 [==============================] - 13s 24ms/sample - loss: 0.0116 - val_loss: 0.0448\n",
            "Epoch 141/250\n",
            "537/537 [==============================] - 13s 24ms/sample - loss: 0.0116 - val_loss: 0.0445\n",
            "Epoch 142/250\n",
            "537/537 [==============================] - 13s 24ms/sample - loss: 0.0113 - val_loss: 0.0397\n",
            "Epoch 143/250\n",
            "537/537 [==============================] - 13s 24ms/sample - loss: 0.0114 - val_loss: 0.0441\n",
            "Epoch 144/250\n",
            "537/537 [==============================] - 13s 24ms/sample - loss: 0.0123 - val_loss: 0.0401\n",
            "Epoch 145/250\n",
            "537/537 [==============================] - 13s 24ms/sample - loss: 0.0123 - val_loss: 0.0406\n",
            "Epoch 146/250\n",
            "537/537 [==============================] - 13s 24ms/sample - loss: 0.0118 - val_loss: 0.0472\n",
            "Epoch 147/250\n",
            "537/537 [==============================] - 13s 24ms/sample - loss: 0.0113 - val_loss: 0.0373\n",
            "Epoch 148/250\n",
            "537/537 [==============================] - 13s 24ms/sample - loss: 0.0113 - val_loss: 0.0434\n",
            "Epoch 149/250\n",
            "537/537 [==============================] - 13s 24ms/sample - loss: 0.0109 - val_loss: 0.0428\n",
            "Epoch 150/250\n",
            "537/537 [==============================] - 13s 24ms/sample - loss: 0.0115 - val_loss: 0.0422\n",
            "Epoch 151/250\n",
            "537/537 [==============================] - 13s 24ms/sample - loss: 0.0121 - val_loss: 0.0399\n",
            "Epoch 152/250\n",
            "537/537 [==============================] - 13s 24ms/sample - loss: 0.0113 - val_loss: 0.0390\n",
            "Epoch 153/250\n",
            "537/537 [==============================] - 13s 24ms/sample - loss: 0.0113 - val_loss: 0.0399\n",
            "Epoch 154/250\n",
            "537/537 [==============================] - 13s 24ms/sample - loss: 0.0114 - val_loss: 0.0381\n",
            "Epoch 155/250\n",
            "537/537 [==============================] - 13s 24ms/sample - loss: 0.0116 - val_loss: 0.0403\n",
            "Epoch 156/250\n",
            "537/537 [==============================] - 13s 24ms/sample - loss: 0.0111 - val_loss: 0.0405\n",
            "Epoch 157/250\n",
            "537/537 [==============================] - 13s 24ms/sample - loss: 0.0108 - val_loss: 0.0438\n",
            "Epoch 158/250\n",
            "537/537 [==============================] - 13s 24ms/sample - loss: 0.0104 - val_loss: 0.0399\n",
            "Epoch 159/250\n",
            "537/537 [==============================] - 13s 24ms/sample - loss: 0.0102 - val_loss: 0.0391\n",
            "Epoch 160/250\n",
            "537/537 [==============================] - 13s 24ms/sample - loss: 0.0106 - val_loss: 0.0552\n",
            "Epoch 161/250\n",
            "537/537 [==============================] - 13s 24ms/sample - loss: 0.0110 - val_loss: 0.0468\n",
            "Epoch 162/250\n",
            "537/537 [==============================] - 13s 24ms/sample - loss: 0.0103 - val_loss: 0.0462\n",
            "Epoch 163/250\n",
            "537/537 [==============================] - 13s 24ms/sample - loss: 0.0099 - val_loss: 0.0514\n",
            "Epoch 164/250\n",
            "537/537 [==============================] - 13s 24ms/sample - loss: 0.0103 - val_loss: 0.0414\n",
            "Epoch 165/250\n",
            "537/537 [==============================] - 13s 24ms/sample - loss: 0.0100 - val_loss: 0.0436\n",
            "Epoch 166/250\n",
            "537/537 [==============================] - 13s 24ms/sample - loss: 0.0099 - val_loss: 0.0529\n",
            "Epoch 167/250\n",
            "537/537 [==============================] - 13s 24ms/sample - loss: 0.0104 - val_loss: 0.0607\n",
            "Epoch 168/250\n",
            "537/537 [==============================] - 13s 24ms/sample - loss: 0.0107 - val_loss: 0.0442\n",
            "Epoch 169/250\n",
            "537/537 [==============================] - 13s 24ms/sample - loss: 0.0109 - val_loss: 0.0439\n",
            "Epoch 170/250\n",
            "537/537 [==============================] - 13s 24ms/sample - loss: 0.0108 - val_loss: 0.0563\n",
            "Epoch 171/250\n",
            "537/537 [==============================] - 13s 24ms/sample - loss: 0.0107 - val_loss: 0.0519\n",
            "Epoch 172/250\n",
            "537/537 [==============================] - 13s 24ms/sample - loss: 0.0103 - val_loss: 0.0474\n",
            "Epoch 173/250\n",
            "537/537 [==============================] - 13s 24ms/sample - loss: 0.0098 - val_loss: 0.0435\n",
            "Epoch 174/250\n",
            "537/537 [==============================] - 13s 24ms/sample - loss: 0.0096 - val_loss: 0.0464\n",
            "Epoch 175/250\n",
            "537/537 [==============================] - 13s 24ms/sample - loss: 0.0092 - val_loss: 0.0606\n",
            "Epoch 176/250\n",
            "537/537 [==============================] - 13s 24ms/sample - loss: 0.0090 - val_loss: 0.0474\n",
            "Epoch 177/250\n",
            "537/537 [==============================] - 13s 24ms/sample - loss: 0.0092 - val_loss: 0.0664\n",
            "Epoch 178/250\n",
            "537/537 [==============================] - 13s 24ms/sample - loss: 0.0094 - val_loss: 0.0449\n",
            "Epoch 179/250\n",
            "537/537 [==============================] - 13s 24ms/sample - loss: 0.0098 - val_loss: 0.0558\n",
            "Epoch 180/250\n",
            "537/537 [==============================] - 13s 24ms/sample - loss: 0.0106 - val_loss: 0.0413\n",
            "Epoch 181/250\n",
            "537/537 [==============================] - 13s 24ms/sample - loss: 0.0113 - val_loss: 0.0441\n",
            "Epoch 182/250\n",
            "537/537 [==============================] - 13s 24ms/sample - loss: 0.0111 - val_loss: 0.0404\n",
            "Epoch 183/250\n",
            "537/537 [==============================] - 13s 24ms/sample - loss: 0.0102 - val_loss: 0.0380\n",
            "Epoch 184/250\n",
            "537/537 [==============================] - 13s 25ms/sample - loss: 0.0100 - val_loss: 0.0380\n",
            "Epoch 185/250\n",
            "537/537 [==============================] - 13s 24ms/sample - loss: 0.0102 - val_loss: 0.0443\n",
            "Epoch 186/250\n",
            "537/537 [==============================] - 13s 24ms/sample - loss: 0.0096 - val_loss: 0.0401\n",
            "Epoch 187/250\n",
            "537/537 [==============================] - 13s 25ms/sample - loss: 0.0090 - val_loss: 0.0387\n",
            "Epoch 188/250\n",
            "537/537 [==============================] - 13s 25ms/sample - loss: 0.0089 - val_loss: 0.0488\n",
            "Epoch 189/250\n",
            "537/537 [==============================] - 13s 25ms/sample - loss: 0.0088 - val_loss: 0.0435\n",
            "Epoch 190/250\n",
            "537/537 [==============================] - 13s 25ms/sample - loss: 0.0092 - val_loss: 0.0418\n",
            "Epoch 191/250\n",
            "537/537 [==============================] - 13s 25ms/sample - loss: 0.0093 - val_loss: 0.0460\n",
            "Epoch 192/250\n",
            "537/537 [==============================] - 13s 25ms/sample - loss: 0.0088 - val_loss: 0.0401\n",
            "Epoch 193/250\n",
            "537/537 [==============================] - 13s 25ms/sample - loss: 0.0085 - val_loss: 0.0376\n",
            "Epoch 194/250\n",
            "537/537 [==============================] - 13s 25ms/sample - loss: 0.0085 - val_loss: 0.0497\n",
            "Epoch 195/250\n",
            "537/537 [==============================] - 13s 25ms/sample - loss: 0.0085 - val_loss: 0.0398\n",
            "Epoch 196/250\n",
            "537/537 [==============================] - 13s 25ms/sample - loss: 0.0084 - val_loss: 0.0412\n",
            "Epoch 197/250\n",
            "537/537 [==============================] - 13s 24ms/sample - loss: 0.0085 - val_loss: 0.0388\n",
            "Epoch 198/250\n",
            "537/537 [==============================] - 13s 25ms/sample - loss: 0.0096 - val_loss: 0.0419\n",
            "Epoch 199/250\n",
            "537/537 [==============================] - 13s 24ms/sample - loss: 0.0094 - val_loss: 0.0457\n",
            "Epoch 200/250\n",
            "537/537 [==============================] - 13s 25ms/sample - loss: 0.0090 - val_loss: 0.0404\n",
            "Epoch 201/250\n",
            "537/537 [==============================] - 13s 24ms/sample - loss: 0.0088 - val_loss: 0.0377\n",
            "Epoch 202/250\n",
            "537/537 [==============================] - 13s 24ms/sample - loss: 0.0088 - val_loss: 0.0393\n",
            "Epoch 203/250\n",
            "537/537 [==============================] - 13s 24ms/sample - loss: 0.0084 - val_loss: 0.0388\n",
            "Epoch 204/250\n",
            "537/537 [==============================] - 13s 25ms/sample - loss: 0.0082 - val_loss: 0.0460\n",
            "Epoch 205/250\n",
            "537/537 [==============================] - 13s 24ms/sample - loss: 0.0087 - val_loss: 0.0456\n",
            "Epoch 206/250\n",
            "537/537 [==============================] - 13s 24ms/sample - loss: 0.0093 - val_loss: 0.0560\n",
            "Epoch 207/250\n",
            "537/537 [==============================] - 13s 24ms/sample - loss: 0.0090 - val_loss: 0.0432\n",
            "Epoch 208/250\n",
            "537/537 [==============================] - 13s 24ms/sample - loss: 0.0083 - val_loss: 0.0395\n",
            "Epoch 209/250\n",
            "537/537 [==============================] - 13s 24ms/sample - loss: 0.0079 - val_loss: 0.0431\n",
            "Epoch 210/250\n",
            "537/537 [==============================] - 13s 24ms/sample - loss: 0.0091 - val_loss: 0.0445\n",
            "Epoch 211/250\n",
            "537/537 [==============================] - 13s 24ms/sample - loss: 0.0097 - val_loss: 0.0390\n",
            "Epoch 212/250\n",
            "537/537 [==============================] - 13s 24ms/sample - loss: 0.0090 - val_loss: 0.0400\n",
            "Epoch 213/250\n",
            "537/537 [==============================] - 13s 24ms/sample - loss: 0.0084 - val_loss: 0.0440\n",
            "Epoch 214/250\n",
            "537/537 [==============================] - 13s 24ms/sample - loss: 0.0098 - val_loss: 0.0506\n",
            "Epoch 215/250\n",
            "537/537 [==============================] - 13s 24ms/sample - loss: 0.0118 - val_loss: 0.0428\n",
            "Epoch 216/250\n",
            "537/537 [==============================] - 13s 24ms/sample - loss: 0.0099 - val_loss: 0.0475\n",
            "Epoch 217/250\n",
            "537/537 [==============================] - 13s 24ms/sample - loss: 0.0099 - val_loss: 0.0499\n",
            "Epoch 218/250\n",
            "537/537 [==============================] - 13s 24ms/sample - loss: 0.0095 - val_loss: 0.0508\n",
            "Epoch 219/250\n",
            "537/537 [==============================] - 13s 24ms/sample - loss: 0.0084 - val_loss: 0.0452\n",
            "Epoch 220/250\n",
            "537/537 [==============================] - 13s 24ms/sample - loss: 0.0079 - val_loss: 0.0500\n",
            "Epoch 221/250\n",
            "537/537 [==============================] - 13s 24ms/sample - loss: 0.0076 - val_loss: 0.0434\n",
            "Epoch 222/250\n",
            "537/537 [==============================] - 13s 24ms/sample - loss: 0.0078 - val_loss: 0.0429\n",
            "Epoch 223/250\n",
            "537/537 [==============================] - 13s 24ms/sample - loss: 0.0077 - val_loss: 0.0441\n",
            "Epoch 224/250\n",
            "537/537 [==============================] - 13s 24ms/sample - loss: 0.0078 - val_loss: 0.0381\n",
            "Epoch 225/250\n",
            "537/537 [==============================] - 13s 24ms/sample - loss: 0.0077 - val_loss: 0.0373\n",
            "Epoch 226/250\n",
            "537/537 [==============================] - 13s 24ms/sample - loss: 0.0078 - val_loss: 0.0375\n",
            "Epoch 227/250\n",
            "537/537 [==============================] - 13s 24ms/sample - loss: 0.0087 - val_loss: 0.0403\n",
            "Epoch 228/250\n",
            "537/537 [==============================] - 13s 24ms/sample - loss: 0.0085 - val_loss: 0.0386\n",
            "Epoch 229/250\n",
            "537/537 [==============================] - 13s 24ms/sample - loss: 0.0085 - val_loss: 0.0507\n",
            "Epoch 230/250\n",
            "537/537 [==============================] - 13s 24ms/sample - loss: 0.0079 - val_loss: 0.0479\n",
            "Epoch 231/250\n",
            "537/537 [==============================] - 13s 24ms/sample - loss: 0.0076 - val_loss: 0.0381\n",
            "Epoch 232/250\n",
            "537/537 [==============================] - 13s 24ms/sample - loss: 0.0075 - val_loss: 0.0460\n",
            "Epoch 233/250\n",
            "537/537 [==============================] - 13s 24ms/sample - loss: 0.0071 - val_loss: 0.0416\n",
            "Epoch 234/250\n",
            "537/537 [==============================] - 13s 24ms/sample - loss: 0.0070 - val_loss: 0.0416\n",
            "Epoch 235/250\n",
            "537/537 [==============================] - 13s 24ms/sample - loss: 0.0071 - val_loss: 0.0390\n",
            "Epoch 236/250\n",
            "537/537 [==============================] - 13s 24ms/sample - loss: 0.0072 - val_loss: 0.0391\n",
            "Epoch 237/250\n",
            "537/537 [==============================] - 13s 24ms/sample - loss: 0.0074 - val_loss: 0.0436\n",
            "Epoch 238/250\n",
            "537/537 [==============================] - 13s 24ms/sample - loss: 0.0075 - val_loss: 0.0498\n",
            "Epoch 239/250\n",
            "537/537 [==============================] - 13s 24ms/sample - loss: 0.0078 - val_loss: 0.0393\n",
            "Epoch 240/250\n",
            "537/537 [==============================] - 13s 24ms/sample - loss: 0.0072 - val_loss: 0.0428\n",
            "Epoch 241/250\n",
            "537/537 [==============================] - 13s 24ms/sample - loss: 0.0070 - val_loss: 0.0419\n",
            "Epoch 242/250\n",
            "537/537 [==============================] - 13s 24ms/sample - loss: 0.0071 - val_loss: 0.0417\n",
            "Epoch 243/250\n",
            "537/537 [==============================] - 13s 24ms/sample - loss: 0.0077 - val_loss: 0.0384\n",
            "Epoch 244/250\n",
            "537/537 [==============================] - 13s 24ms/sample - loss: 0.0073 - val_loss: 0.0422\n",
            "Epoch 245/250\n",
            "537/537 [==============================] - 13s 24ms/sample - loss: 0.0076 - val_loss: 0.0385\n",
            "Epoch 246/250\n",
            "537/537 [==============================] - 13s 24ms/sample - loss: 0.0074 - val_loss: 0.0447\n",
            "Epoch 247/250\n",
            "537/537 [==============================] - 13s 24ms/sample - loss: 0.0075 - val_loss: 0.0421\n",
            "Epoch 248/250\n",
            "537/537 [==============================] - 13s 24ms/sample - loss: 0.0073 - val_loss: 0.0431\n",
            "Epoch 249/250\n",
            "537/537 [==============================] - 13s 24ms/sample - loss: 0.0071 - val_loss: 0.0509\n",
            "Epoch 250/250\n",
            "537/537 [==============================] - 13s 24ms/sample - loss: 0.0072 - val_loss: 0.0422\n"
          ],
          "name": "stdout"
        }
      ]
    },
    {
      "cell_type": "markdown",
      "metadata": {
        "id": "nzx4-kyYbGfI",
        "colab_type": "text"
      },
      "source": [
        "## Save Model Weights"
      ]
    },
    {
      "cell_type": "code",
      "metadata": {
        "id": "t1iTz86KbNed",
        "colab_type": "code",
        "colab": {
          "base_uri": "https://localhost:8080/",
          "height": 170
        },
        "outputId": "ae4087da-efec-45f9-a6b6-53082df1ac3c"
      },
      "source": [
        "model.save_weights('sim_net.h5')"
      ],
      "execution_count": 10,
      "outputs": [
        {
          "output_type": "stream",
          "text": [
            "INFO:tensorflow:Copying TPU weights to the CPU\n",
            "INFO:tensorflow:TPU -> CPU lr: 0.009999999776482582\n",
            "INFO:tensorflow:TPU -> CPU beta_1: 0.8999999761581421\n",
            "INFO:tensorflow:TPU -> CPU beta_2: 0.9990000128746033\n",
            "INFO:tensorflow:TPU -> CPU decay: 0.0\n",
            "INFO:tensorflow:TPU -> CPU epsilon: 1e-07\n",
            "WARNING:tensorflow:Cannot update non-variable config: epsilon\n",
            "INFO:tensorflow:TPU -> CPU amsgrad: False\n",
            "WARNING:tensorflow:Cannot update non-variable config: amsgrad\n"
          ],
          "name": "stdout"
        }
      ]
    },
    {
      "cell_type": "markdown",
      "metadata": {
        "id": "J1M9sjHIbSnf",
        "colab_type": "text"
      },
      "source": [
        "## Plot Training Histoty"
      ]
    },
    {
      "cell_type": "code",
      "metadata": {
        "id": "ndNSS7XIbXaK",
        "colab_type": "code",
        "colab": {
          "base_uri": "https://localhost:8080/",
          "height": 312
        },
        "outputId": "5067ed60-2ed2-4751-aa36-fac64e0b6817"
      },
      "source": [
        "import matplotlib.pyplot as plt\n",
        "%matplotlib inline\n",
        "plt.plot(history.history['loss'])\n",
        "plt.plot(history.history['val_loss'])\n",
        "plt.title('model accuracy')\n",
        "plt.ylabel('loss')\n",
        "plt.xlabel('epoch')\n",
        "plt.legend(['train', 'validation'], loc='upper left')"
      ],
      "execution_count": 11,
      "outputs": [
        {
          "output_type": "execute_result",
          "data": {
            "text/plain": [
              "<matplotlib.legend.Legend at 0x7fd0e28c9128>"
            ]
          },
          "metadata": {
            "tags": []
          },
          "execution_count": 11
        },
        {
          "output_type": "display_data",
          "data": {
            "image/png": "[encoded data removed]",
            "text/plain": [
              "<Figure size 432x288 with 1 Axes>"
            ]
          },
          "metadata": {
            "tags": []
          }
        }
      ]
    }
  ]
}