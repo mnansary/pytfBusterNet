{
  "nbformat": 4,
  "nbformat_minor": 0,
  "metadata": {
    "colab": {
      "name": "main.ipynb",
      "version": "0.3.2",
      "provenance": [],
      "include_colab_link": true
    },
    "kernelspec": {
      "name": "python3",
      "display_name": "Python 3"
    },
    "accelerator": "TPU"
  },
  "cells": [
    {
      "cell_type": "markdown",
      "metadata": {
        "id": "view-in-github",
        "colab_type": "text"
      },
      "source": [
        "<a href=\"https://colab.research.google.com/github/mnansary/pytfBusterNet/blob/master/main.ipynb\" target=\"_parent\"><img src=\"https://colab.research.google.com/assets/colab-badge.svg\" alt=\"Open In Colab\"/></a>"
      ]
    },
    {
      "cell_type": "markdown",
      "metadata": {
        "id": "YDeBMUvvnMLq",
        "colab_type": "text"
      },
      "source": [
        "# colab specific task\n",
        "*   mount google drive\n",
        "*   change working directory to git repo\n",
        "*   Check TF version\n",
        "*    TPU check\n",
        "\n"
      ]
    },
    {
      "cell_type": "code",
      "metadata": {
        "id": "cI51ZAMAnFBD",
        "colab_type": "code",
        "outputId": "6c6e19c4-3360-4488-a57f-35927521b75a",
        "colab": {
          "base_uri": "https://localhost:8080/",
          "height": 34
        }
      },
      "source": [
        "from google.colab import drive\n",
        "drive.mount('/content/gdrive')\n"
      ],
      "execution_count": 1,
      "outputs": [
        {
          "output_type": "stream",
          "text": [
            "Drive already mounted at /content/gdrive; to attempt to forcibly remount, call drive.mount(\"/content/gdrive\", force_remount=True).\n"
          ],
          "name": "stdout"
        }
      ]
    },
    {
      "cell_type": "code",
      "metadata": {
        "id": "HHmLeloUn1AN",
        "colab_type": "code",
        "outputId": "3efe2c5d-c2f5-47e6-8564-063b58001ad2",
        "colab": {
          "base_uri": "https://localhost:8080/",
          "height": 34
        }
      },
      "source": [
        "cd /content/gdrive/My\\ Drive/CopyMove/pytfBusterNet/"
      ],
      "execution_count": 2,
      "outputs": [
        {
          "output_type": "stream",
          "text": [
            "/content/gdrive/My Drive/CopyMove/pytfBusterNet\n"
          ],
          "name": "stdout"
        }
      ]
    },
    {
      "cell_type": "code",
      "metadata": {
        "id": "Cuya7eeNoAJP",
        "colab_type": "code",
        "outputId": "3f16895b-2954-459d-e428-3963821884d5",
        "colab": {
          "base_uri": "https://localhost:8080/",
          "height": 340
        }
      },
      "source": [
        "!pip3 install tensorflow==1.13.1"
      ],
      "execution_count": 3,
      "outputs": [
        {
          "output_type": "stream",
          "text": [
            "Requirement already satisfied: tensorflow==1.13.1 in /usr/local/lib/python3.6/dist-packages (1.13.1)\n",
            "Requirement already satisfied: tensorboard<1.14.0,>=1.13.0 in /usr/local/lib/python3.6/dist-packages (from tensorflow==1.13.1) (1.13.1)\n",
            "Requirement already satisfied: tensorflow-estimator<1.14.0rc0,>=1.13.0 in /usr/local/lib/python3.6/dist-packages (from tensorflow==1.13.1) (1.13.0)\n",
            "Requirement already satisfied: absl-py>=0.1.6 in /usr/local/lib/python3.6/dist-packages (from tensorflow==1.13.1) (0.8.0)\n",
            "Requirement already satisfied: numpy>=1.13.3 in /usr/local/lib/python3.6/dist-packages (from tensorflow==1.13.1) (1.16.5)\n",
            "Requirement already satisfied: grpcio>=1.8.6 in /usr/local/lib/python3.6/dist-packages (from tensorflow==1.13.1) (1.15.0)\n",
            "Requirement already satisfied: wheel>=0.26 in /usr/local/lib/python3.6/dist-packages (from tensorflow==1.13.1) (0.33.6)\n",
            "Requirement already satisfied: six>=1.10.0 in /usr/local/lib/python3.6/dist-packages (from tensorflow==1.13.1) (1.12.0)\n",
            "Requirement already satisfied: astor>=0.6.0 in /usr/local/lib/python3.6/dist-packages (from tensorflow==1.13.1) (0.8.0)\n",
            "Requirement already satisfied: keras-preprocessing>=1.0.5 in /usr/local/lib/python3.6/dist-packages (from tensorflow==1.13.1) (1.1.0)\n",
            "Requirement already satisfied: keras-applications>=1.0.6 in /usr/local/lib/python3.6/dist-packages (from tensorflow==1.13.1) (1.0.8)\n",
            "Requirement already satisfied: protobuf>=3.6.1 in /usr/local/lib/python3.6/dist-packages (from tensorflow==1.13.1) (3.7.1)\n",
            "Requirement already satisfied: gast>=0.2.0 in /usr/local/lib/python3.6/dist-packages (from tensorflow==1.13.1) (0.2.2)\n",
            "Requirement already satisfied: termcolor>=1.1.0 in /usr/local/lib/python3.6/dist-packages (from tensorflow==1.13.1) (1.1.0)\n",
            "Requirement already satisfied: markdown>=2.6.8 in /usr/local/lib/python3.6/dist-packages (from tensorboard<1.14.0,>=1.13.0->tensorflow==1.13.1) (3.1.1)\n",
            "Requirement already satisfied: werkzeug>=0.11.15 in /usr/local/lib/python3.6/dist-packages (from tensorboard<1.14.0,>=1.13.0->tensorflow==1.13.1) (0.15.5)\n",
            "Requirement already satisfied: mock>=2.0.0 in /usr/local/lib/python3.6/dist-packages (from tensorflow-estimator<1.14.0rc0,>=1.13.0->tensorflow==1.13.1) (3.0.5)\n",
            "Requirement already satisfied: h5py in /usr/local/lib/python3.6/dist-packages (from keras-applications>=1.0.6->tensorflow==1.13.1) (2.8.0)\n",
            "Requirement already satisfied: setuptools in /usr/local/lib/python3.6/dist-packages (from protobuf>=3.6.1->tensorflow==1.13.1) (41.2.0)\n"
          ],
          "name": "stdout"
        }
      ]
    },
    {
      "cell_type": "markdown",
      "metadata": {
        "id": "mqyJDiJBBX1E",
        "colab_type": "text"
      },
      "source": [
        "## TPU Check"
      ]
    },
    {
      "cell_type": "code",
      "metadata": {
        "id": "rtxuxRffBHmZ",
        "colab_type": "code",
        "outputId": "cff8a770-11df-4df1-87f5-39babed6ca05",
        "colab": {
          "base_uri": "https://localhost:8080/",
          "height": 255
        }
      },
      "source": [
        "import os\n",
        "import pprint\n",
        "import tensorflow as tf\n",
        "\n",
        "if 'COLAB_TPU_ADDR' not in os.environ:\n",
        "  print('ERROR: Not connected to a TPU runtime; please see the first cell in this notebook for instructions!')\n",
        "else:\n",
        "  tpu_address = 'grpc://' + os.environ['COLAB_TPU_ADDR']\n",
        "  print ('TPU address is', tpu_address)\n",
        "\n",
        "  with tf.Session(tpu_address) as session:\n",
        "    devices = session.list_devices()\n",
        "    \n",
        "  print('TPU devices:')\n",
        "  pprint.pprint(devices)\n",
        "\n",
        "tf.__version__"
      ],
      "execution_count": 4,
      "outputs": [
        {
          "output_type": "stream",
          "text": [
            "TPU address is grpc://10.110.208.90:8470\n",
            "TPU devices:\n",
            "[_DeviceAttributes(/job:tpu_worker/replica:0/task:0/device:CPU:0, CPU, -1, 13849900095548455401),\n",
            " _DeviceAttributes(/job:tpu_worker/replica:0/task:0/device:XLA_CPU:0, XLA_CPU, 17179869184, 7087578239193037491),\n",
            " _DeviceAttributes(/job:tpu_worker/replica:0/task:0/device:TPU:0, TPU, 17179869184, 9374415105526213586),\n",
            " _DeviceAttributes(/job:tpu_worker/replica:0/task:0/device:TPU:1, TPU, 17179869184, 12823212531507121852),\n",
            " _DeviceAttributes(/job:tpu_worker/replica:0/task:0/device:TPU:2, TPU, 17179869184, 10834216392966996874),\n",
            " _DeviceAttributes(/job:tpu_worker/replica:0/task:0/device:TPU:3, TPU, 17179869184, 10393830486862736608),\n",
            " _DeviceAttributes(/job:tpu_worker/replica:0/task:0/device:TPU:4, TPU, 17179869184, 16782088074026870289),\n",
            " _DeviceAttributes(/job:tpu_worker/replica:0/task:0/device:TPU:5, TPU, 17179869184, 11914229742950451560),\n",
            " _DeviceAttributes(/job:tpu_worker/replica:0/task:0/device:TPU:6, TPU, 17179869184, 17581914393295718580),\n",
            " _DeviceAttributes(/job:tpu_worker/replica:0/task:0/device:TPU:7, TPU, 17179869184, 8621953355763316168),\n",
            " _DeviceAttributes(/job:tpu_worker/replica:0/task:0/device:TPU_SYSTEM:0, TPU_SYSTEM, 8589934592, 10840351006991694450)]\n"
          ],
          "name": "stdout"
        },
        {
          "output_type": "execute_result",
          "data": {
            "text/plain": [
              "'1.13.1'"
            ]
          },
          "metadata": {
            "tags": []
          },
          "execution_count": 4
        }
      ]
    },
    {
      "cell_type": "markdown",
      "metadata": {
        "id": "-Wq9KaIBBBel",
        "colab_type": "text"
      },
      "source": [
        "# Manipulation Model Training"
      ]
    },
    {
      "cell_type": "markdown",
      "metadata": {
        "id": "niex3kEVBGIL",
        "colab_type": "text"
      },
      "source": [
        "## IMPORT"
      ]
    },
    {
      "cell_type": "code",
      "metadata": {
        "id": "_2pdzT7bCphW",
        "colab_type": "code",
        "outputId": "2053c8bf-f92b-409f-bc55-9499f9c19101",
        "colab": {
          "base_uri": "https://localhost:8080/",
          "height": 51
        }
      },
      "source": [
        "# imports for man_net and loading\n",
        "from BusterNet.models import man_net\n",
        "import h5py\n",
        "import numpy as np\n",
        "\n",
        "# read data\n",
        "def readh5(d_path):\n",
        "    data=h5py.File(d_path, 'r')\n",
        "    data = np.array(data['data'])\n",
        "    return data\n",
        "\n",
        "# load data\n",
        "d_path=os.path.join(os.getcwd(),'DataSet')\n",
        "Xp=os.path.join(d_path,'X.h5')\n",
        "Ymp=os.path.join(d_path,'Ym.h5')\n",
        "\n",
        "X=readh5(Xp)\n",
        "Ym=readh5(Ymp)\n",
        "print(X.shape)\n",
        "print(Ym.shape)"
      ],
      "execution_count": 5,
      "outputs": [
        {
          "output_type": "stream",
          "text": [
            "(672, 256, 256, 3)\n",
            "(672, 256, 256, 1)\n"
          ],
          "name": "stdout"
        }
      ]
    },
    {
      "cell_type": "markdown",
      "metadata": {
        "id": "IVqj6bhJFA83",
        "colab_type": "text"
      },
      "source": [
        "## Compile Model"
      ]
    },
    {
      "cell_type": "code",
      "metadata": {
        "id": "lLu8k7MdFAg6",
        "colab_type": "code",
        "colab": {
          "base_uri": "https://localhost:8080/",
          "height": 1000
        },
        "outputId": "261920f5-ab1b-433c-84c1-3a058e03fa58"
      },
      "source": [
        "from tensorflow.keras.optimizers import Adam\n",
        "model=man_net()\n",
        "model.summary()\n",
        "model.compile(optimizer=Adam(lr=0.01), loss=tf.keras.losses.binary_crossentropy)\n"
      ],
      "execution_count": 6,
      "outputs": [
        {
          "output_type": "stream",
          "text": [
            "WARNING:tensorflow:From /usr/local/lib/python3.6/dist-packages/tensorflow/python/ops/resource_variable_ops.py:435: colocate_with (from tensorflow.python.framework.ops) is deprecated and will be removed in a future version.\n",
            "Instructions for updating:\n",
            "Colocations handled automatically by placer.\n",
            "__________________________________________________________________________________________________\n",
            "Layer (type)                    Output Shape         Param #     Connected to                     \n",
            "==================================================================================================\n",
            "input_1 (InputLayer)            (None, 256, 256, 3)  0                                            \n",
            "__________________________________________________________________________________________________\n",
            "conv2d (Conv2D)                 (None, 256, 256, 64) 1792        input_1[0][0]                    \n",
            "__________________________________________________________________________________________________\n",
            "conv2d_1 (Conv2D)               (None, 256, 256, 64) 36928       conv2d[0][0]                     \n",
            "__________________________________________________________________________________________________\n",
            "max_pooling2d (MaxPooling2D)    (None, 128, 128, 64) 0           conv2d_1[0][0]                   \n",
            "__________________________________________________________________________________________________\n",
            "conv2d_2 (Conv2D)               (None, 128, 128, 128 73856       max_pooling2d[0][0]              \n",
            "__________________________________________________________________________________________________\n",
            "conv2d_3 (Conv2D)               (None, 128, 128, 128 147584      conv2d_2[0][0]                   \n",
            "__________________________________________________________________________________________________\n",
            "max_pooling2d_1 (MaxPooling2D)  (None, 64, 64, 128)  0           conv2d_3[0][0]                   \n",
            "__________________________________________________________________________________________________\n",
            "conv2d_4 (Conv2D)               (None, 64, 64, 256)  295168      max_pooling2d_1[0][0]            \n",
            "__________________________________________________________________________________________________\n",
            "conv2d_5 (Conv2D)               (None, 64, 64, 256)  590080      conv2d_4[0][0]                   \n",
            "__________________________________________________________________________________________________\n",
            "conv2d_6 (Conv2D)               (None, 64, 64, 256)  590080      conv2d_5[0][0]                   \n",
            "__________________________________________________________________________________________________\n",
            "max_pooling2d_2 (MaxPooling2D)  (None, 32, 32, 256)  0           conv2d_6[0][0]                   \n",
            "__________________________________________________________________________________________________\n",
            "conv2d_7 (Conv2D)               (None, 32, 32, 512)  1180160     max_pooling2d_2[0][0]            \n",
            "__________________________________________________________________________________________________\n",
            "conv2d_8 (Conv2D)               (None, 32, 32, 512)  2359808     conv2d_7[0][0]                   \n",
            "__________________________________________________________________________________________________\n",
            "conv2d_9 (Conv2D)               (None, 32, 32, 512)  2359808     conv2d_8[0][0]                   \n",
            "__________________________________________________________________________________________________\n",
            "max_pooling2d_3 (MaxPooling2D)  (None, 16, 16, 512)  0           conv2d_9[0][0]                   \n",
            "__________________________________________________________________________________________________\n",
            "conv2d_10 (Conv2D)              (None, 16, 16, 8)    4104        max_pooling2d_3[0][0]            \n",
            "__________________________________________________________________________________________________\n",
            "conv2d_11 (Conv2D)              (None, 16, 16, 8)    36872       max_pooling2d_3[0][0]            \n",
            "__________________________________________________________________________________________________\n",
            "conv2d_12 (Conv2D)              (None, 16, 16, 8)    102408      max_pooling2d_3[0][0]            \n",
            "__________________________________________________________________________________________________\n",
            "concatenate (Concatenate)       (None, 16, 16, 24)   0           conv2d_10[0][0]                  \n",
            "                                                                 conv2d_11[0][0]                  \n",
            "                                                                 conv2d_12[0][0]                  \n",
            "__________________________________________________________________________________________________\n",
            "batch_normalization_v1 (BatchNo (None, 16, 16, 24)   96          concatenate[0][0]                \n",
            "__________________________________________________________________________________________________\n",
            "activation (Activation)         (None, 16, 16, 24)   0           batch_normalization_v1[0][0]     \n",
            "__________________________________________________________________________________________________\n",
            "lambda (Lambda)                 (None, 32, 32, 24)   0           activation[0][0]                 \n",
            "__________________________________________________________________________________________________\n",
            "conv2d_13 (Conv2D)              (None, 32, 32, 6)    150         lambda[0][0]                     \n",
            "__________________________________________________________________________________________________\n",
            "conv2d_14 (Conv2D)              (None, 32, 32, 6)    1302        lambda[0][0]                     \n",
            "__________________________________________________________________________________________________\n",
            "conv2d_15 (Conv2D)              (None, 32, 32, 6)    3606        lambda[0][0]                     \n",
            "__________________________________________________________________________________________________\n",
            "concatenate_1 (Concatenate)     (None, 32, 32, 18)   0           conv2d_13[0][0]                  \n",
            "                                                                 conv2d_14[0][0]                  \n",
            "                                                                 conv2d_15[0][0]                  \n",
            "__________________________________________________________________________________________________\n",
            "batch_normalization_v1_1 (Batch (None, 32, 32, 18)   72          concatenate_1[0][0]              \n",
            "__________________________________________________________________________________________________\n",
            "activation_1 (Activation)       (None, 32, 32, 18)   0           batch_normalization_v1_1[0][0]   \n",
            "__________________________________________________________________________________________________\n",
            "lambda_1 (Lambda)               (None, 64, 64, 18)   0           activation_1[0][0]               \n",
            "__________________________________________________________________________________________________\n",
            "conv2d_16 (Conv2D)              (None, 64, 64, 4)    76          lambda_1[0][0]                   \n",
            "__________________________________________________________________________________________________\n",
            "conv2d_17 (Conv2D)              (None, 64, 64, 4)    652         lambda_1[0][0]                   \n",
            "__________________________________________________________________________________________________\n",
            "conv2d_18 (Conv2D)              (None, 64, 64, 4)    1804        lambda_1[0][0]                   \n",
            "__________________________________________________________________________________________________\n",
            "concatenate_2 (Concatenate)     (None, 64, 64, 12)   0           conv2d_16[0][0]                  \n",
            "                                                                 conv2d_17[0][0]                  \n",
            "                                                                 conv2d_18[0][0]                  \n",
            "__________________________________________________________________________________________________\n",
            "batch_normalization_v1_2 (Batch (None, 64, 64, 12)   48          concatenate_2[0][0]              \n",
            "__________________________________________________________________________________________________\n",
            "activation_2 (Activation)       (None, 64, 64, 12)   0           batch_normalization_v1_2[0][0]   \n",
            "__________________________________________________________________________________________________\n",
            "lambda_2 (Lambda)               (None, 128, 128, 12) 0           activation_2[0][0]               \n",
            "__________________________________________________________________________________________________\n",
            "conv2d_19 (Conv2D)              (None, 128, 128, 2)  26          lambda_2[0][0]                   \n",
            "__________________________________________________________________________________________________\n",
            "conv2d_20 (Conv2D)              (None, 128, 128, 2)  218         lambda_2[0][0]                   \n",
            "__________________________________________________________________________________________________\n",
            "conv2d_21 (Conv2D)              (None, 128, 128, 2)  602         lambda_2[0][0]                   \n",
            "__________________________________________________________________________________________________\n",
            "concatenate_3 (Concatenate)     (None, 128, 128, 6)  0           conv2d_19[0][0]                  \n",
            "                                                                 conv2d_20[0][0]                  \n",
            "                                                                 conv2d_21[0][0]                  \n",
            "__________________________________________________________________________________________________\n",
            "batch_normalization_v1_3 (Batch (None, 128, 128, 6)  24          concatenate_3[0][0]              \n",
            "__________________________________________________________________________________________________\n",
            "activation_3 (Activation)       (None, 128, 128, 6)  0           batch_normalization_v1_3[0][0]   \n",
            "__________________________________________________________________________________________________\n",
            "lambda_3 (Lambda)               (None, 256, 256, 6)  0           activation_3[0][0]               \n",
            "__________________________________________________________________________________________________\n",
            "conv2d_22 (Conv2D)              (None, 256, 256, 2)  302         lambda_3[0][0]                   \n",
            "__________________________________________________________________________________________________\n",
            "conv2d_23 (Conv2D)              (None, 256, 256, 2)  590         lambda_3[0][0]                   \n",
            "__________________________________________________________________________________________________\n",
            "conv2d_24 (Conv2D)              (None, 256, 256, 2)  1454        lambda_3[0][0]                   \n",
            "__________________________________________________________________________________________________\n",
            "concatenate_4 (Concatenate)     (None, 256, 256, 6)  0           conv2d_22[0][0]                  \n",
            "                                                                 conv2d_23[0][0]                  \n",
            "                                                                 conv2d_24[0][0]                  \n",
            "__________________________________________________________________________________________________\n",
            "batch_normalization_v1_4 (Batch (None, 256, 256, 6)  24          concatenate_4[0][0]              \n",
            "__________________________________________________________________________________________________\n",
            "activation_4 (Activation)       (None, 256, 256, 6)  0           batch_normalization_v1_4[0][0]   \n",
            "__________________________________________________________________________________________________\n",
            "conv2d_25 (Conv2D)              (None, 256, 256, 1)  55          activation_4[0][0]               \n",
            "==================================================================================================\n",
            "Total params: 7,789,749\n",
            "Trainable params: 7,789,617\n",
            "Non-trainable params: 132\n",
            "__________________________________________________________________________________________________\n"
          ],
          "name": "stdout"
        }
      ]
    },
    {
      "cell_type": "markdown",
      "metadata": {
        "id": "MiHwyIDQGqVB",
        "colab_type": "text"
      },
      "source": [
        "## Convert Model"
      ]
    },
    {
      "cell_type": "code",
      "metadata": {
        "id": "fZqfpN7wGp5X",
        "colab_type": "code",
        "colab": {
          "base_uri": "https://localhost:8080/",
          "height": 459
        },
        "outputId": "d864fc20-7440-4020-a4b9-8a949c58a5eb"
      },
      "source": [
        "# This address identifies the TPU we'll use when configuring TensorFlow.\n",
        "TPU_WORKER = 'grpc://' + os.environ['COLAB_TPU_ADDR']\n",
        "tf.logging.set_verbosity(tf.logging.INFO)\n",
        "\n",
        "def convert_model_TPU(model):\n",
        "  return tf.contrib.tpu.keras_to_tpu_model(model,strategy=tf.contrib.tpu.TPUDistributionStrategy(tf.contrib.cluster_resolver.TPUClusterResolver(TPU_WORKER)))\n",
        "\n",
        "model=convert_model_TPU(model)"
      ],
      "execution_count": 7,
      "outputs": [
        {
          "output_type": "stream",
          "text": [
            "\n",
            "WARNING: The TensorFlow contrib module will not be included in TensorFlow 2.0.\n",
            "For more information, please see:\n",
            "  * https://github.com/tensorflow/community/blob/master/rfcs/20180907-contrib-sunset.md\n",
            "  * https://github.com/tensorflow/addons\n",
            "If you depend on functionality not listed there, please file an issue.\n",
            "\n",
            "INFO:tensorflow:Querying Tensorflow master (grpc://10.110.208.90:8470) for TPU system metadata.\n",
            "INFO:tensorflow:Found TPU system:\n",
            "INFO:tensorflow:*** Num TPU Cores: 8\n",
            "INFO:tensorflow:*** Num TPU Workers: 1\n",
            "INFO:tensorflow:*** Num TPU Cores Per Worker: 8\n",
            "INFO:tensorflow:*** Available Device: _DeviceAttributes(/job:worker/replica:0/task:0/device:CPU:0, CPU, -1, 13849900095548455401)\n",
            "INFO:tensorflow:*** Available Device: _DeviceAttributes(/job:worker/replica:0/task:0/device:XLA_CPU:0, XLA_CPU, 17179869184, 7087578239193037491)\n",
            "INFO:tensorflow:*** Available Device: _DeviceAttributes(/job:worker/replica:0/task:0/device:TPU:0, TPU, 17179869184, 9374415105526213586)\n",
            "INFO:tensorflow:*** Available Device: _DeviceAttributes(/job:worker/replica:0/task:0/device:TPU:1, TPU, 17179869184, 12823212531507121852)\n",
            "INFO:tensorflow:*** Available Device: _DeviceAttributes(/job:worker/replica:0/task:0/device:TPU:2, TPU, 17179869184, 10834216392966996874)\n",
            "INFO:tensorflow:*** Available Device: _DeviceAttributes(/job:worker/replica:0/task:0/device:TPU:3, TPU, 17179869184, 10393830486862736608)\n",
            "INFO:tensorflow:*** Available Device: _DeviceAttributes(/job:worker/replica:0/task:0/device:TPU:4, TPU, 17179869184, 16782088074026870289)\n",
            "INFO:tensorflow:*** Available Device: _DeviceAttributes(/job:worker/replica:0/task:0/device:TPU:5, TPU, 17179869184, 11914229742950451560)\n",
            "INFO:tensorflow:*** Available Device: _DeviceAttributes(/job:worker/replica:0/task:0/device:TPU:6, TPU, 17179869184, 17581914393295718580)\n",
            "INFO:tensorflow:*** Available Device: _DeviceAttributes(/job:worker/replica:0/task:0/device:TPU:7, TPU, 17179869184, 8621953355763316168)\n",
            "INFO:tensorflow:*** Available Device: _DeviceAttributes(/job:worker/replica:0/task:0/device:TPU_SYSTEM:0, TPU_SYSTEM, 8589934592, 10840351006991694450)\n",
            "WARNING:tensorflow:tpu_model (from tensorflow.contrib.tpu.python.tpu.keras_support) is experimental and may change or be removed at any time, and without warning.\n",
            "INFO:tensorflow:Cloning Adam {'lr': 0.009999999776482582, 'beta_1': 0.8999999761581421, 'beta_2': 0.9990000128746033, 'decay': 0.0, 'epsilon': 1e-07, 'amsgrad': False}\n",
            "INFO:tensorflow:Cloning Adam {'lr': 0.009999999776482582, 'beta_1': 0.8999999761581421, 'beta_2': 0.9990000128746033, 'decay': 0.0, 'epsilon': 1e-07, 'amsgrad': False}\n"
          ],
          "name": "stdout"
        }
      ]
    },
    {
      "cell_type": "markdown",
      "metadata": {
        "id": "iFwnouy4HESm",
        "colab_type": "text"
      },
      "source": [
        "## Training Parameters"
      ]
    },
    {
      "cell_type": "code",
      "metadata": {
        "id": "ccZissONHHRk",
        "colab_type": "code",
        "colab": {
          "base_uri": "https://localhost:8080/",
          "height": 85
        },
        "outputId": "3542686e-75be-49c3-fa17-2b2b0a778adf"
      },
      "source": [
        "from sklearn.model_selection import train_test_split\n",
        "epochs=250\n",
        "batch_size=30\n",
        "Xt,Xv,Yt,Yv = train_test_split(X,Ym, test_size=0.2)\n",
        "print(Xt.shape)\n",
        "print(Xv.shape)\n",
        "print(Yt.shape)\n",
        "print(Yv.shape)"
      ],
      "execution_count": 8,
      "outputs": [
        {
          "output_type": "stream",
          "text": [
            "(537, 256, 256, 3)\n",
            "(135, 256, 256, 3)\n",
            "(537, 256, 256, 1)\n",
            "(135, 256, 256, 1)\n"
          ],
          "name": "stdout"
        }
      ]
    },
    {
      "cell_type": "markdown",
      "metadata": {
        "id": "LyJkGjcbHXmp",
        "colab_type": "text"
      },
      "source": [
        "## Train"
      ]
    },
    {
      "cell_type": "code",
      "metadata": {
        "id": "x3hCZ-7fHbWQ",
        "colab_type": "code",
        "colab": {
          "base_uri": "https://localhost:8080/",
          "height": 1000
        },
        "outputId": "d7efdd5f-a72a-4901-d165-bd16a8533456"
      },
      "source": [
        "history=model.fit(Xt,Yt,validation_data=(Xv,Yv),epochs=epochs,batch_size=batch_size, verbose=1)"
      ],
      "execution_count": 9,
      "outputs": [
        {
          "output_type": "stream",
          "text": [
            "Train on 537 samples, validate on 135 samples\n",
            "Epoch 1/250\n",
            "INFO:tensorflow:New input shapes; (re-)compiling: mode=train (# of cores 8), [TensorSpec(shape=(3,), dtype=tf.int32, name='core_id0'), TensorSpec(shape=(3, 256, 256, 3), dtype=tf.float32, name='input_1_10'), TensorSpec(shape=(3, 256, 256, 1), dtype=tf.float32, name='conv2d_25_target_30')]\n",
            "INFO:tensorflow:Overriding default placeholder.\n",
            "INFO:tensorflow:Cloning Adam {'lr': 0.009999999776482582, 'beta_1': 0.8999999761581421, 'beta_2': 0.9990000128746033, 'decay': 0.0, 'epsilon': 1e-07, 'amsgrad': False}\n",
            "INFO:tensorflow:Remapping placeholder for input_1\n",
            "WARNING:tensorflow:From /usr/local/lib/python3.6/dist-packages/tensorflow/contrib/tpu/python/tpu/keras_support.py:302: to_float (from tensorflow.python.ops.math_ops) is deprecated and will be removed in a future version.\n",
            "Instructions for updating:\n",
            "Use tf.cast instead.\n",
            "INFO:tensorflow:KerasCrossShard: <tensorflow.python.keras.optimizers.Adam object at 0x7f1d34f6b518> []\n",
            "WARNING:tensorflow:From /usr/local/lib/python3.6/dist-packages/tensorflow/python/ops/math_ops.py:3066: to_int32 (from tensorflow.python.ops.math_ops) is deprecated and will be removed in a future version.\n",
            "Instructions for updating:\n",
            "Use tf.cast instead.\n",
            "INFO:tensorflow:Started compiling\n",
            "INFO:tensorflow:Finished compiling. Time elapsed: 52.407920837402344 secs\n",
            "INFO:tensorflow:Setting weights on TPU model.\n",
            "INFO:tensorflow:CPU -> TPU lr: 0.009999999776482582 {0.01}\n",
            "INFO:tensorflow:CPU -> TPU beta_1: 0.8999999761581421 {0.9}\n",
            "INFO:tensorflow:CPU -> TPU beta_2: 0.9990000128746033 {0.999}\n",
            "INFO:tensorflow:CPU -> TPU decay: 0.0 {0.0}\n",
            "WARNING:tensorflow:Cannot update non-variable config: epsilon\n",
            "WARNING:tensorflow:Cannot update non-variable config: amsgrad\n",
            "510/537 [===========================>..] - ETA: 4s - loss: 0.3716 INFO:tensorflow:New input shapes; (re-)compiling: mode=eval (# of cores 8), [TensorSpec(shape=(3,), dtype=tf.int32, name='core_id_10'), TensorSpec(shape=(3, 256, 256, 3), dtype=tf.float32, name='input_1_10'), TensorSpec(shape=(3, 256, 256, 1), dtype=tf.float32, name='conv2d_25_target_30')]\n",
            "INFO:tensorflow:Overriding default placeholder.\n",
            "INFO:tensorflow:Cloning Adam {'lr': 0.009999999776482582, 'beta_1': 0.8999999761581421, 'beta_2': 0.9990000128746033, 'decay': 0.0, 'epsilon': 1e-07, 'amsgrad': False}\n",
            "INFO:tensorflow:Remapping placeholder for input_1\n",
            "INFO:tensorflow:KerasCrossShard: <tensorflow.python.keras.optimizers.Adam object at 0x7f1d2a60f278> []\n",
            "INFO:tensorflow:Started compiling\n",
            "INFO:tensorflow:Finished compiling. Time elapsed: 33.15455651283264 secs\n",
            "INFO:tensorflow:New input shapes; (re-)compiling: mode=eval (# of cores 8), [TensorSpec(shape=(1,), dtype=tf.int32, name='core_id_10'), TensorSpec(shape=(1, 256, 256, 3), dtype=tf.float32, name='input_1_10'), TensorSpec(shape=(1, 256, 256, 1), dtype=tf.float32, name='conv2d_25_target_30')]\n",
            "INFO:tensorflow:Overriding default placeholder.\n",
            "INFO:tensorflow:Remapping placeholder for input_1\n",
            "INFO:tensorflow:KerasCrossShard: <tensorflow.python.keras.optimizers.Adam object at 0x7f1d2a60f278> []\n",
            "INFO:tensorflow:Started compiling\n",
            "INFO:tensorflow:Finished compiling. Time elapsed: 14.03532099723816 secs\n",
            "537/537 [==============================] - 142s 264ms/sample - loss: 0.3571 - val_loss: 0.3011\n",
            "Epoch 2/250\n",
            "537/537 [==============================] - 11s 21ms/sample - loss: 0.0798 - val_loss: 0.3013\n",
            "Epoch 3/250\n",
            "537/537 [==============================] - 11s 21ms/sample - loss: 0.0816 - val_loss: 0.3011\n",
            "Epoch 4/250\n",
            "537/537 [==============================] - 11s 21ms/sample - loss: 0.0822 - val_loss: 0.3012\n",
            "Epoch 5/250\n",
            "537/537 [==============================] - 11s 21ms/sample - loss: 0.0772 - val_loss: 0.2863\n",
            "Epoch 6/250\n",
            "537/537 [==============================] - 11s 21ms/sample - loss: 0.0772 - val_loss: 0.1896\n",
            "Epoch 7/250\n",
            "537/537 [==============================] - 11s 21ms/sample - loss: 0.0755 - val_loss: 0.1688\n",
            "Epoch 8/250\n",
            "537/537 [==============================] - 11s 21ms/sample - loss: 0.0763 - val_loss: 0.0925\n",
            "Epoch 9/250\n",
            "537/537 [==============================] - 11s 21ms/sample - loss: 0.0773 - val_loss: 0.1020\n",
            "Epoch 10/250\n",
            "537/537 [==============================] - 11s 21ms/sample - loss: 0.0754 - val_loss: 0.1019\n",
            "Epoch 11/250\n",
            "537/537 [==============================] - 11s 21ms/sample - loss: 0.0772 - val_loss: 0.1127\n",
            "Epoch 12/250\n",
            "537/537 [==============================] - 11s 21ms/sample - loss: 0.0754 - val_loss: 0.0955\n",
            "Epoch 13/250\n",
            "537/537 [==============================] - 11s 21ms/sample - loss: 0.0757 - val_loss: 0.1269\n",
            "Epoch 14/250\n",
            "537/537 [==============================] - 11s 21ms/sample - loss: 0.0744 - val_loss: 0.1194\n",
            "Epoch 15/250\n",
            "537/537 [==============================] - 11s 21ms/sample - loss: 0.0731 - val_loss: 0.0813\n",
            "Epoch 16/250\n",
            "537/537 [==============================] - 11s 21ms/sample - loss: 0.0714 - val_loss: 0.0823\n",
            "Epoch 17/250\n",
            "537/537 [==============================] - 11s 21ms/sample - loss: 0.0733 - val_loss: 0.1191\n",
            "Epoch 18/250\n",
            "537/537 [==============================] - 11s 21ms/sample - loss: 0.0750 - val_loss: 0.0837\n",
            "Epoch 19/250\n",
            "537/537 [==============================] - 11s 21ms/sample - loss: 0.0744 - val_loss: 0.0957\n",
            "Epoch 20/250\n",
            "537/537 [==============================] - 11s 21ms/sample - loss: 0.0702 - val_loss: 0.1020\n",
            "Epoch 21/250\n",
            "537/537 [==============================] - 11s 21ms/sample - loss: 0.0721 - val_loss: 0.1324\n",
            "Epoch 22/250\n",
            "537/537 [==============================] - 11s 21ms/sample - loss: 0.0709 - val_loss: 0.1126\n",
            "Epoch 23/250\n",
            "537/537 [==============================] - 11s 21ms/sample - loss: 0.0694 - val_loss: 0.0915\n",
            "Epoch 24/250\n",
            "537/537 [==============================] - 11s 21ms/sample - loss: 0.0727 - val_loss: 0.1370\n",
            "Epoch 25/250\n",
            "537/537 [==============================] - 11s 21ms/sample - loss: 0.0694 - val_loss: 0.1016\n",
            "Epoch 26/250\n",
            "537/537 [==============================] - 11s 21ms/sample - loss: 0.0689 - val_loss: 0.1102\n",
            "Epoch 27/250\n",
            "537/537 [==============================] - 11s 21ms/sample - loss: 0.0706 - val_loss: 0.1000\n",
            "Epoch 28/250\n",
            "537/537 [==============================] - 11s 21ms/sample - loss: 0.0650 - val_loss: 0.1193\n",
            "Epoch 29/250\n",
            "537/537 [==============================] - 11s 21ms/sample - loss: 0.0677 - val_loss: 0.1514\n",
            "Epoch 30/250\n",
            "537/537 [==============================] - 11s 21ms/sample - loss: 0.0620 - val_loss: 0.0962\n",
            "Epoch 31/250\n",
            "537/537 [==============================] - 11s 21ms/sample - loss: 0.0613 - val_loss: 0.0906\n",
            "Epoch 32/250\n",
            "537/537 [==============================] - 11s 21ms/sample - loss: 0.0625 - val_loss: 0.1888\n",
            "Epoch 33/250\n",
            "537/537 [==============================] - 11s 21ms/sample - loss: 0.0601 - val_loss: 0.2106\n",
            "Epoch 34/250\n",
            "537/537 [==============================] - 11s 21ms/sample - loss: 0.0514 - val_loss: 0.1434\n",
            "Epoch 35/250\n",
            "537/537 [==============================] - 11s 21ms/sample - loss: 0.0532 - val_loss: 0.0738\n",
            "Epoch 36/250\n",
            "537/537 [==============================] - 11s 21ms/sample - loss: 0.0521 - val_loss: 0.1335\n",
            "Epoch 37/250\n",
            "537/537 [==============================] - 11s 21ms/sample - loss: 0.0479 - val_loss: 0.0718\n",
            "Epoch 38/250\n",
            "537/537 [==============================] - 11s 21ms/sample - loss: 0.0451 - val_loss: 0.0912\n",
            "Epoch 39/250\n",
            "537/537 [==============================] - 11s 21ms/sample - loss: 0.0390 - val_loss: 0.1141\n",
            "Epoch 40/250\n",
            "537/537 [==============================] - 11s 21ms/sample - loss: 0.0417 - val_loss: 0.0917\n",
            "Epoch 41/250\n",
            "537/537 [==============================] - 11s 21ms/sample - loss: 0.0431 - val_loss: 0.1014\n",
            "Epoch 42/250\n",
            "537/537 [==============================] - 11s 21ms/sample - loss: 0.0392 - val_loss: 0.0559\n",
            "Epoch 43/250\n",
            "537/537 [==============================] - 11s 21ms/sample - loss: 0.0352 - val_loss: 0.0449\n",
            "Epoch 44/250\n",
            "537/537 [==============================] - 11s 21ms/sample - loss: 0.0349 - val_loss: 0.0827\n",
            "Epoch 45/250\n",
            "537/537 [==============================] - 11s 21ms/sample - loss: 0.0339 - val_loss: 0.0845\n",
            "Epoch 46/250\n",
            "537/537 [==============================] - 11s 21ms/sample - loss: 0.0350 - val_loss: 0.0612\n",
            "Epoch 47/250\n",
            "537/537 [==============================] - 11s 21ms/sample - loss: 0.0366 - val_loss: 0.0686\n",
            "Epoch 48/250\n",
            "537/537 [==============================] - 11s 21ms/sample - loss: 0.0343 - val_loss: 0.0723\n",
            "Epoch 49/250\n",
            "537/537 [==============================] - 11s 21ms/sample - loss: 0.0314 - val_loss: 0.0417\n",
            "Epoch 50/250\n",
            "537/537 [==============================] - 11s 21ms/sample - loss: 0.0292 - val_loss: 0.0368\n",
            "Epoch 51/250\n",
            "537/537 [==============================] - 11s 21ms/sample - loss: 0.0270 - val_loss: 0.0828\n",
            "Epoch 52/250\n",
            "537/537 [==============================] - 11s 21ms/sample - loss: 0.0279 - val_loss: 0.0531\n",
            "Epoch 53/250\n",
            "537/537 [==============================] - 11s 21ms/sample - loss: 0.0264 - val_loss: 0.0532\n",
            "Epoch 54/250\n",
            "537/537 [==============================] - 11s 21ms/sample - loss: 0.0277 - val_loss: 0.0715\n",
            "Epoch 55/250\n",
            "537/537 [==============================] - 11s 21ms/sample - loss: 0.0275 - val_loss: 0.0461\n",
            "Epoch 56/250\n",
            "537/537 [==============================] - 11s 21ms/sample - loss: 0.0265 - val_loss: 0.0414\n",
            "Epoch 57/250\n",
            "537/537 [==============================] - 11s 21ms/sample - loss: 0.0255 - val_loss: 0.0570\n",
            "Epoch 58/250\n",
            "537/537 [==============================] - 11s 21ms/sample - loss: 0.0250 - val_loss: 0.0613\n",
            "Epoch 59/250\n",
            "537/537 [==============================] - 11s 21ms/sample - loss: 0.0253 - val_loss: 0.0802\n",
            "Epoch 60/250\n",
            "537/537 [==============================] - 11s 21ms/sample - loss: 0.0239 - val_loss: 0.0464\n",
            "Epoch 61/250\n",
            "537/537 [==============================] - 11s 21ms/sample - loss: 0.0247 - val_loss: 0.0747\n",
            "Epoch 62/250\n",
            "537/537 [==============================] - 11s 21ms/sample - loss: 0.0242 - val_loss: 0.0415\n",
            "Epoch 63/250\n",
            "537/537 [==============================] - 11s 21ms/sample - loss: 0.0216 - val_loss: 0.0518\n",
            "Epoch 64/250\n",
            "537/537 [==============================] - 11s 21ms/sample - loss: 0.0228 - val_loss: 0.0491\n",
            "Epoch 65/250\n",
            "537/537 [==============================] - 11s 21ms/sample - loss: 0.0222 - val_loss: 0.0391\n",
            "Epoch 66/250\n",
            "537/537 [==============================] - 11s 21ms/sample - loss: 0.0224 - val_loss: 0.0357\n",
            "Epoch 67/250\n",
            "537/537 [==============================] - 11s 21ms/sample - loss: 0.0208 - val_loss: 0.0388\n",
            "Epoch 68/250\n",
            "537/537 [==============================] - 11s 21ms/sample - loss: 0.0204 - val_loss: 0.0540\n",
            "Epoch 69/250\n",
            "537/537 [==============================] - 11s 21ms/sample - loss: 0.0204 - val_loss: 0.0324\n",
            "Epoch 70/250\n",
            "537/537 [==============================] - 11s 21ms/sample - loss: 0.0198 - val_loss: 0.0373\n",
            "Epoch 71/250\n",
            "537/537 [==============================] - 11s 21ms/sample - loss: 0.0194 - val_loss: 0.0319\n",
            "Epoch 72/250\n",
            "537/537 [==============================] - 11s 21ms/sample - loss: 0.0188 - val_loss: 0.0300\n",
            "Epoch 73/250\n",
            "537/537 [==============================] - 11s 21ms/sample - loss: 0.0191 - val_loss: 0.0360\n",
            "Epoch 74/250\n",
            "537/537 [==============================] - 11s 21ms/sample - loss: 0.0194 - val_loss: 0.0480\n",
            "Epoch 75/250\n",
            "537/537 [==============================] - 11s 21ms/sample - loss: 0.0188 - val_loss: 0.0337\n",
            "Epoch 76/250\n",
            "537/537 [==============================] - 11s 21ms/sample - loss: 0.0177 - val_loss: 0.0320\n",
            "Epoch 77/250\n",
            "537/537 [==============================] - 11s 21ms/sample - loss: 0.0173 - val_loss: 0.0306\n",
            "Epoch 78/250\n",
            "537/537 [==============================] - 11s 21ms/sample - loss: 0.0181 - val_loss: 0.0440\n",
            "Epoch 79/250\n",
            "537/537 [==============================] - 11s 21ms/sample - loss: 0.0184 - val_loss: 0.0512\n",
            "Epoch 80/250\n",
            "537/537 [==============================] - 11s 21ms/sample - loss: 0.0172 - val_loss: 0.0462\n",
            "Epoch 81/250\n",
            "537/537 [==============================] - 11s 21ms/sample - loss: 0.0170 - val_loss: 0.0438\n",
            "Epoch 82/250\n",
            "537/537 [==============================] - 11s 21ms/sample - loss: 0.0171 - val_loss: 0.0616\n",
            "Epoch 83/250\n",
            "537/537 [==============================] - 11s 21ms/sample - loss: 0.0176 - val_loss: 0.0305\n",
            "Epoch 84/250\n",
            "537/537 [==============================] - 11s 21ms/sample - loss: 0.0177 - val_loss: 0.0373\n",
            "Epoch 85/250\n",
            "537/537 [==============================] - 11s 21ms/sample - loss: 0.0183 - val_loss: 0.0516\n",
            "Epoch 86/250\n",
            "537/537 [==============================] - 11s 21ms/sample - loss: 0.0179 - val_loss: 0.0332\n",
            "Epoch 87/250\n",
            "537/537 [==============================] - 11s 21ms/sample - loss: 0.0158 - val_loss: 0.0324\n",
            "Epoch 88/250\n",
            "537/537 [==============================] - 11s 21ms/sample - loss: 0.0160 - val_loss: 0.0332\n",
            "Epoch 89/250\n",
            "537/537 [==============================] - 11s 21ms/sample - loss: 0.0158 - val_loss: 0.0446\n",
            "Epoch 90/250\n",
            "537/537 [==============================] - 11s 21ms/sample - loss: 0.0170 - val_loss: 0.0348\n",
            "Epoch 91/250\n",
            "537/537 [==============================] - 11s 21ms/sample - loss: 0.0158 - val_loss: 0.0312\n",
            "Epoch 92/250\n",
            "537/537 [==============================] - 11s 21ms/sample - loss: 0.0155 - val_loss: 0.0326\n",
            "Epoch 93/250\n",
            "537/537 [==============================] - 11s 21ms/sample - loss: 0.0144 - val_loss: 0.0399\n",
            "Epoch 94/250\n",
            "537/537 [==============================] - 11s 21ms/sample - loss: 0.0146 - val_loss: 0.0305\n",
            "Epoch 95/250\n",
            "537/537 [==============================] - 11s 21ms/sample - loss: 0.0151 - val_loss: 0.0349\n",
            "Epoch 96/250\n",
            "537/537 [==============================] - 11s 21ms/sample - loss: 0.0142 - val_loss: 0.0583\n",
            "Epoch 97/250\n",
            "537/537 [==============================] - 11s 21ms/sample - loss: 0.0161 - val_loss: 0.0463\n",
            "Epoch 98/250\n",
            "537/537 [==============================] - 11s 21ms/sample - loss: 0.0147 - val_loss: 0.0270\n",
            "Epoch 99/250\n",
            "537/537 [==============================] - 11s 21ms/sample - loss: 0.0151 - val_loss: 0.0390\n",
            "Epoch 100/250\n",
            "537/537 [==============================] - 11s 21ms/sample - loss: 0.0149 - val_loss: 0.0307\n",
            "Epoch 101/250\n",
            "537/537 [==============================] - 11s 21ms/sample - loss: 0.0138 - val_loss: 0.0290\n",
            "Epoch 102/250\n",
            "537/537 [==============================] - 11s 21ms/sample - loss: 0.0133 - val_loss: 0.0304\n",
            "Epoch 103/250\n",
            "537/537 [==============================] - 11s 21ms/sample - loss: 0.0130 - val_loss: 0.0337\n",
            "Epoch 104/250\n",
            "537/537 [==============================] - 11s 21ms/sample - loss: 0.0125 - val_loss: 0.0337\n",
            "Epoch 105/250\n",
            "537/537 [==============================] - 11s 21ms/sample - loss: 0.0139 - val_loss: 0.0286\n",
            "Epoch 106/250\n",
            "537/537 [==============================] - 11s 21ms/sample - loss: 0.0134 - val_loss: 0.0315\n",
            "Epoch 107/250\n",
            "537/537 [==============================] - 11s 21ms/sample - loss: 0.0128 - val_loss: 0.0318\n",
            "Epoch 108/250\n",
            "537/537 [==============================] - 11s 21ms/sample - loss: 0.0128 - val_loss: 0.0490\n",
            "Epoch 109/250\n",
            "537/537 [==============================] - 11s 21ms/sample - loss: 0.0132 - val_loss: 0.0289\n",
            "Epoch 110/250\n",
            "537/537 [==============================] - 11s 21ms/sample - loss: 0.0133 - val_loss: 0.0299\n",
            "Epoch 111/250\n",
            "537/537 [==============================] - 11s 21ms/sample - loss: 0.0125 - val_loss: 0.0369\n",
            "Epoch 112/250\n",
            "537/537 [==============================] - 11s 21ms/sample - loss: 0.0120 - val_loss: 0.0344\n",
            "Epoch 113/250\n",
            "537/537 [==============================] - 11s 21ms/sample - loss: 0.0122 - val_loss: 0.0327\n",
            "Epoch 114/250\n",
            "537/537 [==============================] - 11s 21ms/sample - loss: 0.0120 - val_loss: 0.0457\n",
            "Epoch 115/250\n",
            "537/537 [==============================] - 11s 21ms/sample - loss: 0.0122 - val_loss: 0.0346\n",
            "Epoch 116/250\n",
            "537/537 [==============================] - 11s 21ms/sample - loss: 0.0117 - val_loss: 0.0289\n",
            "Epoch 117/250\n",
            "537/537 [==============================] - 11s 21ms/sample - loss: 0.0117 - val_loss: 0.0272\n",
            "Epoch 118/250\n",
            "537/537 [==============================] - 11s 21ms/sample - loss: 0.0124 - val_loss: 0.0298\n",
            "Epoch 119/250\n",
            "537/537 [==============================] - 11s 21ms/sample - loss: 0.0119 - val_loss: 0.0314\n",
            "Epoch 120/250\n",
            "537/537 [==============================] - 11s 21ms/sample - loss: 0.0117 - val_loss: 0.0384\n",
            "Epoch 121/250\n",
            "537/537 [==============================] - 11s 21ms/sample - loss: 0.0110 - val_loss: 0.0294\n",
            "Epoch 122/250\n",
            "537/537 [==============================] - 11s 21ms/sample - loss: 0.0112 - val_loss: 0.0262\n",
            "Epoch 123/250\n",
            "537/537 [==============================] - 11s 21ms/sample - loss: 0.0109 - val_loss: 0.0296\n",
            "Epoch 124/250\n",
            "537/537 [==============================] - 11s 21ms/sample - loss: 0.0107 - val_loss: 0.0265\n",
            "Epoch 125/250\n",
            "537/537 [==============================] - 11s 21ms/sample - loss: 0.0106 - val_loss: 0.0288\n",
            "Epoch 126/250\n",
            "537/537 [==============================] - 11s 21ms/sample - loss: 0.0107 - val_loss: 0.0348\n",
            "Epoch 127/250\n",
            "537/537 [==============================] - 11s 21ms/sample - loss: 0.0112 - val_loss: 0.0313\n",
            "Epoch 128/250\n",
            "537/537 [==============================] - 11s 21ms/sample - loss: 0.0116 - val_loss: 0.0404\n",
            "Epoch 129/250\n",
            "537/537 [==============================] - 11s 21ms/sample - loss: 0.0111 - val_loss: 0.0443\n",
            "Epoch 130/250\n",
            "537/537 [==============================] - 11s 21ms/sample - loss: 0.0117 - val_loss: 0.0334\n",
            "Epoch 131/250\n",
            "537/537 [==============================] - 11s 21ms/sample - loss: 0.0114 - val_loss: 0.0332\n",
            "Epoch 132/250\n",
            "537/537 [==============================] - 11s 21ms/sample - loss: 0.0114 - val_loss: 0.0453\n",
            "Epoch 133/250\n",
            "537/537 [==============================] - 11s 21ms/sample - loss: 0.0121 - val_loss: 0.0353\n",
            "Epoch 134/250\n",
            "537/537 [==============================] - 11s 21ms/sample - loss: 0.0133 - val_loss: 0.0365\n",
            "Epoch 135/250\n",
            "537/537 [==============================] - 11s 21ms/sample - loss: 0.0129 - val_loss: 0.0372\n",
            "Epoch 136/250\n",
            "537/537 [==============================] - 11s 21ms/sample - loss: 0.0117 - val_loss: 0.0364\n",
            "Epoch 137/250\n",
            "537/537 [==============================] - 11s 21ms/sample - loss: 0.0101 - val_loss: 0.0457\n",
            "Epoch 138/250\n",
            "537/537 [==============================] - 11s 21ms/sample - loss: 0.0096 - val_loss: 0.0287\n",
            "Epoch 139/250\n",
            "537/537 [==============================] - 11s 21ms/sample - loss: 0.0093 - val_loss: 0.0344\n",
            "Epoch 140/250\n",
            "537/537 [==============================] - 11s 21ms/sample - loss: 0.0098 - val_loss: 0.0383\n",
            "Epoch 141/250\n",
            "537/537 [==============================] - 11s 21ms/sample - loss: 0.0102 - val_loss: 0.0355\n",
            "Epoch 142/250\n",
            "537/537 [==============================] - 11s 21ms/sample - loss: 0.0102 - val_loss: 0.0262\n",
            "Epoch 143/250\n",
            "537/537 [==============================] - 11s 21ms/sample - loss: 0.0093 - val_loss: 0.0324\n",
            "Epoch 144/250\n",
            "537/537 [==============================] - 11s 21ms/sample - loss: 0.0093 - val_loss: 0.0270\n",
            "Epoch 145/250\n",
            "537/537 [==============================] - 11s 21ms/sample - loss: 0.0092 - val_loss: 0.0332\n",
            "Epoch 146/250\n",
            "537/537 [==============================] - 11s 21ms/sample - loss: 0.0087 - val_loss: 0.0310\n",
            "Epoch 147/250\n",
            "537/537 [==============================] - 11s 21ms/sample - loss: 0.0093 - val_loss: 0.0278\n",
            "Epoch 148/250\n",
            "537/537 [==============================] - 11s 20ms/sample - loss: 0.0091 - val_loss: 0.0364\n",
            "Epoch 149/250\n",
            "537/537 [==============================] - 11s 21ms/sample - loss: 0.0086 - val_loss: 0.0355\n",
            "Epoch 150/250\n",
            "537/537 [==============================] - 11s 21ms/sample - loss: 0.0090 - val_loss: 0.0270\n",
            "Epoch 151/250\n",
            "537/537 [==============================] - 11s 21ms/sample - loss: 0.0095 - val_loss: 0.0290\n",
            "Epoch 152/250\n",
            "537/537 [==============================] - 11s 21ms/sample - loss: 0.0086 - val_loss: 0.0292\n",
            "Epoch 153/250\n",
            "537/537 [==============================] - 11s 21ms/sample - loss: 0.0085 - val_loss: 0.0338\n",
            "Epoch 154/250\n",
            "537/537 [==============================] - 11s 21ms/sample - loss: 0.0083 - val_loss: 0.0275\n",
            "Epoch 155/250\n",
            "537/537 [==============================] - 11s 21ms/sample - loss: 0.0084 - val_loss: 0.0297\n",
            "Epoch 156/250\n",
            "537/537 [==============================] - 11s 21ms/sample - loss: 0.0087 - val_loss: 0.0573\n",
            "Epoch 157/250\n",
            "537/537 [==============================] - 11s 21ms/sample - loss: 0.0086 - val_loss: 0.0280\n",
            "Epoch 158/250\n",
            "537/537 [==============================] - 11s 21ms/sample - loss: 0.0087 - val_loss: 0.0349\n",
            "Epoch 159/250\n",
            "537/537 [==============================] - 11s 21ms/sample - loss: 0.0089 - val_loss: 0.0274\n",
            "Epoch 160/250\n",
            "537/537 [==============================] - 11s 21ms/sample - loss: 0.0088 - val_loss: 0.0378\n",
            "Epoch 161/250\n",
            "537/537 [==============================] - 11s 21ms/sample - loss: 0.0089 - val_loss: 0.0331\n",
            "Epoch 162/250\n",
            "537/537 [==============================] - 11s 21ms/sample - loss: 0.0104 - val_loss: 0.0561\n",
            "Epoch 163/250\n",
            "537/537 [==============================] - 11s 21ms/sample - loss: 0.0089 - val_loss: 0.0365\n",
            "Epoch 164/250\n",
            "537/537 [==============================] - 11s 21ms/sample - loss: 0.0083 - val_loss: 0.0296\n",
            "Epoch 165/250\n",
            "537/537 [==============================] - 11s 21ms/sample - loss: 0.0083 - val_loss: 0.0410\n",
            "Epoch 166/250\n",
            "537/537 [==============================] - 11s 21ms/sample - loss: 0.0081 - val_loss: 0.0285\n",
            "Epoch 167/250\n",
            "537/537 [==============================] - 11s 21ms/sample - loss: 0.0083 - val_loss: 0.0313\n",
            "Epoch 168/250\n",
            "537/537 [==============================] - 11s 21ms/sample - loss: 0.0090 - val_loss: 0.0297\n",
            "Epoch 169/250\n",
            "537/537 [==============================] - 11s 21ms/sample - loss: 0.0093 - val_loss: 0.0378\n",
            "Epoch 170/250\n",
            "537/537 [==============================] - 11s 21ms/sample - loss: 0.0091 - val_loss: 0.0336\n",
            "Epoch 171/250\n",
            "537/537 [==============================] - 11s 21ms/sample - loss: 0.0083 - val_loss: 0.0318\n",
            "Epoch 172/250\n",
            "537/537 [==============================] - 11s 21ms/sample - loss: 0.0082 - val_loss: 0.0332\n",
            "Epoch 173/250\n",
            "537/537 [==============================] - 11s 21ms/sample - loss: 0.0082 - val_loss: 0.0300\n",
            "Epoch 174/250\n",
            "537/537 [==============================] - 11s 21ms/sample - loss: 0.0078 - val_loss: 0.0286\n",
            "Epoch 175/250\n",
            "537/537 [==============================] - 11s 21ms/sample - loss: 0.0080 - val_loss: 0.0305\n",
            "Epoch 176/250\n",
            "537/537 [==============================] - 11s 21ms/sample - loss: 0.0081 - val_loss: 0.0290\n",
            "Epoch 177/250\n",
            "537/537 [==============================] - 11s 21ms/sample - loss: 0.0083 - val_loss: 0.0274\n",
            "Epoch 178/250\n",
            "537/537 [==============================] - 11s 21ms/sample - loss: 0.0078 - val_loss: 0.0258\n",
            "Epoch 179/250\n",
            "537/537 [==============================] - 11s 21ms/sample - loss: 0.0078 - val_loss: 0.0345\n",
            "Epoch 180/250\n",
            "537/537 [==============================] - 11s 21ms/sample - loss: 0.0079 - val_loss: 0.0267\n",
            "Epoch 181/250\n",
            "537/537 [==============================] - 11s 21ms/sample - loss: 0.0075 - val_loss: 0.0264\n",
            "Epoch 182/250\n",
            "537/537 [==============================] - 11s 21ms/sample - loss: 0.0076 - val_loss: 0.0327\n",
            "Epoch 183/250\n",
            "537/537 [==============================] - 11s 21ms/sample - loss: 0.0076 - val_loss: 0.0332\n",
            "Epoch 184/250\n",
            "537/537 [==============================] - 11s 21ms/sample - loss: 0.0079 - val_loss: 0.0271\n",
            "Epoch 185/250\n",
            "537/537 [==============================] - 11s 21ms/sample - loss: 0.0081 - val_loss: 0.0282\n",
            "Epoch 186/250\n",
            "537/537 [==============================] - 11s 21ms/sample - loss: 0.0079 - val_loss: 0.0306\n",
            "Epoch 187/250\n",
            "537/537 [==============================] - 11s 21ms/sample - loss: 0.0079 - val_loss: 0.0308\n",
            "Epoch 188/250\n",
            "537/537 [==============================] - 11s 21ms/sample - loss: 0.0080 - val_loss: 0.0256\n",
            "Epoch 189/250\n",
            "537/537 [==============================] - 11s 21ms/sample - loss: 0.0083 - val_loss: 0.0277\n",
            "Epoch 190/250\n",
            "537/537 [==============================] - 11s 21ms/sample - loss: 0.0090 - val_loss: 0.0406\n",
            "Epoch 191/250\n",
            "537/537 [==============================] - 11s 21ms/sample - loss: 0.0081 - val_loss: 0.0347\n",
            "Epoch 192/250\n",
            "537/537 [==============================] - 11s 21ms/sample - loss: 0.0076 - val_loss: 0.0302\n",
            "Epoch 193/250\n",
            "537/537 [==============================] - 11s 21ms/sample - loss: 0.0076 - val_loss: 0.0346\n",
            "Epoch 194/250\n",
            "537/537 [==============================] - 11s 21ms/sample - loss: 0.0078 - val_loss: 0.0316\n",
            "Epoch 195/250\n",
            "537/537 [==============================] - 11s 21ms/sample - loss: 0.0076 - val_loss: 0.0348\n",
            "Epoch 196/250\n",
            "537/537 [==============================] - 11s 21ms/sample - loss: 0.0078 - val_loss: 0.0275\n",
            "Epoch 197/250\n",
            "537/537 [==============================] - 11s 21ms/sample - loss: 0.0074 - val_loss: 0.0284\n",
            "Epoch 198/250\n",
            "537/537 [==============================] - 11s 21ms/sample - loss: 0.0073 - val_loss: 0.0311\n",
            "Epoch 199/250\n",
            "537/537 [==============================] - 11s 21ms/sample - loss: 0.0072 - val_loss: 0.0326\n",
            "Epoch 200/250\n",
            "537/537 [==============================] - 11s 21ms/sample - loss: 0.0072 - val_loss: 0.0442\n",
            "Epoch 201/250\n",
            "537/537 [==============================] - 11s 21ms/sample - loss: 0.0070 - val_loss: 0.0319\n",
            "Epoch 202/250\n",
            "537/537 [==============================] - 11s 21ms/sample - loss: 0.0072 - val_loss: 0.0322\n",
            "Epoch 203/250\n",
            "537/537 [==============================] - 11s 21ms/sample - loss: 0.0071 - val_loss: 0.0339\n",
            "Epoch 204/250\n",
            "537/537 [==============================] - 11s 21ms/sample - loss: 0.0070 - val_loss: 0.0419\n",
            "Epoch 205/250\n",
            "537/537 [==============================] - 11s 21ms/sample - loss: 0.0074 - val_loss: 0.0303\n",
            "Epoch 206/250\n",
            "537/537 [==============================] - 11s 21ms/sample - loss: 0.0074 - val_loss: 0.0255\n",
            "Epoch 207/250\n",
            "537/537 [==============================] - 11s 21ms/sample - loss: 0.0073 - val_loss: 0.0273\n",
            "Epoch 208/250\n",
            "537/537 [==============================] - 11s 21ms/sample - loss: 0.0069 - val_loss: 0.0285\n",
            "Epoch 209/250\n",
            "537/537 [==============================] - 11s 21ms/sample - loss: 0.0068 - val_loss: 0.0291\n",
            "Epoch 210/250\n",
            "537/537 [==============================] - 11s 21ms/sample - loss: 0.0068 - val_loss: 0.0273\n",
            "Epoch 211/250\n",
            "537/537 [==============================] - 11s 21ms/sample - loss: 0.0066 - val_loss: 0.0325\n",
            "Epoch 212/250\n",
            "537/537 [==============================] - 11s 21ms/sample - loss: 0.0065 - val_loss: 0.0277\n",
            "Epoch 213/250\n",
            "537/537 [==============================] - 11s 21ms/sample - loss: 0.0066 - val_loss: 0.0377\n",
            "Epoch 214/250\n",
            "537/537 [==============================] - 11s 21ms/sample - loss: 0.0067 - val_loss: 0.0339\n",
            "Epoch 215/250\n",
            "537/537 [==============================] - 12s 21ms/sample - loss: 0.0067 - val_loss: 0.0315\n",
            "Epoch 216/250\n",
            "537/537 [==============================] - 11s 21ms/sample - loss: 0.0071 - val_loss: 0.0310\n",
            "Epoch 217/250\n",
            "537/537 [==============================] - 11s 21ms/sample - loss: 0.0069 - val_loss: 0.0331\n",
            "Epoch 218/250\n",
            "537/537 [==============================] - 11s 21ms/sample - loss: 0.0068 - val_loss: 0.0320\n",
            "Epoch 219/250\n",
            "537/537 [==============================] - 11s 21ms/sample - loss: 0.0069 - val_loss: 0.0384\n",
            "Epoch 220/250\n",
            "537/537 [==============================] - 11s 21ms/sample - loss: 0.0068 - val_loss: 0.0331\n",
            "Epoch 221/250\n",
            "537/537 [==============================] - 11s 21ms/sample - loss: 0.0070 - val_loss: 0.0418\n",
            "Epoch 222/250\n",
            "537/537 [==============================] - 11s 21ms/sample - loss: 0.0068 - val_loss: 0.0346\n",
            "Epoch 223/250\n",
            "537/537 [==============================] - 11s 21ms/sample - loss: 0.0066 - val_loss: 0.0333\n",
            "Epoch 224/250\n",
            "537/537 [==============================] - 11s 21ms/sample - loss: 0.0065 - val_loss: 0.0307\n",
            "Epoch 225/250\n",
            "537/537 [==============================] - 11s 21ms/sample - loss: 0.0065 - val_loss: 0.0321\n",
            "Epoch 226/250\n",
            "537/537 [==============================] - 11s 21ms/sample - loss: 0.0065 - val_loss: 0.0282\n",
            "Epoch 227/250\n",
            "537/537 [==============================] - 11s 21ms/sample - loss: 0.0068 - val_loss: 0.0353\n",
            "Epoch 228/250\n",
            "537/537 [==============================] - 11s 21ms/sample - loss: 0.0067 - val_loss: 0.0393\n",
            "Epoch 229/250\n",
            "537/537 [==============================] - 11s 21ms/sample - loss: 0.0065 - val_loss: 0.0297\n",
            "Epoch 230/250\n",
            "537/537 [==============================] - 11s 21ms/sample - loss: 0.0064 - val_loss: 0.0382\n",
            "Epoch 231/250\n",
            "537/537 [==============================] - 11s 21ms/sample - loss: 0.0063 - val_loss: 0.0313\n",
            "Epoch 232/250\n",
            "537/537 [==============================] - 11s 21ms/sample - loss: 0.0062 - val_loss: 0.0369\n",
            "Epoch 233/250\n",
            "537/537 [==============================] - 11s 21ms/sample - loss: 0.0068 - val_loss: 0.0329\n",
            "Epoch 234/250\n",
            "537/537 [==============================] - 11s 21ms/sample - loss: 0.0071 - val_loss: 0.0305\n",
            "Epoch 235/250\n",
            "537/537 [==============================] - 11s 21ms/sample - loss: 0.0070 - val_loss: 0.0321\n",
            "Epoch 236/250\n",
            "537/537 [==============================] - 11s 21ms/sample - loss: 0.0068 - val_loss: 0.0367\n",
            "Epoch 237/250\n",
            "537/537 [==============================] - 11s 21ms/sample - loss: 0.0066 - val_loss: 0.0308\n",
            "Epoch 238/250\n",
            "537/537 [==============================] - 11s 21ms/sample - loss: 0.0070 - val_loss: 0.0377\n",
            "Epoch 239/250\n",
            "537/537 [==============================] - 11s 21ms/sample - loss: 0.0071 - val_loss: 0.0314\n",
            "Epoch 240/250\n",
            "537/537 [==============================] - 11s 21ms/sample - loss: 0.0069 - val_loss: 0.0345\n",
            "Epoch 241/250\n",
            "537/537 [==============================] - 11s 21ms/sample - loss: 0.0065 - val_loss: 0.0359\n",
            "Epoch 242/250\n",
            "537/537 [==============================] - 11s 21ms/sample - loss: 0.0063 - val_loss: 0.0369\n",
            "Epoch 243/250\n",
            "537/537 [==============================] - 11s 21ms/sample - loss: 0.0062 - val_loss: 0.0284\n",
            "Epoch 244/250\n",
            "537/537 [==============================] - 11s 21ms/sample - loss: 0.0061 - val_loss: 0.0296\n",
            "Epoch 245/250\n",
            "537/537 [==============================] - 11s 21ms/sample - loss: 0.0064 - val_loss: 0.0301\n",
            "Epoch 246/250\n",
            "537/537 [==============================] - 11s 21ms/sample - loss: 0.0063 - val_loss: 0.0290\n",
            "Epoch 247/250\n",
            "537/537 [==============================] - 11s 21ms/sample - loss: 0.0061 - val_loss: 0.0310\n",
            "Epoch 248/250\n",
            "537/537 [==============================] - 11s 21ms/sample - loss: 0.0060 - val_loss: 0.0281\n",
            "Epoch 249/250\n",
            "537/537 [==============================] - 11s 21ms/sample - loss: 0.0060 - val_loss: 0.0278\n",
            "Epoch 250/250\n",
            "537/537 [==============================] - 11s 21ms/sample - loss: 0.0061 - val_loss: 0.0330\n"
          ],
          "name": "stdout"
        }
      ]
    },
    {
      "cell_type": "markdown",
      "metadata": {
        "id": "oR1wDAzTNiKx",
        "colab_type": "text"
      },
      "source": [
        "## Tarining History"
      ]
    },
    {
      "cell_type": "code",
      "metadata": {
        "id": "NVzatlv9NlqY",
        "colab_type": "code",
        "colab": {
          "base_uri": "https://localhost:8080/",
          "height": 312
        },
        "outputId": "ce34969e-e63b-4061-9dab-3926fbb277f4"
      },
      "source": [
        "import matplotlib.pyplot as plt\n",
        "%matplotlib inline\n",
        "plt.plot(history.history['loss'])\n",
        "plt.plot(history.history['val_loss'])\n",
        "plt.title('model accuracy')\n",
        "plt.ylabel('loss')\n",
        "plt.xlabel('epoch')\n",
        "plt.legend(['train', 'validation'], loc='upper left')"
      ],
      "execution_count": 10,
      "outputs": [
        {
          "output_type": "execute_result",
          "data": {
            "text/plain": [
              "<matplotlib.legend.Legend at 0x7f1d2948e860>"
            ]
          },
          "metadata": {
            "tags": []
          },
          "execution_count": 10
        },
        {
          "output_type": "display_data",
          "data": {
            "image/png": "[encoded data removed]",
            "text/plain": [
              "<Figure size 432x288 with 1 Axes>"
            ]
          },
          "metadata": {
            "tags": []
          }
        }
      ]
    },
    {
      "cell_type": "markdown",
      "metadata": {
        "id": "SYPPJcGgcndo",
        "colab_type": "text"
      },
      "source": [
        "## Save Model "
      ]
    },
    {
      "cell_type": "code",
      "metadata": {
        "id": "qS8O9s1acmCw",
        "colab_type": "code",
        "colab": {
          "base_uri": "https://localhost:8080/",
          "height": 170
        },
        "outputId": "d87b51ea-1305-4072-c73c-73efc0cbf666"
      },
      "source": [
        "model.save_weights('man_net.h5')"
      ],
      "execution_count": 13,
      "outputs": [
        {
          "output_type": "stream",
          "text": [
            "INFO:tensorflow:Copying TPU weights to the CPU\n",
            "INFO:tensorflow:TPU -> CPU lr: 0.009999999776482582\n",
            "INFO:tensorflow:TPU -> CPU beta_1: 0.8999999761581421\n",
            "INFO:tensorflow:TPU -> CPU beta_2: 0.9990000128746033\n",
            "INFO:tensorflow:TPU -> CPU decay: 0.0\n",
            "INFO:tensorflow:TPU -> CPU epsilon: 1e-07\n",
            "WARNING:tensorflow:Cannot update non-variable config: epsilon\n",
            "INFO:tensorflow:TPU -> CPU amsgrad: False\n",
            "WARNING:tensorflow:Cannot update non-variable config: amsgrad\n"
          ],
          "name": "stdout"
        }
      ]
    }
  ]
}