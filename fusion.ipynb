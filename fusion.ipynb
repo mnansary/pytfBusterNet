{
  "nbformat": 4,
  "nbformat_minor": 0,
  "metadata": {
    "colab": {
      "name": "fusion.ipynb",
      "version": "0.3.2",
      "provenance": [],
      "include_colab_link": true
    },
    "kernelspec": {
      "name": "python3",
      "display_name": "Python 3"
    },
    "accelerator": "TPU"
  },
  "cells": [
    {
      "cell_type": "markdown",
      "metadata": {
        "id": "view-in-github",
        "colab_type": "text"
      },
      "source": [
        "<a href=\"https://colab.research.google.com/github/mnansary/pytfBusterNet/blob/master/fusion.ipynb\" target=\"_parent\"><img src=\"https://colab.research.google.com/assets/colab-badge.svg\" alt=\"Open In Colab\"/></a>"
      ]
    },
    {
      "cell_type": "markdown",
      "metadata": {
        "id": "E1J2CLKdouXg",
        "colab_type": "text"
      },
      "source": [
        "# colab specific task\n",
        "*   mount google drive\n",
        "*   change working directory to git repo\n",
        "*   Check TF version\n",
        "*    TPU check\n",
        "\n"
      ]
    },
    {
      "cell_type": "code",
      "metadata": {
        "id": "wgzKSBAbolN8",
        "colab_type": "code",
        "colab": {
          "base_uri": "https://localhost:8080/",
          "height": 34
        },
        "outputId": "3a71f96e-dda1-4ba5-8f74-9b3df0bab755"
      },
      "source": [
        "from google.colab import drive\n",
        "drive.mount('/content/gdrive')"
      ],
      "execution_count": 1,
      "outputs": [
        {
          "output_type": "stream",
          "text": [
            "Drive already mounted at /content/gdrive; to attempt to forcibly remount, call drive.mount(\"/content/gdrive\", force_remount=True).\n"
          ],
          "name": "stdout"
        }
      ]
    },
    {
      "cell_type": "code",
      "metadata": {
        "id": "Tj55wOYuo53N",
        "colab_type": "code",
        "colab": {
          "base_uri": "https://localhost:8080/",
          "height": 34
        },
        "outputId": "be6b500a-030e-4568-aa2f-e97e55f834c3"
      },
      "source": [
        "cd /content/gdrive/My\\ Drive/CopyMove/pytfBusterNet/"
      ],
      "execution_count": 2,
      "outputs": [
        {
          "output_type": "stream",
          "text": [
            "/content/gdrive/My Drive/CopyMove/pytfBusterNet\n"
          ],
          "name": "stdout"
        }
      ]
    },
    {
      "cell_type": "code",
      "metadata": {
        "id": "tv_z9Z-To64I",
        "colab_type": "code",
        "colab": {
          "base_uri": "https://localhost:8080/",
          "height": 340
        },
        "outputId": "1d32c5d5-1500-4785-91f2-f9b2fbb156ef"
      },
      "source": [
        "!pip3 install tensorflow==1.13.1"
      ],
      "execution_count": 3,
      "outputs": [
        {
          "output_type": "stream",
          "text": [
            "Requirement already satisfied: tensorflow==1.13.1 in /usr/local/lib/python3.6/dist-packages (1.13.1)\n",
            "Requirement already satisfied: keras-preprocessing>=1.0.5 in /usr/local/lib/python3.6/dist-packages (from tensorflow==1.13.1) (1.1.0)\n",
            "Requirement already satisfied: wheel>=0.26 in /usr/local/lib/python3.6/dist-packages (from tensorflow==1.13.1) (0.33.6)\n",
            "Requirement already satisfied: protobuf>=3.6.1 in /usr/local/lib/python3.6/dist-packages (from tensorflow==1.13.1) (3.7.1)\n",
            "Requirement already satisfied: keras-applications>=1.0.6 in /usr/local/lib/python3.6/dist-packages (from tensorflow==1.13.1) (1.0.8)\n",
            "Requirement already satisfied: astor>=0.6.0 in /usr/local/lib/python3.6/dist-packages (from tensorflow==1.13.1) (0.8.0)\n",
            "Requirement already satisfied: six>=1.10.0 in /usr/local/lib/python3.6/dist-packages (from tensorflow==1.13.1) (1.12.0)\n",
            "Requirement already satisfied: grpcio>=1.8.6 in /usr/local/lib/python3.6/dist-packages (from tensorflow==1.13.1) (1.15.0)\n",
            "Requirement already satisfied: gast>=0.2.0 in /usr/local/lib/python3.6/dist-packages (from tensorflow==1.13.1) (0.2.2)\n",
            "Requirement already satisfied: tensorflow-estimator<1.14.0rc0,>=1.13.0 in /usr/local/lib/python3.6/dist-packages (from tensorflow==1.13.1) (1.13.0)\n",
            "Requirement already satisfied: termcolor>=1.1.0 in /usr/local/lib/python3.6/dist-packages (from tensorflow==1.13.1) (1.1.0)\n",
            "Requirement already satisfied: absl-py>=0.1.6 in /usr/local/lib/python3.6/dist-packages (from tensorflow==1.13.1) (0.8.0)\n",
            "Requirement already satisfied: tensorboard<1.14.0,>=1.13.0 in /usr/local/lib/python3.6/dist-packages (from tensorflow==1.13.1) (1.13.1)\n",
            "Requirement already satisfied: numpy>=1.13.3 in /usr/local/lib/python3.6/dist-packages (from tensorflow==1.13.1) (1.16.5)\n",
            "Requirement already satisfied: setuptools in /usr/local/lib/python3.6/dist-packages (from protobuf>=3.6.1->tensorflow==1.13.1) (41.2.0)\n",
            "Requirement already satisfied: h5py in /usr/local/lib/python3.6/dist-packages (from keras-applications>=1.0.6->tensorflow==1.13.1) (2.8.0)\n",
            "Requirement already satisfied: mock>=2.0.0 in /usr/local/lib/python3.6/dist-packages (from tensorflow-estimator<1.14.0rc0,>=1.13.0->tensorflow==1.13.1) (3.0.5)\n",
            "Requirement already satisfied: markdown>=2.6.8 in /usr/local/lib/python3.6/dist-packages (from tensorboard<1.14.0,>=1.13.0->tensorflow==1.13.1) (3.1.1)\n",
            "Requirement already satisfied: werkzeug>=0.11.15 in /usr/local/lib/python3.6/dist-packages (from tensorboard<1.14.0,>=1.13.0->tensorflow==1.13.1) (0.15.6)\n"
          ],
          "name": "stdout"
        }
      ]
    },
    {
      "cell_type": "markdown",
      "metadata": {
        "id": "EgOvkV_6pBZY",
        "colab_type": "text"
      },
      "source": [
        "## TPU Check"
      ]
    },
    {
      "cell_type": "code",
      "metadata": {
        "id": "j0LpiBYcpCU-",
        "colab_type": "code",
        "colab": {
          "base_uri": "https://localhost:8080/",
          "height": 255
        },
        "outputId": "6124a5a0-ee80-4711-a9d9-9b15ce8c35aa"
      },
      "source": [
        "import os\n",
        "import pprint\n",
        "import tensorflow as tf\n",
        "\n",
        "if 'COLAB_TPU_ADDR' not in os.environ:\n",
        "  print('ERROR: Not connected to a TPU runtime; please see the first cell in this notebook for instructions!')\n",
        "else:\n",
        "  tpu_address = 'grpc://' + os.environ['COLAB_TPU_ADDR']\n",
        "  print ('TPU address is', tpu_address)\n",
        "\n",
        "  with tf.Session(tpu_address) as session:\n",
        "    devices = session.list_devices()\n",
        "    \n",
        "  print('TPU devices:')\n",
        "  pprint.pprint(devices)\n",
        "\n",
        "tf.__version__"
      ],
      "execution_count": 4,
      "outputs": [
        {
          "output_type": "stream",
          "text": [
            "TPU address is grpc://10.101.157.130:8470\n",
            "TPU devices:\n",
            "[_DeviceAttributes(/job:tpu_worker/replica:0/task:0/device:CPU:0, CPU, -1, 4761961009959105818),\n",
            " _DeviceAttributes(/job:tpu_worker/replica:0/task:0/device:XLA_CPU:0, XLA_CPU, 17179869184, 5638059082635466872),\n",
            " _DeviceAttributes(/job:tpu_worker/replica:0/task:0/device:TPU:0, TPU, 17179869184, 18016856909551166751),\n",
            " _DeviceAttributes(/job:tpu_worker/replica:0/task:0/device:TPU:1, TPU, 17179869184, 6947801159749927165),\n",
            " _DeviceAttributes(/job:tpu_worker/replica:0/task:0/device:TPU:2, TPU, 17179869184, 17060972187671535414),\n",
            " _DeviceAttributes(/job:tpu_worker/replica:0/task:0/device:TPU:3, TPU, 17179869184, 16873963880719943249),\n",
            " _DeviceAttributes(/job:tpu_worker/replica:0/task:0/device:TPU:4, TPU, 17179869184, 1523699779303488709),\n",
            " _DeviceAttributes(/job:tpu_worker/replica:0/task:0/device:TPU:5, TPU, 17179869184, 14906596199184025070),\n",
            " _DeviceAttributes(/job:tpu_worker/replica:0/task:0/device:TPU:6, TPU, 17179869184, 18303067172786003934),\n",
            " _DeviceAttributes(/job:tpu_worker/replica:0/task:0/device:TPU:7, TPU, 17179869184, 11387980976858962598),\n",
            " _DeviceAttributes(/job:tpu_worker/replica:0/task:0/device:TPU_SYSTEM:0, TPU_SYSTEM, 8589934592, 16995379351701383568)]\n"
          ],
          "name": "stdout"
        },
        {
          "output_type": "execute_result",
          "data": {
            "text/plain": [
              "'1.13.1'"
            ]
          },
          "metadata": {
            "tags": []
          },
          "execution_count": 4
        }
      ]
    },
    {
      "cell_type": "markdown",
      "metadata": {
        "id": "gD9jqwS_pox6",
        "colab_type": "text"
      },
      "source": [
        "# Fusion Model Training"
      ]
    },
    {
      "cell_type": "markdown",
      "metadata": {
        "id": "hGAXOp2OptHr",
        "colab_type": "text"
      },
      "source": [
        "## IMPORT"
      ]
    },
    {
      "cell_type": "code",
      "metadata": {
        "id": "Fuq1fO5-prhJ",
        "colab_type": "code",
        "colab": {
          "base_uri": "https://localhost:8080/",
          "height": 85
        },
        "outputId": "7e3581c3-4e1d-480a-f72f-2dc4aac944a0"
      },
      "source": [
        "# imports for fusion_net and loading\n",
        "from BusterNet.models import fusion_net\n",
        "import h5py\n",
        "import numpy as np\n",
        "\n",
        "# read data\n",
        "def readh5(d_path):\n",
        "    data=h5py.File(d_path, 'r')\n",
        "    data = np.array(data['data'])\n",
        "    return data\n",
        "\n",
        "# load data\n",
        "d_path=os.path.join(os.getcwd(),'DataSet')\n",
        "Xmp=os.path.join(d_path,'Xm.h5')\n",
        "Xsp=os.path.join(d_path,'Xs.h5')\n",
        "Yp=os.path.join(d_path,'Y.h5')\n",
        "\n",
        "Xm=readh5(Xmp)\n",
        "Xs=readh5(Xsp)\n",
        "Y=readh5(Yp)\n",
        "\n",
        "print(Xm.shape)\n",
        "print(Xs.shape)\n",
        "print(Y.shape)"
      ],
      "execution_count": 5,
      "outputs": [
        {
          "output_type": "stream",
          "text": [
            "Using TensorFlow backend.\n"
          ],
          "name": "stderr"
        },
        {
          "output_type": "stream",
          "text": [
            "(672, 256, 256, 1)\n",
            "(672, 256, 256, 1)\n",
            "(672, 256, 256, 3)\n"
          ],
          "name": "stdout"
        }
      ]
    },
    {
      "cell_type": "markdown",
      "metadata": {
        "id": "RsTAgjGhqtYg",
        "colab_type": "text"
      },
      "source": [
        "## Compile Model"
      ]
    },
    {
      "cell_type": "code",
      "metadata": {
        "id": "PEHAeZScquMK",
        "colab_type": "code",
        "colab": {
          "base_uri": "https://localhost:8080/",
          "height": 632
        },
        "outputId": "c0d5e981-ae9c-4e75-94fa-ac0505a597c9"
      },
      "source": [
        "from tensorflow.keras.optimizers import Adam\n",
        "model=fusion_net()\n",
        "model.summary()\n",
        "model.compile(optimizer=Adam(lr=0.01), loss=tf.keras.losses.categorical_crossentropy)\n"
      ],
      "execution_count": 7,
      "outputs": [
        {
          "output_type": "stream",
          "text": [
            "WARNING:tensorflow:From /usr/local/lib/python3.6/dist-packages/tensorflow/python/ops/resource_variable_ops.py:435: colocate_with (from tensorflow.python.framework.ops) is deprecated and will be removed in a future version.\n",
            "Instructions for updating:\n",
            "Colocations handled automatically by placer.\n",
            "__________________________________________________________________________________________________\n",
            "Layer (type)                    Output Shape         Param #     Connected to                     \n",
            "==================================================================================================\n",
            "input_1 (InputLayer)            (None, 256, 256, 1)  0                                            \n",
            "__________________________________________________________________________________________________\n",
            "input_2 (InputLayer)            (None, 256, 256, 1)  0                                            \n",
            "__________________________________________________________________________________________________\n",
            "concatenate (Concatenate)       (None, 256, 256, 2)  0           input_1[0][0]                    \n",
            "                                                                 input_2[0][0]                    \n",
            "__________________________________________________________________________________________________\n",
            "conv2d (Conv2D)                 (None, 256, 256, 3)  9           concatenate[0][0]                \n",
            "__________________________________________________________________________________________________\n",
            "conv2d_1 (Conv2D)               (None, 256, 256, 3)  57          concatenate[0][0]                \n",
            "__________________________________________________________________________________________________\n",
            "conv2d_2 (Conv2D)               (None, 256, 256, 3)  153         concatenate[0][0]                \n",
            "__________________________________________________________________________________________________\n",
            "concatenate_1 (Concatenate)     (None, 256, 256, 9)  0           conv2d[0][0]                     \n",
            "                                                                 conv2d_1[0][0]                   \n",
            "                                                                 conv2d_2[0][0]                   \n",
            "__________________________________________________________________________________________________\n",
            "batch_normalization_v1 (BatchNo (None, 256, 256, 9)  36          concatenate_1[0][0]              \n",
            "__________________________________________________________________________________________________\n",
            "activation (Activation)         (None, 256, 256, 9)  0           batch_normalization_v1[0][0]     \n",
            "__________________________________________________________________________________________________\n",
            "conv2d_3 (Conv2D)               (None, 256, 256, 3)  246         activation[0][0]                 \n",
            "__________________________________________________________________________________________________\n",
            "lambda (Lambda)                 (None, 256, 256, 3)  0           conv2d_3[0][0]                   \n",
            "==================================================================================================\n",
            "Total params: 501\n",
            "Trainable params: 483\n",
            "Non-trainable params: 18\n",
            "__________________________________________________________________________________________________\n"
          ],
          "name": "stdout"
        }
      ]
    },
    {
      "cell_type": "markdown",
      "metadata": {
        "id": "yvK6hWhKq76V",
        "colab_type": "text"
      },
      "source": [
        "## Convert Model"
      ]
    },
    {
      "cell_type": "code",
      "metadata": {
        "id": "jRTYqcO7q_TP",
        "colab_type": "code",
        "colab": {
          "base_uri": "https://localhost:8080/",
          "height": 459
        },
        "outputId": "0bfb7408-25c9-4176-c0cb-d6d52c97fa09"
      },
      "source": [
        "# This address identifies the TPU we'll use when configuring TensorFlow.\n",
        "TPU_WORKER = 'grpc://' + os.environ['COLAB_TPU_ADDR']\n",
        "tf.logging.set_verbosity(tf.logging.INFO)\n",
        "\n",
        "def convert_model_TPU(model):\n",
        "  return tf.contrib.tpu.keras_to_tpu_model(model,strategy=tf.contrib.tpu.TPUDistributionStrategy(tf.contrib.cluster_resolver.TPUClusterResolver(TPU_WORKER)))\n",
        "\n",
        "model=convert_model_TPU(model)"
      ],
      "execution_count": 8,
      "outputs": [
        {
          "output_type": "stream",
          "text": [
            "\n",
            "WARNING: The TensorFlow contrib module will not be included in TensorFlow 2.0.\n",
            "For more information, please see:\n",
            "  * https://github.com/tensorflow/community/blob/master/rfcs/20180907-contrib-sunset.md\n",
            "  * https://github.com/tensorflow/addons\n",
            "If you depend on functionality not listed there, please file an issue.\n",
            "\n",
            "INFO:tensorflow:Querying Tensorflow master (grpc://10.101.157.130:8470) for TPU system metadata.\n",
            "INFO:tensorflow:Found TPU system:\n",
            "INFO:tensorflow:*** Num TPU Cores: 8\n",
            "INFO:tensorflow:*** Num TPU Workers: 1\n",
            "INFO:tensorflow:*** Num TPU Cores Per Worker: 8\n",
            "INFO:tensorflow:*** Available Device: _DeviceAttributes(/job:worker/replica:0/task:0/device:CPU:0, CPU, -1, 4761961009959105818)\n",
            "INFO:tensorflow:*** Available Device: _DeviceAttributes(/job:worker/replica:0/task:0/device:XLA_CPU:0, XLA_CPU, 17179869184, 5638059082635466872)\n",
            "INFO:tensorflow:*** Available Device: _DeviceAttributes(/job:worker/replica:0/task:0/device:TPU:0, TPU, 17179869184, 18016856909551166751)\n",
            "INFO:tensorflow:*** Available Device: _DeviceAttributes(/job:worker/replica:0/task:0/device:TPU:1, TPU, 17179869184, 6947801159749927165)\n",
            "INFO:tensorflow:*** Available Device: _DeviceAttributes(/job:worker/replica:0/task:0/device:TPU:2, TPU, 17179869184, 17060972187671535414)\n",
            "INFO:tensorflow:*** Available Device: _DeviceAttributes(/job:worker/replica:0/task:0/device:TPU:3, TPU, 17179869184, 16873963880719943249)\n",
            "INFO:tensorflow:*** Available Device: _DeviceAttributes(/job:worker/replica:0/task:0/device:TPU:4, TPU, 17179869184, 1523699779303488709)\n",
            "INFO:tensorflow:*** Available Device: _DeviceAttributes(/job:worker/replica:0/task:0/device:TPU:5, TPU, 17179869184, 14906596199184025070)\n",
            "INFO:tensorflow:*** Available Device: _DeviceAttributes(/job:worker/replica:0/task:0/device:TPU:6, TPU, 17179869184, 18303067172786003934)\n",
            "INFO:tensorflow:*** Available Device: _DeviceAttributes(/job:worker/replica:0/task:0/device:TPU:7, TPU, 17179869184, 11387980976858962598)\n",
            "INFO:tensorflow:*** Available Device: _DeviceAttributes(/job:worker/replica:0/task:0/device:TPU_SYSTEM:0, TPU_SYSTEM, 8589934592, 16995379351701383568)\n",
            "WARNING:tensorflow:tpu_model (from tensorflow.contrib.tpu.python.tpu.keras_support) is experimental and may change or be removed at any time, and without warning.\n",
            "INFO:tensorflow:Cloning Adam {'lr': 0.009999999776482582, 'beta_1': 0.8999999761581421, 'beta_2': 0.9990000128746033, 'decay': 0.0, 'epsilon': 1e-07, 'amsgrad': False}\n",
            "INFO:tensorflow:Cloning Adam {'lr': 0.009999999776482582, 'beta_1': 0.8999999761581421, 'beta_2': 0.9990000128746033, 'decay': 0.0, 'epsilon': 1e-07, 'amsgrad': False}\n"
          ],
          "name": "stdout"
        }
      ]
    },
    {
      "cell_type": "markdown",
      "metadata": {
        "id": "t4h63-NErE3-",
        "colab_type": "text"
      },
      "source": [
        "## Training Parameters"
      ]
    },
    {
      "cell_type": "code",
      "metadata": {
        "id": "W5re3IevrabJ",
        "colab_type": "code",
        "colab": {}
      },
      "source": [
        "epochs=250\n",
        "batch_size=30"
      ],
      "execution_count": 0,
      "outputs": []
    },
    {
      "cell_type": "markdown",
      "metadata": {
        "id": "eUciP9F4rcn0",
        "colab_type": "text"
      },
      "source": [
        "## Train"
      ]
    },
    {
      "cell_type": "code",
      "metadata": {
        "id": "xjOg3cMPri4k",
        "colab_type": "code",
        "colab": {
          "base_uri": "https://localhost:8080/",
          "height": 1000
        },
        "outputId": "d7f116f9-d4c7-429d-aab1-6d02f8fe5790"
      },
      "source": [
        "history=model.fit([Xs,Xm],Y,epochs=epochs,batch_size=batch_size, verbose=1)"
      ],
      "execution_count": 10,
      "outputs": [
        {
          "output_type": "stream",
          "text": [
            "Epoch 1/250\n",
            "INFO:tensorflow:New input shapes; (re-)compiling: mode=train (# of cores 8), [TensorSpec(shape=(3,), dtype=tf.int32, name='core_id0'), TensorSpec(shape=(3, 256, 256, 1), dtype=tf.float32, name='input_1_10'), TensorSpec(shape=(3, 256, 256, 1), dtype=tf.float32, name='input_2_10'), TensorSpec(shape=(3, 256, 256, 3), dtype=tf.float32, name='lambda_target_30')]\n",
            "INFO:tensorflow:Overriding default placeholder.\n",
            "INFO:tensorflow:Cloning Adam {'lr': 0.009999999776482582, 'beta_1': 0.8999999761581421, 'beta_2': 0.9990000128746033, 'decay': 0.0, 'epsilon': 1e-07, 'amsgrad': False}\n",
            "INFO:tensorflow:Remapping placeholder for input_1\n",
            "INFO:tensorflow:Remapping placeholder for input_2\n",
            "WARNING:tensorflow:From /usr/local/lib/python3.6/dist-packages/tensorflow/contrib/tpu/python/tpu/keras_support.py:302: to_float (from tensorflow.python.ops.math_ops) is deprecated and will be removed in a future version.\n",
            "Instructions for updating:\n",
            "Use tf.cast instead.\n",
            "INFO:tensorflow:KerasCrossShard: <tensorflow.python.keras.optimizers.Adam object at 0x7f04d8583cc0> []\n",
            "WARNING:tensorflow:From /usr/local/lib/python3.6/dist-packages/tensorflow/python/ops/math_ops.py:3066: to_int32 (from tensorflow.python.ops.math_ops) is deprecated and will be removed in a future version.\n",
            "Instructions for updating:\n",
            "Use tf.cast instead.\n",
            "WARNING:tensorflow:From /usr/local/lib/python3.6/dist-packages/tensorflow/python/ops/math_grad.py:102: div (from tensorflow.python.ops.math_ops) is deprecated and will be removed in a future version.\n",
            "Instructions for updating:\n",
            "Deprecated in favor of operator or tf.math.divide.\n",
            "INFO:tensorflow:Started compiling\n",
            "INFO:tensorflow:Finished compiling. Time elapsed: 7.158541202545166 secs\n",
            "INFO:tensorflow:Setting weights on TPU model.\n",
            "INFO:tensorflow:CPU -> TPU lr: 0.009999999776482582 {0.01}\n",
            "INFO:tensorflow:CPU -> TPU beta_1: 0.8999999761581421 {0.9}\n",
            "INFO:tensorflow:CPU -> TPU beta_2: 0.9990000128746033 {0.999}\n",
            "INFO:tensorflow:CPU -> TPU decay: 0.0 {0.0}\n",
            "WARNING:tensorflow:Cannot update non-variable config: epsilon\n",
            "WARNING:tensorflow:Cannot update non-variable config: amsgrad\n",
            "630/672 [===========================>..] - ETA: 1s - loss: 0.3346INFO:tensorflow:New input shapes; (re-)compiling: mode=train (# of cores 8), [TensorSpec(shape=(1,), dtype=tf.int32, name='core_id0'), TensorSpec(shape=(1, 256, 256, 1), dtype=tf.float32, name='input_1_10'), TensorSpec(shape=(1, 256, 256, 1), dtype=tf.float32, name='input_2_10'), TensorSpec(shape=(1, 256, 256, 3), dtype=tf.float32, name='lambda_target_30')]\n",
            "INFO:tensorflow:Overriding default placeholder.\n",
            "INFO:tensorflow:Remapping placeholder for input_1\n",
            "INFO:tensorflow:Remapping placeholder for input_2\n",
            "INFO:tensorflow:KerasCrossShard: <tensorflow.python.keras.optimizers.Adam object at 0x7f04d8583cc0> [<tf.Variable 'tpu_139658788042008/Adam/iterations:0' shape=() dtype=int64>, <tensorflow.contrib.tpu.python.tpu.keras_tpu_variables.ReplicatedVariable object at 0x7f04d7a8f550>, <tensorflow.contrib.tpu.python.tpu.keras_tpu_variables.ReplicatedVariable object at 0x7f04d7a8fe10>, <tensorflow.contrib.tpu.python.tpu.keras_tpu_variables.ReplicatedVariable object at 0x7f04d7a50198>, <tensorflow.contrib.tpu.python.tpu.keras_tpu_variables.ReplicatedVariable object at 0x7f04d7a371d0>, <tensorflow.contrib.tpu.python.tpu.keras_tpu_variables.ReplicatedVariable object at 0x7f04d79bc7b8>, <tensorflow.contrib.tpu.python.tpu.keras_tpu_variables.ReplicatedVariable object at 0x7f04d79f5ac8>, <tensorflow.contrib.tpu.python.tpu.keras_tpu_variables.ReplicatedVariable object at 0x7f04d79873c8>, <tensorflow.contrib.tpu.python.tpu.keras_tpu_variables.ReplicatedVariable object at 0x7f04d78d1a58>, <tensorflow.contrib.tpu.python.tpu.keras_tpu_variables.ReplicatedVariable object at 0x7f04d7861f28>, <tensorflow.contrib.tpu.python.tpu.keras_tpu_variables.ReplicatedVariable object at 0x7f04d7828be0>, <tensorflow.contrib.tpu.python.tpu.keras_tpu_variables.ReplicatedVariable object at 0x7f04d77f4978>, <tensorflow.contrib.tpu.python.tpu.keras_tpu_variables.ReplicatedVariable object at 0x7f04d77bca90>, <tensorflow.contrib.tpu.python.tpu.keras_tpu_variables.ReplicatedVariable object at 0x7f04d7787d30>, <tensorflow.contrib.tpu.python.tpu.keras_tpu_variables.ReplicatedVariable object at 0x7f04d76f12b0>, <tensorflow.contrib.tpu.python.tpu.keras_tpu_variables.ReplicatedVariable object at 0x7f04d774ef98>, <tensorflow.contrib.tpu.python.tpu.keras_tpu_variables.ReplicatedVariable object at 0x7f04d765ee10>, <tensorflow.contrib.tpu.python.tpu.keras_tpu_variables.ReplicatedVariable object at 0x7f04d764ff60>, <tensorflow.contrib.tpu.python.tpu.keras_tpu_variables.ReplicatedVariable object at 0x7f04d75f3f60>, <tensorflow.contrib.tpu.python.tpu.keras_tpu_variables.ReplicatedVariable object at 0x7f04d755f860>, <tensorflow.contrib.tpu.python.tpu.keras_tpu_variables.ReplicatedVariable object at 0x7f04d7528e10>, <tensorflow.contrib.tpu.python.tpu.keras_tpu_variables.ReplicatedVariable object at 0x7f04d74f1470>, <tensorflow.contrib.tpu.python.tpu.keras_tpu_variables.ReplicatedVariable object at 0x7f04d745d5f8>, <tensorflow.contrib.tpu.python.tpu.keras_tpu_variables.ReplicatedVariable object at 0x7f04d7429fd0>, <tensorflow.contrib.tpu.python.tpu.keras_tpu_variables.ReplicatedVariable object at 0x7f04d73efe10>, <tensorflow.contrib.tpu.python.tpu.keras_tpu_variables.ReplicatedVariable object at 0x7f04d7380c88>, <tensorflow.contrib.tpu.python.tpu.keras_tpu_variables.ReplicatedVariable object at 0x7f04d7324f28>, <tensorflow.contrib.tpu.python.tpu.keras_tpu_variables.ReplicatedVariable object at 0x7f04d72eefd0>, <tensorflow.contrib.tpu.python.tpu.keras_tpu_variables.ReplicatedVariable object at 0x7f04d72b6e10>, <tensorflow.contrib.tpu.python.tpu.keras_tpu_variables.ReplicatedVariable object at 0x7f04d7224be0>, <tensorflow.contrib.tpu.python.tpu.keras_tpu_variables.ReplicatedVariable object at 0x7f04d71ec748>]\n",
            "INFO:tensorflow:Started compiling\n",
            "INFO:tensorflow:Finished compiling. Time elapsed: 4.767093896865845 secs\n",
            "672/672 [==============================] - 31s 46ms/sample - loss: 0.3153\n",
            "Epoch 2/250\n",
            "672/672 [==============================] - 6s 9ms/sample - loss: 0.0170\n",
            "Epoch 3/250\n",
            "672/672 [==============================] - 6s 8ms/sample - loss: 0.0157\n",
            "Epoch 4/250\n",
            "672/672 [==============================] - 5s 8ms/sample - loss: 0.0150\n",
            "Epoch 5/250\n",
            "672/672 [==============================] - 5s 8ms/sample - loss: 0.0144\n",
            "Epoch 6/250\n",
            "672/672 [==============================] - 5s 8ms/sample - loss: 0.0144\n",
            "Epoch 7/250\n",
            "672/672 [==============================] - 5s 8ms/sample - loss: 0.0127\n",
            "Epoch 8/250\n",
            "672/672 [==============================] - 5s 8ms/sample - loss: 0.0152\n",
            "Epoch 9/250\n",
            "672/672 [==============================] - 5s 8ms/sample - loss: 0.0134\n",
            "Epoch 10/250\n",
            "672/672 [==============================] - 5s 8ms/sample - loss: 0.0147\n",
            "Epoch 11/250\n",
            "672/672 [==============================] - 5s 8ms/sample - loss: 0.0143\n",
            "Epoch 12/250\n",
            "672/672 [==============================] - 6s 9ms/sample - loss: 0.0152\n",
            "Epoch 13/250\n",
            "672/672 [==============================] - 5s 8ms/sample - loss: 0.0143\n",
            "Epoch 14/250\n",
            "672/672 [==============================] - 5s 8ms/sample - loss: 0.0131\n",
            "Epoch 15/250\n",
            "672/672 [==============================] - 5s 8ms/sample - loss: 0.0137\n",
            "Epoch 16/250\n",
            "672/672 [==============================] - 6s 8ms/sample - loss: 0.0138\n",
            "Epoch 17/250\n",
            "672/672 [==============================] - 5s 8ms/sample - loss: 0.0142\n",
            "Epoch 18/250\n",
            "672/672 [==============================] - 5s 8ms/sample - loss: 0.0136\n",
            "Epoch 19/250\n",
            "672/672 [==============================] - 5s 8ms/sample - loss: 0.0138\n",
            "Epoch 20/250\n",
            "672/672 [==============================] - 5s 8ms/sample - loss: 0.0135\n",
            "Epoch 21/250\n",
            "672/672 [==============================] - 5s 8ms/sample - loss: 0.0145\n",
            "Epoch 22/250\n",
            "672/672 [==============================] - 5s 8ms/sample - loss: 0.0143\n",
            "Epoch 23/250\n",
            "672/672 [==============================] - 5s 8ms/sample - loss: 0.0144\n",
            "Epoch 24/250\n",
            "672/672 [==============================] - 5s 8ms/sample - loss: 0.0138\n",
            "Epoch 25/250\n",
            "672/672 [==============================] - 5s 8ms/sample - loss: 0.0131\n",
            "Epoch 26/250\n",
            "672/672 [==============================] - 5s 8ms/sample - loss: 0.0155\n",
            "Epoch 27/250\n",
            "672/672 [==============================] - 5s 8ms/sample - loss: 0.0135\n",
            "Epoch 28/250\n",
            "672/672 [==============================] - 5s 8ms/sample - loss: 0.0135\n",
            "Epoch 29/250\n",
            "672/672 [==============================] - 5s 8ms/sample - loss: 0.0143\n",
            "Epoch 30/250\n",
            "672/672 [==============================] - 5s 8ms/sample - loss: 0.0138\n",
            "Epoch 31/250\n",
            "672/672 [==============================] - 5s 8ms/sample - loss: 0.0121\n",
            "Epoch 32/250\n",
            "672/672 [==============================] - 5s 8ms/sample - loss: 0.0130\n",
            "Epoch 33/250\n",
            "672/672 [==============================] - 5s 8ms/sample - loss: 0.0141\n",
            "Epoch 34/250\n",
            "672/672 [==============================] - 5s 8ms/sample - loss: 0.0135\n",
            "Epoch 35/250\n",
            "672/672 [==============================] - 5s 8ms/sample - loss: 0.0124\n",
            "Epoch 36/250\n",
            "672/672 [==============================] - 5s 8ms/sample - loss: 0.0122\n",
            "Epoch 37/250\n",
            "672/672 [==============================] - 6s 8ms/sample - loss: 0.0136\n",
            "Epoch 38/250\n",
            "672/672 [==============================] - 5s 8ms/sample - loss: 0.0159\n",
            "Epoch 39/250\n",
            "672/672 [==============================] - 5s 8ms/sample - loss: 0.0137\n",
            "Epoch 40/250\n",
            "672/672 [==============================] - 6s 8ms/sample - loss: 0.0137\n",
            "Epoch 41/250\n",
            "672/672 [==============================] - 5s 8ms/sample - loss: 0.0132\n",
            "Epoch 42/250\n",
            "672/672 [==============================] - 5s 8ms/sample - loss: 0.0126\n",
            "Epoch 43/250\n",
            "672/672 [==============================] - 5s 8ms/sample - loss: 0.0123\n",
            "Epoch 44/250\n",
            "672/672 [==============================] - 5s 8ms/sample - loss: 0.0112\n",
            "Epoch 45/250\n",
            "672/672 [==============================] - 6s 8ms/sample - loss: 0.0119\n",
            "Epoch 46/250\n",
            "672/672 [==============================] - 6s 8ms/sample - loss: 0.0121\n",
            "Epoch 47/250\n",
            "672/672 [==============================] - 6s 9ms/sample - loss: 0.0111\n",
            "Epoch 48/250\n",
            "672/672 [==============================] - 6s 9ms/sample - loss: 0.0114\n",
            "Epoch 49/250\n",
            "672/672 [==============================] - 6s 9ms/sample - loss: 0.0120\n",
            "Epoch 50/250\n",
            "672/672 [==============================] - 5s 8ms/sample - loss: 0.0111\n",
            "Epoch 51/250\n",
            "672/672 [==============================] - 5s 8ms/sample - loss: 0.0121\n",
            "Epoch 52/250\n",
            "672/672 [==============================] - 5s 8ms/sample - loss: 0.0119\n",
            "Epoch 53/250\n",
            "672/672 [==============================] - 5s 8ms/sample - loss: 0.0117\n",
            "Epoch 54/250\n",
            "672/672 [==============================] - 5s 8ms/sample - loss: 0.0111\n",
            "Epoch 55/250\n",
            "672/672 [==============================] - 6s 8ms/sample - loss: 0.0119\n",
            "Epoch 56/250\n",
            "672/672 [==============================] - 5s 8ms/sample - loss: 0.0118\n",
            "Epoch 57/250\n",
            "672/672 [==============================] - 5s 8ms/sample - loss: 0.0119\n",
            "Epoch 58/250\n",
            "672/672 [==============================] - 5s 8ms/sample - loss: 0.0126\n",
            "Epoch 59/250\n",
            "672/672 [==============================] - 5s 8ms/sample - loss: 0.0106\n",
            "Epoch 60/250\n",
            "672/672 [==============================] - 6s 8ms/sample - loss: 0.0118\n",
            "Epoch 61/250\n",
            "672/672 [==============================] - 5s 8ms/sample - loss: 0.0124\n",
            "Epoch 62/250\n",
            "672/672 [==============================] - 5s 8ms/sample - loss: 0.0123\n",
            "Epoch 63/250\n",
            "672/672 [==============================] - 5s 8ms/sample - loss: 0.0124\n",
            "Epoch 64/250\n",
            "672/672 [==============================] - 5s 8ms/sample - loss: 0.0118\n",
            "Epoch 65/250\n",
            "672/672 [==============================] - 5s 8ms/sample - loss: 0.0113\n",
            "Epoch 66/250\n",
            "672/672 [==============================] - 5s 8ms/sample - loss: 0.0120\n",
            "Epoch 67/250\n",
            "672/672 [==============================] - 5s 8ms/sample - loss: 0.0122\n",
            "Epoch 68/250\n",
            "672/672 [==============================] - 6s 8ms/sample - loss: 0.0119\n",
            "Epoch 69/250\n",
            "672/672 [==============================] - 6s 9ms/sample - loss: 0.0119\n",
            "Epoch 70/250\n",
            "672/672 [==============================] - 5s 8ms/sample - loss: 0.0122\n",
            "Epoch 71/250\n",
            "672/672 [==============================] - 5s 8ms/sample - loss: 0.0118\n",
            "Epoch 72/250\n",
            "672/672 [==============================] - 5s 8ms/sample - loss: 0.0111\n",
            "Epoch 73/250\n",
            "672/672 [==============================] - 6s 8ms/sample - loss: 0.0106\n",
            "Epoch 74/250\n",
            "672/672 [==============================] - 5s 8ms/sample - loss: 0.0120\n",
            "Epoch 75/250\n",
            "672/672 [==============================] - 6s 8ms/sample - loss: 0.0121\n",
            "Epoch 76/250\n",
            "672/672 [==============================] - 5s 8ms/sample - loss: 0.0119\n",
            "Epoch 77/250\n",
            "672/672 [==============================] - 5s 8ms/sample - loss: 0.0123\n",
            "Epoch 78/250\n",
            "672/672 [==============================] - 6s 8ms/sample - loss: 0.0111\n",
            "Epoch 79/250\n",
            "672/672 [==============================] - 5s 8ms/sample - loss: 0.0121\n",
            "Epoch 80/250\n",
            "672/672 [==============================] - 6s 8ms/sample - loss: 0.0108\n",
            "Epoch 81/250\n",
            "672/672 [==============================] - 5s 8ms/sample - loss: 0.0113\n",
            "Epoch 82/250\n",
            "672/672 [==============================] - 5s 8ms/sample - loss: 0.0122\n",
            "Epoch 83/250\n",
            "672/672 [==============================] - 6s 8ms/sample - loss: 0.0116\n",
            "Epoch 84/250\n",
            "672/672 [==============================] - 5s 8ms/sample - loss: 0.0115\n",
            "Epoch 85/250\n",
            "672/672 [==============================] - 5s 8ms/sample - loss: 0.0121\n",
            "Epoch 86/250\n",
            "672/672 [==============================] - 6s 8ms/sample - loss: 0.0098\n",
            "Epoch 87/250\n",
            "672/672 [==============================] - 5s 8ms/sample - loss: 0.0118\n",
            "Epoch 88/250\n",
            "672/672 [==============================] - 6s 8ms/sample - loss: 0.0115\n",
            "Epoch 89/250\n",
            "672/672 [==============================] - 5s 8ms/sample - loss: 0.0116\n",
            "Epoch 90/250\n",
            "672/672 [==============================] - 5s 8ms/sample - loss: 0.0115\n",
            "Epoch 91/250\n",
            "672/672 [==============================] - 5s 8ms/sample - loss: 0.0101\n",
            "Epoch 92/250\n",
            "672/672 [==============================] - 6s 8ms/sample - loss: 0.0113\n",
            "Epoch 93/250\n",
            "672/672 [==============================] - 5s 8ms/sample - loss: 0.0115\n",
            "Epoch 94/250\n",
            "672/672 [==============================] - 5s 8ms/sample - loss: 0.0119\n",
            "Epoch 95/250\n",
            "672/672 [==============================] - 6s 8ms/sample - loss: 0.0120\n",
            "Epoch 96/250\n",
            "672/672 [==============================] - 5s 8ms/sample - loss: 0.0108\n",
            "Epoch 97/250\n",
            "672/672 [==============================] - 5s 8ms/sample - loss: 0.0119\n",
            "Epoch 98/250\n",
            "672/672 [==============================] - 5s 8ms/sample - loss: 0.0110\n",
            "Epoch 99/250\n",
            "672/672 [==============================] - 5s 8ms/sample - loss: 0.0126\n",
            "Epoch 100/250\n",
            "672/672 [==============================] - 5s 8ms/sample - loss: 0.0123\n",
            "Epoch 101/250\n",
            "672/672 [==============================] - 5s 8ms/sample - loss: 0.0115\n",
            "Epoch 102/250\n",
            "672/672 [==============================] - 5s 8ms/sample - loss: 0.0115\n",
            "Epoch 103/250\n",
            "672/672 [==============================] - 5s 8ms/sample - loss: 0.0111\n",
            "Epoch 104/250\n",
            "672/672 [==============================] - 5s 8ms/sample - loss: 0.0099\n",
            "Epoch 105/250\n",
            "672/672 [==============================] - 5s 8ms/sample - loss: 0.0115\n",
            "Epoch 106/250\n",
            "672/672 [==============================] - 5s 8ms/sample - loss: 0.0119\n",
            "Epoch 107/250\n",
            "672/672 [==============================] - 5s 8ms/sample - loss: 0.0106\n",
            "Epoch 108/250\n",
            "672/672 [==============================] - 5s 8ms/sample - loss: 0.0117\n",
            "Epoch 109/250\n",
            "672/672 [==============================] - 5s 8ms/sample - loss: 0.0112\n",
            "Epoch 110/250\n",
            "672/672 [==============================] - 6s 8ms/sample - loss: 0.0113\n",
            "Epoch 111/250\n",
            "672/672 [==============================] - 5s 8ms/sample - loss: 0.0114\n",
            "Epoch 112/250\n",
            "672/672 [==============================] - 5s 8ms/sample - loss: 0.0112\n",
            "Epoch 113/250\n",
            "672/672 [==============================] - 5s 8ms/sample - loss: 0.0114\n",
            "Epoch 114/250\n",
            "672/672 [==============================] - 5s 8ms/sample - loss: 0.0104\n",
            "Epoch 115/250\n",
            "672/672 [==============================] - 5s 8ms/sample - loss: 0.0121\n",
            "Epoch 116/250\n",
            "672/672 [==============================] - 5s 8ms/sample - loss: 0.0105\n",
            "Epoch 117/250\n",
            "672/672 [==============================] - 6s 8ms/sample - loss: 0.0115\n",
            "Epoch 118/250\n",
            "672/672 [==============================] - 5s 8ms/sample - loss: 0.0115\n",
            "Epoch 119/250\n",
            "672/672 [==============================] - 5s 8ms/sample - loss: 0.0110\n",
            "Epoch 120/250\n",
            "672/672 [==============================] - 6s 8ms/sample - loss: 0.0114\n",
            "Epoch 121/250\n",
            "672/672 [==============================] - 5s 8ms/sample - loss: 0.0115\n",
            "Epoch 122/250\n",
            "672/672 [==============================] - 5s 8ms/sample - loss: 0.0110\n",
            "Epoch 123/250\n",
            "672/672 [==============================] - 5s 8ms/sample - loss: 0.0116\n",
            "Epoch 124/250\n",
            "672/672 [==============================] - 5s 8ms/sample - loss: 0.0100\n",
            "Epoch 125/250\n",
            "672/672 [==============================] - 5s 8ms/sample - loss: 0.0113\n",
            "Epoch 126/250\n",
            "672/672 [==============================] - 5s 8ms/sample - loss: 0.0116\n",
            "Epoch 127/250\n",
            "672/672 [==============================] - 5s 8ms/sample - loss: 0.0100\n",
            "Epoch 128/250\n",
            "672/672 [==============================] - 5s 8ms/sample - loss: 0.0114\n",
            "Epoch 129/250\n",
            "672/672 [==============================] - 5s 8ms/sample - loss: 0.0112\n",
            "Epoch 130/250\n",
            "672/672 [==============================] - 5s 8ms/sample - loss: 0.0113\n",
            "Epoch 131/250\n",
            "672/672 [==============================] - 5s 8ms/sample - loss: 0.0115\n",
            "Epoch 132/250\n",
            "672/672 [==============================] - 5s 8ms/sample - loss: 0.0115\n",
            "Epoch 133/250\n",
            "672/672 [==============================] - 5s 8ms/sample - loss: 0.0113\n",
            "Epoch 134/250\n",
            "672/672 [==============================] - 5s 8ms/sample - loss: 0.0101\n",
            "Epoch 135/250\n",
            "672/672 [==============================] - 6s 8ms/sample - loss: 0.0117\n",
            "Epoch 136/250\n",
            "672/672 [==============================] - 6s 8ms/sample - loss: 0.0116\n",
            "Epoch 137/250\n",
            "672/672 [==============================] - 5s 8ms/sample - loss: 0.0121\n",
            "Epoch 138/250\n",
            "672/672 [==============================] - 5s 8ms/sample - loss: 0.0123\n",
            "Epoch 139/250\n",
            "672/672 [==============================] - 6s 8ms/sample - loss: 0.0122\n",
            "Epoch 140/250\n",
            "672/672 [==============================] - 5s 8ms/sample - loss: 0.0116\n",
            "Epoch 141/250\n",
            "672/672 [==============================] - 5s 8ms/sample - loss: 0.0114\n",
            "Epoch 142/250\n",
            "672/672 [==============================] - 5s 8ms/sample - loss: 0.0118\n",
            "Epoch 143/250\n",
            "672/672 [==============================] - 5s 8ms/sample - loss: 0.0104\n",
            "Epoch 144/250\n",
            "672/672 [==============================] - 5s 8ms/sample - loss: 0.0113\n",
            "Epoch 145/250\n",
            "672/672 [==============================] - 5s 8ms/sample - loss: 0.0102\n",
            "Epoch 146/250\n",
            "672/672 [==============================] - 5s 8ms/sample - loss: 0.0112\n",
            "Epoch 147/250\n",
            "672/672 [==============================] - 5s 8ms/sample - loss: 0.0099\n",
            "Epoch 148/250\n",
            "672/672 [==============================] - 6s 8ms/sample - loss: 0.0110\n",
            "Epoch 149/250\n",
            "672/672 [==============================] - 6s 8ms/sample - loss: 0.0102\n",
            "Epoch 150/250\n",
            "672/672 [==============================] - 6s 8ms/sample - loss: 0.0111\n",
            "Epoch 151/250\n",
            "672/672 [==============================] - 6s 8ms/sample - loss: 0.0115\n",
            "Epoch 152/250\n",
            "672/672 [==============================] - 5s 8ms/sample - loss: 0.0116\n",
            "Epoch 153/250\n",
            "672/672 [==============================] - 5s 8ms/sample - loss: 0.0100\n",
            "Epoch 154/250\n",
            "672/672 [==============================] - 5s 8ms/sample - loss: 0.0098\n",
            "Epoch 155/250\n",
            "672/672 [==============================] - 5s 8ms/sample - loss: 0.0111\n",
            "Epoch 156/250\n",
            "672/672 [==============================] - 5s 8ms/sample - loss: 0.0120\n",
            "Epoch 157/250\n",
            "672/672 [==============================] - 5s 8ms/sample - loss: 0.0115\n",
            "Epoch 158/250\n",
            "672/672 [==============================] - 5s 8ms/sample - loss: 0.0118\n",
            "Epoch 159/250\n",
            "672/672 [==============================] - 5s 8ms/sample - loss: 0.0113\n",
            "Epoch 160/250\n",
            "672/672 [==============================] - 5s 8ms/sample - loss: 0.0101\n",
            "Epoch 161/250\n",
            "672/672 [==============================] - 5s 8ms/sample - loss: 0.0111\n",
            "Epoch 162/250\n",
            "672/672 [==============================] - 5s 8ms/sample - loss: 0.0104\n",
            "Epoch 163/250\n",
            "672/672 [==============================] - 5s 8ms/sample - loss: 0.0114\n",
            "Epoch 164/250\n",
            "672/672 [==============================] - 5s 8ms/sample - loss: 0.0117\n",
            "Epoch 165/250\n",
            "672/672 [==============================] - 5s 8ms/sample - loss: 0.0116\n",
            "Epoch 166/250\n",
            "672/672 [==============================] - 6s 8ms/sample - loss: 0.0122\n",
            "Epoch 167/250\n",
            "672/672 [==============================] - 5s 8ms/sample - loss: 0.0123\n",
            "Epoch 168/250\n",
            "672/672 [==============================] - 5s 8ms/sample - loss: 0.0114\n",
            "Epoch 169/250\n",
            "672/672 [==============================] - 5s 8ms/sample - loss: 0.0111\n",
            "Epoch 170/250\n",
            "672/672 [==============================] - 5s 8ms/sample - loss: 0.0108\n",
            "Epoch 171/250\n",
            "672/672 [==============================] - 5s 8ms/sample - loss: 0.0114\n",
            "Epoch 172/250\n",
            "672/672 [==============================] - 5s 8ms/sample - loss: 0.0111\n",
            "Epoch 173/250\n",
            "672/672 [==============================] - 5s 8ms/sample - loss: 0.0115\n",
            "Epoch 174/250\n",
            "672/672 [==============================] - 5s 8ms/sample - loss: 0.0114\n",
            "Epoch 175/250\n",
            "672/672 [==============================] - 5s 8ms/sample - loss: 0.0113\n",
            "Epoch 176/250\n",
            "672/672 [==============================] - 5s 8ms/sample - loss: 0.0103\n",
            "Epoch 177/250\n",
            "672/672 [==============================] - 5s 8ms/sample - loss: 0.0111\n",
            "Epoch 178/250\n",
            "672/672 [==============================] - 5s 8ms/sample - loss: 0.0104\n",
            "Epoch 179/250\n",
            "672/672 [==============================] - 5s 8ms/sample - loss: 0.0114\n",
            "Epoch 180/250\n",
            "672/672 [==============================] - 6s 8ms/sample - loss: 0.0104\n",
            "Epoch 181/250\n",
            "672/672 [==============================] - 6s 8ms/sample - loss: 0.0116\n",
            "Epoch 182/250\n",
            "672/672 [==============================] - 5s 8ms/sample - loss: 0.0114\n",
            "Epoch 183/250\n",
            "672/672 [==============================] - 6s 8ms/sample - loss: 0.0117\n",
            "Epoch 184/250\n",
            "672/672 [==============================] - 6s 8ms/sample - loss: 0.0122\n",
            "Epoch 185/250\n",
            "672/672 [==============================] - 6s 8ms/sample - loss: 0.0116\n",
            "Epoch 186/250\n",
            "672/672 [==============================] - 5s 8ms/sample - loss: 0.0114\n",
            "Epoch 187/250\n",
            "672/672 [==============================] - 6s 8ms/sample - loss: 0.0112\n",
            "Epoch 188/250\n",
            "672/672 [==============================] - 5s 8ms/sample - loss: 0.0114\n",
            "Epoch 189/250\n",
            "672/672 [==============================] - 5s 8ms/sample - loss: 0.0113\n",
            "Epoch 190/250\n",
            "672/672 [==============================] - 5s 8ms/sample - loss: 0.0109\n",
            "Epoch 191/250\n",
            "672/672 [==============================] - 5s 8ms/sample - loss: 0.0109\n",
            "Epoch 192/250\n",
            "672/672 [==============================] - 5s 8ms/sample - loss: 0.0110\n",
            "Epoch 193/250\n",
            "672/672 [==============================] - 6s 8ms/sample - loss: 0.0106\n",
            "Epoch 194/250\n",
            "672/672 [==============================] - 5s 8ms/sample - loss: 0.0113\n",
            "Epoch 195/250\n",
            "672/672 [==============================] - 5s 8ms/sample - loss: 0.0109\n",
            "Epoch 196/250\n",
            "672/672 [==============================] - 5s 8ms/sample - loss: 0.0112\n",
            "Epoch 197/250\n",
            "672/672 [==============================] - 6s 8ms/sample - loss: 0.0101\n",
            "Epoch 198/250\n",
            "672/672 [==============================] - 5s 8ms/sample - loss: 0.0107\n",
            "Epoch 199/250\n",
            "672/672 [==============================] - 5s 8ms/sample - loss: 0.0108\n",
            "Epoch 200/250\n",
            "672/672 [==============================] - 5s 8ms/sample - loss: 0.0108\n",
            "Epoch 201/250\n",
            "672/672 [==============================] - 5s 8ms/sample - loss: 0.0110\n",
            "Epoch 202/250\n",
            "672/672 [==============================] - 5s 8ms/sample - loss: 0.0110\n",
            "Epoch 203/250\n",
            "672/672 [==============================] - 5s 8ms/sample - loss: 0.0114\n",
            "Epoch 204/250\n",
            "672/672 [==============================] - 5s 8ms/sample - loss: 0.0112\n",
            "Epoch 205/250\n",
            "672/672 [==============================] - 5s 8ms/sample - loss: 0.0108\n",
            "Epoch 206/250\n",
            "672/672 [==============================] - 5s 8ms/sample - loss: 0.0106\n",
            "Epoch 207/250\n",
            "672/672 [==============================] - 5s 8ms/sample - loss: 0.0110\n",
            "Epoch 208/250\n",
            "672/672 [==============================] - 5s 8ms/sample - loss: 0.0107\n",
            "Epoch 209/250\n",
            "672/672 [==============================] - 5s 8ms/sample - loss: 0.0110\n",
            "Epoch 210/250\n",
            "672/672 [==============================] - 5s 8ms/sample - loss: 0.0110\n",
            "Epoch 211/250\n",
            "672/672 [==============================] - 5s 8ms/sample - loss: 0.0109\n",
            "Epoch 212/250\n",
            "672/672 [==============================] - 5s 8ms/sample - loss: 0.0110\n",
            "Epoch 213/250\n",
            "672/672 [==============================] - 5s 8ms/sample - loss: 0.0114\n",
            "Epoch 214/250\n",
            "672/672 [==============================] - 6s 8ms/sample - loss: 0.0104\n",
            "Epoch 215/250\n",
            "672/672 [==============================] - 5s 8ms/sample - loss: 0.0109\n",
            "Epoch 216/250\n",
            "672/672 [==============================] - 5s 8ms/sample - loss: 0.0108\n",
            "Epoch 217/250\n",
            "672/672 [==============================] - 5s 8ms/sample - loss: 0.0118\n",
            "Epoch 218/250\n",
            "672/672 [==============================] - 5s 8ms/sample - loss: 0.0114\n",
            "Epoch 219/250\n",
            "672/672 [==============================] - 6s 9ms/sample - loss: 0.0111\n",
            "Epoch 220/250\n",
            "672/672 [==============================] - 5s 8ms/sample - loss: 0.0107\n",
            "Epoch 221/250\n",
            "672/672 [==============================] - 5s 8ms/sample - loss: 0.0107\n",
            "Epoch 222/250\n",
            "672/672 [==============================] - 5s 8ms/sample - loss: 0.0105\n",
            "Epoch 223/250\n",
            "672/672 [==============================] - 5s 8ms/sample - loss: 0.0109\n",
            "Epoch 224/250\n",
            "672/672 [==============================] - 6s 8ms/sample - loss: 0.0104\n",
            "Epoch 225/250\n",
            "672/672 [==============================] - 5s 8ms/sample - loss: 0.0099\n",
            "Epoch 226/250\n",
            "672/672 [==============================] - 5s 8ms/sample - loss: 0.0111\n",
            "Epoch 227/250\n",
            "672/672 [==============================] - 6s 8ms/sample - loss: 0.0108\n",
            "Epoch 228/250\n",
            "672/672 [==============================] - 6s 8ms/sample - loss: 0.0104\n",
            "Epoch 229/250\n",
            "672/672 [==============================] - 5s 8ms/sample - loss: 0.0104\n",
            "Epoch 230/250\n",
            "672/672 [==============================] - 6s 8ms/sample - loss: 0.0105\n",
            "Epoch 231/250\n",
            "672/672 [==============================] - 5s 8ms/sample - loss: 0.0107\n",
            "Epoch 232/250\n",
            "672/672 [==============================] - 6s 8ms/sample - loss: 0.0107\n",
            "Epoch 233/250\n",
            "672/672 [==============================] - 6s 8ms/sample - loss: 0.0093\n",
            "Epoch 234/250\n",
            "672/672 [==============================] - 6s 8ms/sample - loss: 0.0092\n",
            "Epoch 235/250\n",
            "672/672 [==============================] - 5s 8ms/sample - loss: 0.0108\n",
            "Epoch 236/250\n",
            "672/672 [==============================] - 5s 8ms/sample - loss: 0.0094\n",
            "Epoch 237/250\n",
            "672/672 [==============================] - 5s 8ms/sample - loss: 0.0095\n",
            "Epoch 238/250\n",
            "672/672 [==============================] - 5s 8ms/sample - loss: 0.0108\n",
            "Epoch 239/250\n",
            "672/672 [==============================] - 5s 8ms/sample - loss: 0.0097\n",
            "Epoch 240/250\n",
            "672/672 [==============================] - 5s 8ms/sample - loss: 0.0106\n",
            "Epoch 241/250\n",
            "672/672 [==============================] - 6s 8ms/sample - loss: 0.0105\n",
            "Epoch 242/250\n",
            "672/672 [==============================] - 5s 8ms/sample - loss: 0.0102\n",
            "Epoch 243/250\n",
            "672/672 [==============================] - 5s 8ms/sample - loss: 0.0108\n",
            "Epoch 244/250\n",
            "672/672 [==============================] - 5s 8ms/sample - loss: 0.0112\n",
            "Epoch 245/250\n",
            "672/672 [==============================] - 5s 8ms/sample - loss: 0.0117\n",
            "Epoch 246/250\n",
            "672/672 [==============================] - 5s 8ms/sample - loss: 0.0096\n",
            "Epoch 247/250\n",
            "672/672 [==============================] - 5s 8ms/sample - loss: 0.0110\n",
            "Epoch 248/250\n",
            "672/672 [==============================] - 5s 8ms/sample - loss: 0.0100\n",
            "Epoch 249/250\n",
            "672/672 [==============================] - 5s 8ms/sample - loss: 0.0106\n",
            "Epoch 250/250\n",
            "672/672 [==============================] - 5s 8ms/sample - loss: 0.0105\n"
          ],
          "name": "stdout"
        }
      ]
    },
    {
      "cell_type": "markdown",
      "metadata": {
        "id": "S7BBVuVuryXA",
        "colab_type": "text"
      },
      "source": [
        "## Save Model Weights"
      ]
    },
    {
      "cell_type": "code",
      "metadata": {
        "id": "DheEY3klr16l",
        "colab_type": "code",
        "colab": {
          "base_uri": "https://localhost:8080/",
          "height": 170
        },
        "outputId": "dd9316a3-c327-4305-b616-3babf4039674"
      },
      "source": [
        "model.save_weights('fusion_net.h5')"
      ],
      "execution_count": 11,
      "outputs": [
        {
          "output_type": "stream",
          "text": [
            "INFO:tensorflow:Copying TPU weights to the CPU\n",
            "INFO:tensorflow:TPU -> CPU lr: 0.009999999776482582\n",
            "INFO:tensorflow:TPU -> CPU beta_1: 0.8999999761581421\n",
            "INFO:tensorflow:TPU -> CPU beta_2: 0.9990000128746033\n",
            "INFO:tensorflow:TPU -> CPU decay: 0.0\n",
            "INFO:tensorflow:TPU -> CPU epsilon: 1e-07\n",
            "WARNING:tensorflow:Cannot update non-variable config: epsilon\n",
            "INFO:tensorflow:TPU -> CPU amsgrad: False\n",
            "WARNING:tensorflow:Cannot update non-variable config: amsgrad\n"
          ],
          "name": "stdout"
        }
      ]
    },
    {
      "cell_type": "markdown",
      "metadata": {
        "id": "yLnYgdufr8jj",
        "colab_type": "text"
      },
      "source": [
        "## Plot Training Histoty"
      ]
    },
    {
      "cell_type": "code",
      "metadata": {
        "id": "6cFgKHr-svI0",
        "colab_type": "code",
        "colab": {
          "base_uri": "https://localhost:8080/",
          "height": 312
        },
        "outputId": "40e9412b-63cd-444f-c453-33d4f050c166"
      },
      "source": [
        "import matplotlib.pyplot as plt\n",
        "%matplotlib inline\n",
        "plt.plot(history.history['loss'])\n",
        "plt.title('model training')\n",
        "plt.ylabel('loss')\n",
        "plt.xlabel('epoch')\n",
        "plt.legend(['train'], loc='upper left')"
      ],
      "execution_count": 12,
      "outputs": [
        {
          "output_type": "execute_result",
          "data": {
            "text/plain": [
              "<matplotlib.legend.Legend at 0x7f04d45412b0>"
            ]
          },
          "metadata": {
            "tags": []
          },
          "execution_count": 12
        },
        {
          "output_type": "display_data",
          "data": {
            "image/png": "[encoded data removed]",
            "text/plain": [
              "<Figure size 432x288 with 1 Axes>"
            ]
          },
          "metadata": {
            "tags": []
          }
        }
      ]
    }
  ]
}